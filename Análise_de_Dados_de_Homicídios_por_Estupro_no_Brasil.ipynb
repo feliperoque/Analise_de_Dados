{
  "nbformat": 4,
  "nbformat_minor": 0,
  "metadata": {
    "colab": {
      "name": "Análise de Dados de Homicídios por Estupro no Brasil.ipynb",
      "provenance": [],
      "collapsed_sections": [],
      "toc_visible": true,
      "authorship_tag": "ABX9TyP0Q+/zEgCVPBfeAiBJJw01",
      "include_colab_link": true
    },
    "kernelspec": {
      "name": "python3",
      "display_name": "Python 3"
    },
    "language_info": {
      "name": "python"
    }
  },
  "cells": [
    {
      "cell_type": "markdown",
      "metadata": {
        "id": "view-in-github",
        "colab_type": "text"
      },
      "source": [
        "<a href=\"https://colab.research.google.com/github/feliperoque/Data_Science_Analysis/blob/master/An%C3%A1lise_de_Dados_de_Homic%C3%ADdios_por_Estupro_no_Brasil.ipynb\" target=\"_parent\"><img src=\"https://colab.research.google.com/assets/colab-badge.svg\" alt=\"Open In Colab\"/></a>"
      ]
    },
    {
      "cell_type": "markdown",
      "metadata": {
        "id": "2JosTitP6MD3"
      },
      "source": [
        "# **Análise dos Dados de Homicídios por Estupro no Brasil**"
      ]
    },
    {
      "cell_type": "markdown",
      "metadata": {
        "id": "zz2zBRBmPdrn"
      },
      "source": [
        "\n",
        "\n",
        "---\n",
        "\n"
      ]
    },
    {
      "cell_type": "markdown",
      "metadata": {
        "id": "vUnHgtu66Pgn"
      },
      "source": [
        "* Inicialmente dentro dessa análise, vamos: \n",
        "\n",
        "    1. Realizar o pré-processamento dos dados referente ao Brasil;\n",
        "    2. Realizar o pré-processamento dos dados referente a Região;\n",
        "    3. Realizar o pré-processamento dos dados referente a unidade federativa;\n",
        "    4. Analisar os dados referentes ao homicídios por estupro no ***Brasil***;\n",
        "    5. Analisar dos dados referentes ao homicídios de estupro em cada ***região do Brasil***;\n",
        "    6. Analisar os dados referentes ao homicídios de estupro por ***Unidade Federativa (UF)***;\n",
        "\n",
        "\n",
        "**OBS**: Os dados são proveninentes do IPEA (instituto de pesquisa econômica aplicada) via requisição de sua própria api disponibilizada em seu site. Para mais informações visite https://www.ipea.gov.br/atlasviolencia/api."
      ]
    },
    {
      "cell_type": "markdown",
      "metadata": {
        "id": "tx6ZMckT7MMw"
      },
      "source": [
        "\n",
        "\n",
        "---\n",
        "\n"
      ]
    },
    {
      "cell_type": "markdown",
      "metadata": {
        "id": "iE7lj0c1LAVs"
      },
      "source": [
        "# 1) **Pré-Processamento dos Dados**:"
      ]
    },
    {
      "cell_type": "markdown",
      "metadata": {
        "id": "VveRmre6Pcly"
      },
      "source": [
        "\n",
        "\n",
        "---\n",
        "\n"
      ]
    },
    {
      "cell_type": "code",
      "metadata": {
        "colab": {
          "base_uri": "https://localhost:8080/",
          "height": 0
        },
        "id": "TVsbauYU7aU9",
        "outputId": "1085b79d-a27f-4a17-bed1-b219e677680f"
      },
      "source": [
        "import urllib3\n",
        "import json\n",
        "import matplotlib.pyplot as plt\n",
        "import numpy as np\n",
        "import pandas as pd\n",
        "import plotly.express as px\n",
        "\n",
        "# DADOS DO ESTUPRO:\n",
        "#\n",
        "# Estupro no Brasil --> https://www.ipea.gov.br/atlasviolencia/api/v1/valores-series/89/1 \n",
        "# Estupro por Região --> https://www.ipea.gov.br/atlasviolencia/api/v1/valores-series/89/2\n",
        "# Estupro por UF --> https://www.ipea.gov.br/atlasviolencia/api/v1/valores-series/89/3\n",
        "# Estupro por Município --> Indisponível\n",
        "\n",
        "def DATA_ESTUPRO_BRASIL(URL):\n",
        "    http = urllib3.PoolManager()\n",
        "    data_estupro = http.request(\"GET\", URL)\n",
        "\n",
        "    if data_estupro.status == 200:\n",
        "        data = data_estupro.data.decode('utf-8')\n",
        "        data_json = json.loads(data)\n",
        "        df_1 = pd.DataFrame(data_json)\n",
        "\n",
        "    else:\n",
        "        data_estupro.raise_for_status()\n",
        "\n",
        "    return df_1\n",
        "\n",
        "def DATA_ESTUPRO_REGIAO(URL):\n",
        "    http = urllib3.PoolManager()\n",
        "    data_estupro = http.request(\"GET\", URL)\n",
        "    \n",
        "    if data_estupro.status == 200:\n",
        "        data = data_estupro.data.decode('utf-8')\n",
        "        data_json = json.loads(data)\n",
        "        df_2 = pd.DataFrame(data_json)\n",
        "\n",
        "    else:\n",
        "        data_estupro.raise_for_status()\n",
        "\n",
        "    return df_2\n",
        "\n",
        "def DATA_ESTUPRO_UF(URL):\n",
        "    http = urllib3.PoolManager()\n",
        "    data_estupro = http.request(\"GET\", URL)\n",
        "    \n",
        "    if data_estupro.status == 200:\n",
        "        data = data_estupro.data.decode('utf-8')\n",
        "        data_json = json.loads(data)\n",
        "        df_3 = pd.DataFrame(data_json)\n",
        "\n",
        "    else:\n",
        "        data_estupro.raise_for_status()\n",
        "\n",
        "    return df_3\n",
        "\n",
        "\n",
        "API_ESTUPRO_BRASIL = 'https://www.ipea.gov.br/atlasviolencia/api/v1/valores-series/89/1'\n",
        "API_ESTUPRO_REGIAO = 'https://www.ipea.gov.br/atlasviolencia/api/v1/valores-series/89/2'\n",
        "API_ESTUPRO_UF = 'https://www.ipea.gov.br/atlasviolencia/api/v1/valores-series/89/3'\n",
        "\n",
        "data_brasil = DATA_ESTUPRO_BRASIL(API_ESTUPRO_BRASIL)\n",
        "data_regiao = DATA_ESTUPRO_REGIAO(API_ESTUPRO_REGIAO)\n",
        "data_uf = DATA_ESTUPRO_UF(API_ESTUPRO_UF)\n"
      ],
      "execution_count": 1,
      "outputs": [
        {
          "output_type": "stream",
          "name": "stderr",
          "text": [
            "/usr/local/lib/python3.7/dist-packages/urllib3/connectionpool.py:847: InsecureRequestWarning: Unverified HTTPS request is being made. Adding certificate verification is strongly advised. See: https://urllib3.readthedocs.io/en/latest/advanced-usage.html#ssl-warnings\n",
            "  InsecureRequestWarning)\n",
            "/usr/local/lib/python3.7/dist-packages/urllib3/connectionpool.py:847: InsecureRequestWarning: Unverified HTTPS request is being made. Adding certificate verification is strongly advised. See: https://urllib3.readthedocs.io/en/latest/advanced-usage.html#ssl-warnings\n",
            "  InsecureRequestWarning)\n",
            "/usr/local/lib/python3.7/dist-packages/urllib3/connectionpool.py:847: InsecureRequestWarning: Unverified HTTPS request is being made. Adding certificate verification is strongly advised. See: https://urllib3.readthedocs.io/en/latest/advanced-usage.html#ssl-warnings\n",
            "  InsecureRequestWarning)\n"
          ]
        }
      ]
    },
    {
      "cell_type": "markdown",
      "metadata": {
        "id": "yAYidbEK7-cL"
      },
      "source": [
        "* Temos agora três dataframes:\n",
        "\n",
        "  1. **data_brasil** referente a série temporal nos periodos de 2011 a 2016;\n",
        "\n",
        "  2. **data_regiao** referente a série temporal nos periodos de 2011 a 2016 por região do país;\n",
        "\n",
        "  3. **data_uf** referente a série temporal nos peridos de 2011 a 2016 por unidade federativa;\n",
        "\n",
        "* Vamos iniciar nossa análise no que se refere aos dados contidos em ***data_brasil*** exibindo primeiro a estrutura do seu dataframe."
      ]
    },
    {
      "cell_type": "markdown",
      "metadata": {
        "id": "HHXhu_NNMNql"
      },
      "source": [
        "### 1.1) **Pré-processamento do Dataframe `data_brasil`**:"
      ]
    },
    {
      "cell_type": "markdown",
      "metadata": {
        "id": "QuXNRrINZDhd"
      },
      "source": [
        "* Realizando uma pequena observação preliminar do cabeçalho do dataframe. Percebemos que há 4 colunas:\n",
        "\n",
        "  * `cod`: contém o código (desnecessário para nossa análise);\n",
        "\n",
        "  * `sigla`: contém as sigla do país que estamos trabalho (no caso o Brasil);\n",
        "\n",
        "  * `valor`: contém os valores referentes a quantidade de  vítimas;\n",
        "\n",
        "  * `periodo`: contém as datas anuais de 2011 à 2016.\n",
        "\n"
      ]
    },
    {
      "cell_type": "code",
      "metadata": {
        "colab": {
          "base_uri": "https://localhost:8080/",
          "height": 206
        },
        "id": "5qHiDb4D8eRK",
        "outputId": "fa87819c-adef-49b8-a0b8-f23c36922131"
      },
      "source": [
        "data_brasil.head() "
      ],
      "execution_count": 3,
      "outputs": [
        {
          "output_type": "execute_result",
          "data": {
            "text/plain": [
              "    cod sigla  valor     periodo\n",
              "0  1076   BRA  12087  2011-01-15\n",
              "1  1076   BRA  16104  2012-01-15\n",
              "2  1076   BRA  19129  2013-01-15\n",
              "3  1076   BRA  20026  2014-01-15\n",
              "4  1076   BRA  20597  2015-01-15"
            ],
            "text/html": [
              "\n",
              "  <div id=\"df-44d7688d-792a-489a-ae6f-e17b63a0794b\">\n",
              "    <div class=\"colab-df-container\">\n",
              "      <div>\n",
              "<style scoped>\n",
              "    .dataframe tbody tr th:only-of-type {\n",
              "        vertical-align: middle;\n",
              "    }\n",
              "\n",
              "    .dataframe tbody tr th {\n",
              "        vertical-align: top;\n",
              "    }\n",
              "\n",
              "    .dataframe thead th {\n",
              "        text-align: right;\n",
              "    }\n",
              "</style>\n",
              "<table border=\"1\" class=\"dataframe\">\n",
              "  <thead>\n",
              "    <tr style=\"text-align: right;\">\n",
              "      <th></th>\n",
              "      <th>cod</th>\n",
              "      <th>sigla</th>\n",
              "      <th>valor</th>\n",
              "      <th>periodo</th>\n",
              "    </tr>\n",
              "  </thead>\n",
              "  <tbody>\n",
              "    <tr>\n",
              "      <th>0</th>\n",
              "      <td>1076</td>\n",
              "      <td>BRA</td>\n",
              "      <td>12087</td>\n",
              "      <td>2011-01-15</td>\n",
              "    </tr>\n",
              "    <tr>\n",
              "      <th>1</th>\n",
              "      <td>1076</td>\n",
              "      <td>BRA</td>\n",
              "      <td>16104</td>\n",
              "      <td>2012-01-15</td>\n",
              "    </tr>\n",
              "    <tr>\n",
              "      <th>2</th>\n",
              "      <td>1076</td>\n",
              "      <td>BRA</td>\n",
              "      <td>19129</td>\n",
              "      <td>2013-01-15</td>\n",
              "    </tr>\n",
              "    <tr>\n",
              "      <th>3</th>\n",
              "      <td>1076</td>\n",
              "      <td>BRA</td>\n",
              "      <td>20026</td>\n",
              "      <td>2014-01-15</td>\n",
              "    </tr>\n",
              "    <tr>\n",
              "      <th>4</th>\n",
              "      <td>1076</td>\n",
              "      <td>BRA</td>\n",
              "      <td>20597</td>\n",
              "      <td>2015-01-15</td>\n",
              "    </tr>\n",
              "  </tbody>\n",
              "</table>\n",
              "</div>\n",
              "      <button class=\"colab-df-convert\" onclick=\"convertToInteractive('df-44d7688d-792a-489a-ae6f-e17b63a0794b')\"\n",
              "              title=\"Convert this dataframe to an interactive table.\"\n",
              "              style=\"display:none;\">\n",
              "        \n",
              "  <svg xmlns=\"http://www.w3.org/2000/svg\" height=\"24px\"viewBox=\"0 0 24 24\"\n",
              "       width=\"24px\">\n",
              "    <path d=\"M0 0h24v24H0V0z\" fill=\"none\"/>\n",
              "    <path d=\"M18.56 5.44l.94 2.06.94-2.06 2.06-.94-2.06-.94-.94-2.06-.94 2.06-2.06.94zm-11 1L8.5 8.5l.94-2.06 2.06-.94-2.06-.94L8.5 2.5l-.94 2.06-2.06.94zm10 10l.94 2.06.94-2.06 2.06-.94-2.06-.94-.94-2.06-.94 2.06-2.06.94z\"/><path d=\"M17.41 7.96l-1.37-1.37c-.4-.4-.92-.59-1.43-.59-.52 0-1.04.2-1.43.59L10.3 9.45l-7.72 7.72c-.78.78-.78 2.05 0 2.83L4 21.41c.39.39.9.59 1.41.59.51 0 1.02-.2 1.41-.59l7.78-7.78 2.81-2.81c.8-.78.8-2.07 0-2.86zM5.41 20L4 18.59l7.72-7.72 1.47 1.35L5.41 20z\"/>\n",
              "  </svg>\n",
              "      </button>\n",
              "      \n",
              "  <style>\n",
              "    .colab-df-container {\n",
              "      display:flex;\n",
              "      flex-wrap:wrap;\n",
              "      gap: 12px;\n",
              "    }\n",
              "\n",
              "    .colab-df-convert {\n",
              "      background-color: #E8F0FE;\n",
              "      border: none;\n",
              "      border-radius: 50%;\n",
              "      cursor: pointer;\n",
              "      display: none;\n",
              "      fill: #1967D2;\n",
              "      height: 32px;\n",
              "      padding: 0 0 0 0;\n",
              "      width: 32px;\n",
              "    }\n",
              "\n",
              "    .colab-df-convert:hover {\n",
              "      background-color: #E2EBFA;\n",
              "      box-shadow: 0px 1px 2px rgba(60, 64, 67, 0.3), 0px 1px 3px 1px rgba(60, 64, 67, 0.15);\n",
              "      fill: #174EA6;\n",
              "    }\n",
              "\n",
              "    [theme=dark] .colab-df-convert {\n",
              "      background-color: #3B4455;\n",
              "      fill: #D2E3FC;\n",
              "    }\n",
              "\n",
              "    [theme=dark] .colab-df-convert:hover {\n",
              "      background-color: #434B5C;\n",
              "      box-shadow: 0px 1px 3px 1px rgba(0, 0, 0, 0.15);\n",
              "      filter: drop-shadow(0px 1px 2px rgba(0, 0, 0, 0.3));\n",
              "      fill: #FFFFFF;\n",
              "    }\n",
              "  </style>\n",
              "\n",
              "      <script>\n",
              "        const buttonEl =\n",
              "          document.querySelector('#df-44d7688d-792a-489a-ae6f-e17b63a0794b button.colab-df-convert');\n",
              "        buttonEl.style.display =\n",
              "          google.colab.kernel.accessAllowed ? 'block' : 'none';\n",
              "\n",
              "        async function convertToInteractive(key) {\n",
              "          const element = document.querySelector('#df-44d7688d-792a-489a-ae6f-e17b63a0794b');\n",
              "          const dataTable =\n",
              "            await google.colab.kernel.invokeFunction('convertToInteractive',\n",
              "                                                     [key], {});\n",
              "          if (!dataTable) return;\n",
              "\n",
              "          const docLinkHtml = 'Like what you see? Visit the ' +\n",
              "            '<a target=\"_blank\" href=https://colab.research.google.com/notebooks/data_table.ipynb>data table notebook</a>'\n",
              "            + ' to learn more about interactive tables.';\n",
              "          element.innerHTML = '';\n",
              "          dataTable['output_type'] = 'display_data';\n",
              "          await google.colab.output.renderOutput(dataTable, element);\n",
              "          const docLink = document.createElement('div');\n",
              "          docLink.innerHTML = docLinkHtml;\n",
              "          element.appendChild(docLink);\n",
              "        }\n",
              "      </script>\n",
              "    </div>\n",
              "  </div>\n",
              "  "
            ]
          },
          "metadata": {},
          "execution_count": 3
        }
      ]
    },
    {
      "cell_type": "markdown",
      "metadata": {
        "id": "OuK6HWjqaQIR"
      },
      "source": [
        "* Analisando a quantidade de dados que estão contidos nas colunas `sigla`, `valor` e `periodo`, verifica-se que há 6 valores para cada coluna:\n"
      ]
    },
    {
      "cell_type": "code",
      "metadata": {
        "colab": {
          "base_uri": "https://localhost:8080/",
          "height": 0
        },
        "id": "8YRABj5UEuum",
        "outputId": "8e6296b4-3438-4cf7-e081-f61acdc2f2dc"
      },
      "source": [
        "data_brasil.count() "
      ],
      "execution_count": 4,
      "outputs": [
        {
          "output_type": "execute_result",
          "data": {
            "text/plain": [
              "cod        6\n",
              "sigla      6\n",
              "valor      6\n",
              "periodo    6\n",
              "dtype: int64"
            ]
          },
          "metadata": {},
          "execution_count": 4
        }
      ]
    },
    {
      "cell_type": "markdown",
      "metadata": {
        "id": "CANqw1MQ_ksM"
      },
      "source": [
        "* Podemos verificar qual o tipo de dado cada coluna recebe. Após a verificão do tipo de dado que cada coluna recebe, percebemos que há valores do tipo `object` na coluna em todas as colunas.\n",
        "\n",
        "    * **cod**: `object`\n",
        "    * **sigla**: `object`\n",
        "    * **valor**: `object`\n",
        "    * **periodo**: `object`\n",
        "\n",
        "* Iremos converter o tipo de dado da coluna `valor`  de `object` para `int64` e o tipo de dado da coluna `periodo` para o formato `datetime`. Pois só assim conseguiremos gerar os gráficos posteriormente."
      ]
    },
    {
      "cell_type": "code",
      "metadata": {
        "colab": {
          "base_uri": "https://localhost:8080/",
          "height": 0
        },
        "id": "YJowOMQq_NVk",
        "outputId": "7249d40e-9412-435d-f7f2-6125a1b91016"
      },
      "source": [
        "data_brasil.dtypes"
      ],
      "execution_count": 5,
      "outputs": [
        {
          "output_type": "execute_result",
          "data": {
            "text/plain": [
              "cod        object\n",
              "sigla      object\n",
              "valor      object\n",
              "periodo    object\n",
              "dtype: object"
            ]
          },
          "metadata": {},
          "execution_count": 5
        }
      ]
    },
    {
      "cell_type": "code",
      "metadata": {
        "id": "zmgVq1vu_9B-"
      },
      "source": [
        "data_brasil['valor'] = data_brasil['valor'].astype('int')\n",
        "data_brasil['periodo'] = pd.to_datetime(data_brasil['periodo']).dt.date"
      ],
      "execution_count": 2,
      "outputs": []
    },
    {
      "cell_type": "markdown",
      "metadata": {
        "id": "kgWi56uIGVLL"
      },
      "source": [
        "* Também iremos renomear as seguintes colunas em nosso dataframe `data_brasil`:\n",
        "\n",
        "  1. `periodo` para `Ano`\n",
        "  2. `valor` para `Quantidade de Vítimas`"
      ]
    },
    {
      "cell_type": "code",
      "metadata": {
        "id": "fycB56RHGsvs"
      },
      "source": [
        "data_brasil = data_brasil.rename(columns={'valor':'Quantidade de Vítimas', 'periodo': 'Ano'})"
      ],
      "execution_count": 3,
      "outputs": []
    },
    {
      "cell_type": "markdown",
      "metadata": {
        "id": "BV4_5pVPO5PR"
      },
      "source": [
        "* Podemos remover a coluna `cod` (pois não haverá serventia em nossa análise):"
      ]
    },
    {
      "cell_type": "code",
      "metadata": {
        "id": "wPmdeIn8PCsm"
      },
      "source": [
        "data_brasil = data_brasil.drop(['cod'],axis=1)"
      ],
      "execution_count": 4,
      "outputs": []
    },
    {
      "cell_type": "markdown",
      "metadata": {
        "id": "UPkU6RArMdu5"
      },
      "source": [
        "\n",
        "\n",
        "---\n",
        "\n"
      ]
    },
    {
      "cell_type": "markdown",
      "metadata": {
        "id": "liqoxbrwMdOl"
      },
      "source": [
        "## 1.2) Pré-processamento do Dataframe `data_regiao`:"
      ]
    },
    {
      "cell_type": "markdown",
      "metadata": {
        "id": "HAHp96VFZBks"
      },
      "source": [
        "* Observando o cabeçalho do dataframe `data_regiao`, podemos verificar que temos 4 colunas:\n",
        "\n",
        "  * `cod`: contém o código (desnecessário para nossa análise);\n",
        "  * `sigla`: contém as sigla dos estados brasileiros;\n",
        "  * `valor`: contém os valores referentes a quantidade de vítimas;\n",
        "  * `periodo`: contém as datas anuais de 2011 à 2016.\n"
      ]
    },
    {
      "cell_type": "code",
      "metadata": {
        "colab": {
          "base_uri": "https://localhost:8080/",
          "height": 206
        },
        "id": "EPZ3X_A7Mmkb",
        "outputId": "324c9723-4235-4b55-e171-50066af7fff3"
      },
      "source": [
        "data_regiao.head() "
      ],
      "execution_count": 9,
      "outputs": [
        {
          "output_type": "execute_result",
          "data": {
            "text/plain": [
              "  cod sigla valor     periodo\n",
              "0   4     S  2216  2011-01-15\n",
              "1   2    NE  1897  2011-01-15\n",
              "2   1     N  2599  2011-01-15\n",
              "3   5    CO  1107  2011-01-15\n",
              "4   3    SE  4268  2011-01-15"
            ],
            "text/html": [
              "\n",
              "  <div id=\"df-9867077e-6dea-439f-8f3e-9e37a9a61baa\">\n",
              "    <div class=\"colab-df-container\">\n",
              "      <div>\n",
              "<style scoped>\n",
              "    .dataframe tbody tr th:only-of-type {\n",
              "        vertical-align: middle;\n",
              "    }\n",
              "\n",
              "    .dataframe tbody tr th {\n",
              "        vertical-align: top;\n",
              "    }\n",
              "\n",
              "    .dataframe thead th {\n",
              "        text-align: right;\n",
              "    }\n",
              "</style>\n",
              "<table border=\"1\" class=\"dataframe\">\n",
              "  <thead>\n",
              "    <tr style=\"text-align: right;\">\n",
              "      <th></th>\n",
              "      <th>cod</th>\n",
              "      <th>sigla</th>\n",
              "      <th>valor</th>\n",
              "      <th>periodo</th>\n",
              "    </tr>\n",
              "  </thead>\n",
              "  <tbody>\n",
              "    <tr>\n",
              "      <th>0</th>\n",
              "      <td>4</td>\n",
              "      <td>S</td>\n",
              "      <td>2216</td>\n",
              "      <td>2011-01-15</td>\n",
              "    </tr>\n",
              "    <tr>\n",
              "      <th>1</th>\n",
              "      <td>2</td>\n",
              "      <td>NE</td>\n",
              "      <td>1897</td>\n",
              "      <td>2011-01-15</td>\n",
              "    </tr>\n",
              "    <tr>\n",
              "      <th>2</th>\n",
              "      <td>1</td>\n",
              "      <td>N</td>\n",
              "      <td>2599</td>\n",
              "      <td>2011-01-15</td>\n",
              "    </tr>\n",
              "    <tr>\n",
              "      <th>3</th>\n",
              "      <td>5</td>\n",
              "      <td>CO</td>\n",
              "      <td>1107</td>\n",
              "      <td>2011-01-15</td>\n",
              "    </tr>\n",
              "    <tr>\n",
              "      <th>4</th>\n",
              "      <td>3</td>\n",
              "      <td>SE</td>\n",
              "      <td>4268</td>\n",
              "      <td>2011-01-15</td>\n",
              "    </tr>\n",
              "  </tbody>\n",
              "</table>\n",
              "</div>\n",
              "      <button class=\"colab-df-convert\" onclick=\"convertToInteractive('df-9867077e-6dea-439f-8f3e-9e37a9a61baa')\"\n",
              "              title=\"Convert this dataframe to an interactive table.\"\n",
              "              style=\"display:none;\">\n",
              "        \n",
              "  <svg xmlns=\"http://www.w3.org/2000/svg\" height=\"24px\"viewBox=\"0 0 24 24\"\n",
              "       width=\"24px\">\n",
              "    <path d=\"M0 0h24v24H0V0z\" fill=\"none\"/>\n",
              "    <path d=\"M18.56 5.44l.94 2.06.94-2.06 2.06-.94-2.06-.94-.94-2.06-.94 2.06-2.06.94zm-11 1L8.5 8.5l.94-2.06 2.06-.94-2.06-.94L8.5 2.5l-.94 2.06-2.06.94zm10 10l.94 2.06.94-2.06 2.06-.94-2.06-.94-.94-2.06-.94 2.06-2.06.94z\"/><path d=\"M17.41 7.96l-1.37-1.37c-.4-.4-.92-.59-1.43-.59-.52 0-1.04.2-1.43.59L10.3 9.45l-7.72 7.72c-.78.78-.78 2.05 0 2.83L4 21.41c.39.39.9.59 1.41.59.51 0 1.02-.2 1.41-.59l7.78-7.78 2.81-2.81c.8-.78.8-2.07 0-2.86zM5.41 20L4 18.59l7.72-7.72 1.47 1.35L5.41 20z\"/>\n",
              "  </svg>\n",
              "      </button>\n",
              "      \n",
              "  <style>\n",
              "    .colab-df-container {\n",
              "      display:flex;\n",
              "      flex-wrap:wrap;\n",
              "      gap: 12px;\n",
              "    }\n",
              "\n",
              "    .colab-df-convert {\n",
              "      background-color: #E8F0FE;\n",
              "      border: none;\n",
              "      border-radius: 50%;\n",
              "      cursor: pointer;\n",
              "      display: none;\n",
              "      fill: #1967D2;\n",
              "      height: 32px;\n",
              "      padding: 0 0 0 0;\n",
              "      width: 32px;\n",
              "    }\n",
              "\n",
              "    .colab-df-convert:hover {\n",
              "      background-color: #E2EBFA;\n",
              "      box-shadow: 0px 1px 2px rgba(60, 64, 67, 0.3), 0px 1px 3px 1px rgba(60, 64, 67, 0.15);\n",
              "      fill: #174EA6;\n",
              "    }\n",
              "\n",
              "    [theme=dark] .colab-df-convert {\n",
              "      background-color: #3B4455;\n",
              "      fill: #D2E3FC;\n",
              "    }\n",
              "\n",
              "    [theme=dark] .colab-df-convert:hover {\n",
              "      background-color: #434B5C;\n",
              "      box-shadow: 0px 1px 3px 1px rgba(0, 0, 0, 0.15);\n",
              "      filter: drop-shadow(0px 1px 2px rgba(0, 0, 0, 0.3));\n",
              "      fill: #FFFFFF;\n",
              "    }\n",
              "  </style>\n",
              "\n",
              "      <script>\n",
              "        const buttonEl =\n",
              "          document.querySelector('#df-9867077e-6dea-439f-8f3e-9e37a9a61baa button.colab-df-convert');\n",
              "        buttonEl.style.display =\n",
              "          google.colab.kernel.accessAllowed ? 'block' : 'none';\n",
              "\n",
              "        async function convertToInteractive(key) {\n",
              "          const element = document.querySelector('#df-9867077e-6dea-439f-8f3e-9e37a9a61baa');\n",
              "          const dataTable =\n",
              "            await google.colab.kernel.invokeFunction('convertToInteractive',\n",
              "                                                     [key], {});\n",
              "          if (!dataTable) return;\n",
              "\n",
              "          const docLinkHtml = 'Like what you see? Visit the ' +\n",
              "            '<a target=\"_blank\" href=https://colab.research.google.com/notebooks/data_table.ipynb>data table notebook</a>'\n",
              "            + ' to learn more about interactive tables.';\n",
              "          element.innerHTML = '';\n",
              "          dataTable['output_type'] = 'display_data';\n",
              "          await google.colab.output.renderOutput(dataTable, element);\n",
              "          const docLink = document.createElement('div');\n",
              "          docLink.innerHTML = docLinkHtml;\n",
              "          element.appendChild(docLink);\n",
              "        }\n",
              "      </script>\n",
              "    </div>\n",
              "  </div>\n",
              "  "
            ]
          },
          "metadata": {},
          "execution_count": 9
        }
      ]
    },
    {
      "cell_type": "markdown",
      "metadata": {
        "id": "StCglzT_ZNit"
      },
      "source": [
        "* Verificando a quantidade de dados que estão contidos nas colunas `sigla`, `valor` e `periodo`. Vemos que nas 4 colunas temos 30 valores em cada.\n",
        "\n"
      ]
    },
    {
      "cell_type": "code",
      "metadata": {
        "colab": {
          "base_uri": "https://localhost:8080/",
          "height": 0
        },
        "id": "4vzG4kuzMmfY",
        "outputId": "0b0e39f9-db89-4a43-f9ab-d01e98b1513c"
      },
      "source": [
        "data_regiao.count() "
      ],
      "execution_count": 11,
      "outputs": [
        {
          "output_type": "execute_result",
          "data": {
            "text/plain": [
              "cod        30\n",
              "sigla      30\n",
              "valor      30\n",
              "periodo    30\n",
              "dtype: int64"
            ]
          },
          "metadata": {},
          "execution_count": 11
        }
      ]
    },
    {
      "cell_type": "markdown",
      "metadata": {
        "id": "zwV3mRJQN0Fl"
      },
      "source": [
        "* Analisando os tipos de dados que cada coluna contém, percebemos que há valores do tipo `object` em todas as colunas. Com isso é necessário converter a coluna `valor` do tipo `object` para `int64` e a coluna `periodo` de `object` para `datetime`, caso contrário, não conseguiremos gerar gráficos com esses tipos de dados."
      ]
    },
    {
      "cell_type": "code",
      "metadata": {
        "colab": {
          "base_uri": "https://localhost:8080/",
          "height": 0
        },
        "id": "RpZn8xa3Mmda",
        "outputId": "9d690bce-7b8b-4052-99cd-e909462cc2c3"
      },
      "source": [
        "data_regiao.dtypes"
      ],
      "execution_count": 12,
      "outputs": [
        {
          "output_type": "execute_result",
          "data": {
            "text/plain": [
              "cod        object\n",
              "sigla      object\n",
              "valor      object\n",
              "periodo    object\n",
              "dtype: object"
            ]
          },
          "metadata": {},
          "execution_count": 12
        }
      ]
    },
    {
      "cell_type": "code",
      "metadata": {
        "id": "RzBQwHzkMmbC"
      },
      "source": [
        "data_regiao['valor'] = data_regiao['valor'].astype('int')\n",
        "data_regiao['periodo'] = pd.to_datetime(data_regiao['periodo']).dt.date"
      ],
      "execution_count": 5,
      "outputs": []
    },
    {
      "cell_type": "markdown",
      "metadata": {
        "id": "1oqyey6r8v8V"
      },
      "source": [
        "* Vamos renomear o nome das colunas `valor` para `Quantidade de Vítimas `e `periodo` para `Ano`. E remover a coluna `cod`, pois não haverá serventia em nossa análise:"
      ]
    },
    {
      "cell_type": "code",
      "metadata": {
        "id": "hyd1OV4RMmYf"
      },
      "source": [
        "data_regiao = data_regiao.rename(columns={'valor':'Quantidade de Vítimas', 'periodo': 'Ano'})\n",
        "data_regiao = data_regiao.drop(['cod'], axis=1)"
      ],
      "execution_count": 6,
      "outputs": []
    },
    {
      "cell_type": "markdown",
      "metadata": {
        "id": "GUrTJ9KqMsR9"
      },
      "source": [
        "\n",
        "\n",
        "---\n",
        "\n"
      ]
    },
    {
      "cell_type": "markdown",
      "metadata": {
        "id": "JNGwROkuMr1H"
      },
      "source": [
        "## 1.3) Pré-processamento do Dataframe `data_uf`:"
      ]
    },
    {
      "cell_type": "markdown",
      "metadata": {
        "id": "N0VpLBQaPYNz"
      },
      "source": [
        "\n",
        "\n",
        "---\n",
        "\n"
      ]
    },
    {
      "cell_type": "markdown",
      "metadata": {
        "id": "XvtH0MhEY8oW"
      },
      "source": [
        "* O dataframe referente a unidade federativa, contém o mesmo layout ods anteriores, a única diferênça é que a coluna `sigla`, contém as siglas dos estados."
      ]
    },
    {
      "cell_type": "code",
      "metadata": {
        "colab": {
          "base_uri": "https://localhost:8080/",
          "height": 206
        },
        "id": "-ytV9zrdMx7B",
        "outputId": "2bbe2287-8313-465f-92ff-20e804229f01"
      },
      "source": [
        "data_uf.head(5) # Retorna o cabeçalho do dataframe"
      ],
      "execution_count": 7,
      "outputs": [
        {
          "output_type": "execute_result",
          "data": {
            "text/plain": [
              "  cod sigla valor     periodo\n",
              "0  13    AM   855  2011-01-15\n",
              "1  28    SE   201  2011-01-15\n",
              "2  12    AC   280  2011-01-15\n",
              "3  23    CE    68  2011-01-15\n",
              "4  14    RR   112  2011-01-15"
            ],
            "text/html": [
              "\n",
              "  <div id=\"df-48142d14-708d-4b84-9a3a-a1c23ac9e3f6\">\n",
              "    <div class=\"colab-df-container\">\n",
              "      <div>\n",
              "<style scoped>\n",
              "    .dataframe tbody tr th:only-of-type {\n",
              "        vertical-align: middle;\n",
              "    }\n",
              "\n",
              "    .dataframe tbody tr th {\n",
              "        vertical-align: top;\n",
              "    }\n",
              "\n",
              "    .dataframe thead th {\n",
              "        text-align: right;\n",
              "    }\n",
              "</style>\n",
              "<table border=\"1\" class=\"dataframe\">\n",
              "  <thead>\n",
              "    <tr style=\"text-align: right;\">\n",
              "      <th></th>\n",
              "      <th>cod</th>\n",
              "      <th>sigla</th>\n",
              "      <th>valor</th>\n",
              "      <th>periodo</th>\n",
              "    </tr>\n",
              "  </thead>\n",
              "  <tbody>\n",
              "    <tr>\n",
              "      <th>0</th>\n",
              "      <td>13</td>\n",
              "      <td>AM</td>\n",
              "      <td>855</td>\n",
              "      <td>2011-01-15</td>\n",
              "    </tr>\n",
              "    <tr>\n",
              "      <th>1</th>\n",
              "      <td>28</td>\n",
              "      <td>SE</td>\n",
              "      <td>201</td>\n",
              "      <td>2011-01-15</td>\n",
              "    </tr>\n",
              "    <tr>\n",
              "      <th>2</th>\n",
              "      <td>12</td>\n",
              "      <td>AC</td>\n",
              "      <td>280</td>\n",
              "      <td>2011-01-15</td>\n",
              "    </tr>\n",
              "    <tr>\n",
              "      <th>3</th>\n",
              "      <td>23</td>\n",
              "      <td>CE</td>\n",
              "      <td>68</td>\n",
              "      <td>2011-01-15</td>\n",
              "    </tr>\n",
              "    <tr>\n",
              "      <th>4</th>\n",
              "      <td>14</td>\n",
              "      <td>RR</td>\n",
              "      <td>112</td>\n",
              "      <td>2011-01-15</td>\n",
              "    </tr>\n",
              "  </tbody>\n",
              "</table>\n",
              "</div>\n",
              "      <button class=\"colab-df-convert\" onclick=\"convertToInteractive('df-48142d14-708d-4b84-9a3a-a1c23ac9e3f6')\"\n",
              "              title=\"Convert this dataframe to an interactive table.\"\n",
              "              style=\"display:none;\">\n",
              "        \n",
              "  <svg xmlns=\"http://www.w3.org/2000/svg\" height=\"24px\"viewBox=\"0 0 24 24\"\n",
              "       width=\"24px\">\n",
              "    <path d=\"M0 0h24v24H0V0z\" fill=\"none\"/>\n",
              "    <path d=\"M18.56 5.44l.94 2.06.94-2.06 2.06-.94-2.06-.94-.94-2.06-.94 2.06-2.06.94zm-11 1L8.5 8.5l.94-2.06 2.06-.94-2.06-.94L8.5 2.5l-.94 2.06-2.06.94zm10 10l.94 2.06.94-2.06 2.06-.94-2.06-.94-.94-2.06-.94 2.06-2.06.94z\"/><path d=\"M17.41 7.96l-1.37-1.37c-.4-.4-.92-.59-1.43-.59-.52 0-1.04.2-1.43.59L10.3 9.45l-7.72 7.72c-.78.78-.78 2.05 0 2.83L4 21.41c.39.39.9.59 1.41.59.51 0 1.02-.2 1.41-.59l7.78-7.78 2.81-2.81c.8-.78.8-2.07 0-2.86zM5.41 20L4 18.59l7.72-7.72 1.47 1.35L5.41 20z\"/>\n",
              "  </svg>\n",
              "      </button>\n",
              "      \n",
              "  <style>\n",
              "    .colab-df-container {\n",
              "      display:flex;\n",
              "      flex-wrap:wrap;\n",
              "      gap: 12px;\n",
              "    }\n",
              "\n",
              "    .colab-df-convert {\n",
              "      background-color: #E8F0FE;\n",
              "      border: none;\n",
              "      border-radius: 50%;\n",
              "      cursor: pointer;\n",
              "      display: none;\n",
              "      fill: #1967D2;\n",
              "      height: 32px;\n",
              "      padding: 0 0 0 0;\n",
              "      width: 32px;\n",
              "    }\n",
              "\n",
              "    .colab-df-convert:hover {\n",
              "      background-color: #E2EBFA;\n",
              "      box-shadow: 0px 1px 2px rgba(60, 64, 67, 0.3), 0px 1px 3px 1px rgba(60, 64, 67, 0.15);\n",
              "      fill: #174EA6;\n",
              "    }\n",
              "\n",
              "    [theme=dark] .colab-df-convert {\n",
              "      background-color: #3B4455;\n",
              "      fill: #D2E3FC;\n",
              "    }\n",
              "\n",
              "    [theme=dark] .colab-df-convert:hover {\n",
              "      background-color: #434B5C;\n",
              "      box-shadow: 0px 1px 3px 1px rgba(0, 0, 0, 0.15);\n",
              "      filter: drop-shadow(0px 1px 2px rgba(0, 0, 0, 0.3));\n",
              "      fill: #FFFFFF;\n",
              "    }\n",
              "  </style>\n",
              "\n",
              "      <script>\n",
              "        const buttonEl =\n",
              "          document.querySelector('#df-48142d14-708d-4b84-9a3a-a1c23ac9e3f6 button.colab-df-convert');\n",
              "        buttonEl.style.display =\n",
              "          google.colab.kernel.accessAllowed ? 'block' : 'none';\n",
              "\n",
              "        async function convertToInteractive(key) {\n",
              "          const element = document.querySelector('#df-48142d14-708d-4b84-9a3a-a1c23ac9e3f6');\n",
              "          const dataTable =\n",
              "            await google.colab.kernel.invokeFunction('convertToInteractive',\n",
              "                                                     [key], {});\n",
              "          if (!dataTable) return;\n",
              "\n",
              "          const docLinkHtml = 'Like what you see? Visit the ' +\n",
              "            '<a target=\"_blank\" href=https://colab.research.google.com/notebooks/data_table.ipynb>data table notebook</a>'\n",
              "            + ' to learn more about interactive tables.';\n",
              "          element.innerHTML = '';\n",
              "          dataTable['output_type'] = 'display_data';\n",
              "          await google.colab.output.renderOutput(dataTable, element);\n",
              "          const docLink = document.createElement('div');\n",
              "          docLink.innerHTML = docLinkHtml;\n",
              "          element.appendChild(docLink);\n",
              "        }\n",
              "      </script>\n",
              "    </div>\n",
              "  </div>\n",
              "  "
            ]
          },
          "metadata": {},
          "execution_count": 7
        }
      ]
    },
    {
      "cell_type": "markdown",
      "metadata": {
        "id": "-_3VAL0kZ3lY"
      },
      "source": [
        "* Verificando a quantidade de dados que estão contidos nas colunas` sigla`, `valor` e `periodo`, temos 162 valores para todos."
      ]
    },
    {
      "cell_type": "code",
      "metadata": {
        "colab": {
          "base_uri": "https://localhost:8080/",
          "height": 0
        },
        "id": "I2rXVtXAYt9m",
        "outputId": "37eb63a7-8af0-42a9-a05c-37f9c8daed0f"
      },
      "source": [
        "data_uf.count()"
      ],
      "execution_count": 18,
      "outputs": [
        {
          "output_type": "execute_result",
          "data": {
            "text/plain": [
              "cod        162\n",
              "sigla      162\n",
              "valor      162\n",
              "periodo    162\n",
              "dtype: int64"
            ]
          },
          "metadata": {},
          "execution_count": 18
        }
      ]
    },
    {
      "cell_type": "markdown",
      "metadata": {
        "id": "Y8njM4TdY249"
      },
      "source": [
        "* Verificando também os tipos de dados, vemos que temos em todas as colunas o do tipo `object` e precisaremos mudar esse tipo para `int64`, na coluna `valor`. Já para a coluna `periodo`, mudaremos para o tipo `datetime`."
      ]
    },
    {
      "cell_type": "code",
      "metadata": {
        "colab": {
          "base_uri": "https://localhost:8080/",
          "height": 0
        },
        "id": "Z8a0O54HYxOx",
        "outputId": "5f71390f-12c7-496e-9964-92c824bb843b"
      },
      "source": [
        "data_uf.dtypes"
      ],
      "execution_count": 19,
      "outputs": [
        {
          "output_type": "execute_result",
          "data": {
            "text/plain": [
              "cod        object\n",
              "sigla      object\n",
              "valor      object\n",
              "periodo    object\n",
              "dtype: object"
            ]
          },
          "metadata": {},
          "execution_count": 19
        }
      ]
    },
    {
      "cell_type": "code",
      "metadata": {
        "id": "65daxyzaZdFE"
      },
      "source": [
        "data_uf['valor'] = data_uf['valor'].astype('int')\n",
        "data_uf['periodo'] = pd.to_datetime(data_uf['periodo']).dt.date"
      ],
      "execution_count": 9,
      "outputs": []
    },
    {
      "cell_type": "markdown",
      "metadata": {
        "id": "Bd4DX3868_CQ"
      },
      "source": [
        "* Renomearemos o nome das colunas `valor` para `Quantidade de Vítimas ` e `periodo` para `Ano`:"
      ]
    },
    {
      "cell_type": "code",
      "metadata": {
        "id": "MSV9PT4X8_2u"
      },
      "source": [
        "data_uf = data_uf.rename(columns={'valor':'Quantidade de Vítimas', 'periodo': 'Ano'})"
      ],
      "execution_count": 10,
      "outputs": []
    },
    {
      "cell_type": "markdown",
      "metadata": {
        "id": "hZS81kZnZeJ-"
      },
      "source": [
        "* Também iremos remover a coluna `cod` (pois não haverá serventia em nossa análise):"
      ]
    },
    {
      "cell_type": "code",
      "metadata": {
        "id": "Mwp83_v5ZekB"
      },
      "source": [
        "data_uf = data_uf.drop(['cod'], axis=1)"
      ],
      "execution_count": 11,
      "outputs": []
    },
    {
      "cell_type": "markdown",
      "metadata": {
        "id": "oEXX_W7bMw4W"
      },
      "source": [
        "\n",
        "\n",
        "---\n",
        "\n"
      ]
    },
    {
      "cell_type": "markdown",
      "source": [
        "# 2) **Análise Gráfica de Homicídios por Estupro**:"
      ],
      "metadata": {
        "id": "n6OiDn5zXmBx"
      }
    },
    {
      "cell_type": "markdown",
      "metadata": {
        "id": "xbyCurmA7NqA"
      },
      "source": [
        "### 2.1) **Análise de Homicídios por Estupro no País**:\n",
        "\n",
        "\n"
      ]
    },
    {
      "cell_type": "markdown",
      "metadata": {
        "id": "iyMGAiqr9DLf"
      },
      "source": [
        "\n",
        "\n",
        "---\n",
        "\n"
      ]
    },
    {
      "cell_type": "markdown",
      "metadata": {
        "id": "mn-ON070B9Wu"
      },
      "source": [
        "* A partir do gráfico de barra entre os dados da coluna `Ano x Quantidade de Vítimas`, pudermos visualizar a quantidade de vítimas de homicidio por estupro no período de 2011 a 2016.\n",
        "\n",
        " \n",
        "\n"
      ]
    },
    {
      "cell_type": "code",
      "metadata": {
        "colab": {
          "base_uri": "https://localhost:8080/",
          "height": 542
        },
        "id": "XjYOSvdF-Yau",
        "outputId": "735861df-e863-42ca-ba28-076a242e0779"
      },
      "source": [
        "fig = px.bar(data_brasil,\n",
        "             x='Ano', \n",
        "             y='Quantidade de Vítimas',\n",
        "             title='Ano x Quantidade de Vítimas')\n",
        "fig.show()"
      ],
      "execution_count": null,
      "outputs": [
        {
          "output_type": "display_data",
          "data": {
            "text/html": [
              "<html>\n",
              "<head><meta charset=\"utf-8\" /></head>\n",
              "<body>\n",
              "    <div>\n",
              "            <script src=\"https://cdnjs.cloudflare.com/ajax/libs/mathjax/2.7.5/MathJax.js?config=TeX-AMS-MML_SVG\"></script><script type=\"text/javascript\">if (window.MathJax) {MathJax.Hub.Config({SVG: {font: \"STIX-Web\"}});}</script>\n",
              "                <script type=\"text/javascript\">window.PlotlyConfig = {MathJaxConfig: 'local'};</script>\n",
              "        <script src=\"https://cdn.plot.ly/plotly-latest.min.js\"></script>    \n",
              "            <div id=\"a35145bd-2475-40d7-ab17-d37e5c43a1a3\" class=\"plotly-graph-div\" style=\"height:525px; width:100%;\"></div>\n",
              "            <script type=\"text/javascript\">\n",
              "                \n",
              "                    window.PLOTLYENV=window.PLOTLYENV || {};\n",
              "                    \n",
              "                if (document.getElementById(\"a35145bd-2475-40d7-ab17-d37e5c43a1a3\")) {\n",
              "                    Plotly.newPlot(\n",
              "                        'a35145bd-2475-40d7-ab17-d37e5c43a1a3',\n",
              "                        [{\"alignmentgroup\": \"True\", \"hoverlabel\": {\"namelength\": 0}, \"hovertemplate\": \"Ano=%{x}<br>Quantidade de V\\u00edtimas=%{y}\", \"legendgroup\": \"\", \"marker\": {\"color\": \"#636efa\"}, \"name\": \"\", \"offsetgroup\": \"\", \"orientation\": \"v\", \"showlegend\": false, \"textposition\": \"auto\", \"type\": \"bar\", \"x\": [\"2011-01-15\", \"2012-01-15\", \"2013-01-15\", \"2014-01-15\", \"2015-01-15\", \"2016-01-15\"], \"xaxis\": \"x\", \"y\": [12087, 16104, 19129, 20026, 20597, 22918], \"yaxis\": \"y\"}],\n",
              "                        {\"barmode\": \"relative\", \"legend\": {\"tracegroupgap\": 0}, \"template\": {\"data\": {\"bar\": [{\"error_x\": {\"color\": \"#2a3f5f\"}, \"error_y\": {\"color\": \"#2a3f5f\"}, \"marker\": {\"line\": {\"color\": \"#E5ECF6\", \"width\": 0.5}}, \"type\": \"bar\"}], \"barpolar\": [{\"marker\": {\"line\": {\"color\": \"#E5ECF6\", \"width\": 0.5}}, \"type\": \"barpolar\"}], \"carpet\": [{\"aaxis\": {\"endlinecolor\": \"#2a3f5f\", \"gridcolor\": \"white\", \"linecolor\": \"white\", \"minorgridcolor\": \"white\", \"startlinecolor\": \"#2a3f5f\"}, \"baxis\": {\"endlinecolor\": \"#2a3f5f\", \"gridcolor\": \"white\", \"linecolor\": \"white\", \"minorgridcolor\": \"white\", \"startlinecolor\": \"#2a3f5f\"}, \"type\": \"carpet\"}], \"choropleth\": [{\"colorbar\": {\"outlinewidth\": 0, \"ticks\": \"\"}, \"type\": \"choropleth\"}], \"contour\": [{\"colorbar\": {\"outlinewidth\": 0, \"ticks\": \"\"}, \"colorscale\": [[0.0, \"#0d0887\"], [0.1111111111111111, \"#46039f\"], [0.2222222222222222, \"#7201a8\"], [0.3333333333333333, \"#9c179e\"], [0.4444444444444444, \"#bd3786\"], [0.5555555555555556, \"#d8576b\"], [0.6666666666666666, \"#ed7953\"], [0.7777777777777778, \"#fb9f3a\"], [0.8888888888888888, \"#fdca26\"], [1.0, \"#f0f921\"]], \"type\": \"contour\"}], \"contourcarpet\": [{\"colorbar\": {\"outlinewidth\": 0, \"ticks\": \"\"}, \"type\": \"contourcarpet\"}], \"heatmap\": [{\"colorbar\": {\"outlinewidth\": 0, \"ticks\": \"\"}, \"colorscale\": [[0.0, \"#0d0887\"], [0.1111111111111111, \"#46039f\"], [0.2222222222222222, \"#7201a8\"], [0.3333333333333333, \"#9c179e\"], [0.4444444444444444, \"#bd3786\"], [0.5555555555555556, \"#d8576b\"], [0.6666666666666666, \"#ed7953\"], [0.7777777777777778, \"#fb9f3a\"], [0.8888888888888888, \"#fdca26\"], [1.0, \"#f0f921\"]], \"type\": \"heatmap\"}], \"heatmapgl\": [{\"colorbar\": {\"outlinewidth\": 0, \"ticks\": \"\"}, \"colorscale\": [[0.0, \"#0d0887\"], [0.1111111111111111, \"#46039f\"], [0.2222222222222222, \"#7201a8\"], [0.3333333333333333, \"#9c179e\"], [0.4444444444444444, \"#bd3786\"], [0.5555555555555556, \"#d8576b\"], [0.6666666666666666, \"#ed7953\"], [0.7777777777777778, \"#fb9f3a\"], [0.8888888888888888, \"#fdca26\"], [1.0, \"#f0f921\"]], \"type\": \"heatmapgl\"}], \"histogram\": [{\"marker\": {\"colorbar\": {\"outlinewidth\": 0, \"ticks\": \"\"}}, \"type\": \"histogram\"}], \"histogram2d\": [{\"colorbar\": {\"outlinewidth\": 0, \"ticks\": \"\"}, \"colorscale\": [[0.0, \"#0d0887\"], [0.1111111111111111, \"#46039f\"], [0.2222222222222222, \"#7201a8\"], [0.3333333333333333, \"#9c179e\"], [0.4444444444444444, \"#bd3786\"], [0.5555555555555556, \"#d8576b\"], [0.6666666666666666, \"#ed7953\"], [0.7777777777777778, \"#fb9f3a\"], [0.8888888888888888, \"#fdca26\"], [1.0, \"#f0f921\"]], \"type\": \"histogram2d\"}], \"histogram2dcontour\": [{\"colorbar\": {\"outlinewidth\": 0, \"ticks\": \"\"}, \"colorscale\": [[0.0, \"#0d0887\"], [0.1111111111111111, \"#46039f\"], [0.2222222222222222, \"#7201a8\"], [0.3333333333333333, \"#9c179e\"], [0.4444444444444444, \"#bd3786\"], [0.5555555555555556, \"#d8576b\"], [0.6666666666666666, \"#ed7953\"], [0.7777777777777778, \"#fb9f3a\"], [0.8888888888888888, \"#fdca26\"], [1.0, \"#f0f921\"]], \"type\": \"histogram2dcontour\"}], \"mesh3d\": [{\"colorbar\": {\"outlinewidth\": 0, \"ticks\": \"\"}, \"type\": \"mesh3d\"}], \"parcoords\": [{\"line\": {\"colorbar\": {\"outlinewidth\": 0, \"ticks\": \"\"}}, \"type\": \"parcoords\"}], \"pie\": [{\"automargin\": true, \"type\": \"pie\"}], \"scatter\": [{\"marker\": {\"colorbar\": {\"outlinewidth\": 0, \"ticks\": \"\"}}, \"type\": \"scatter\"}], \"scatter3d\": [{\"line\": {\"colorbar\": {\"outlinewidth\": 0, \"ticks\": \"\"}}, \"marker\": {\"colorbar\": {\"outlinewidth\": 0, \"ticks\": \"\"}}, \"type\": \"scatter3d\"}], \"scattercarpet\": [{\"marker\": {\"colorbar\": {\"outlinewidth\": 0, \"ticks\": \"\"}}, \"type\": \"scattercarpet\"}], \"scattergeo\": [{\"marker\": {\"colorbar\": {\"outlinewidth\": 0, \"ticks\": \"\"}}, \"type\": \"scattergeo\"}], \"scattergl\": [{\"marker\": {\"colorbar\": {\"outlinewidth\": 0, \"ticks\": \"\"}}, \"type\": \"scattergl\"}], \"scattermapbox\": [{\"marker\": {\"colorbar\": {\"outlinewidth\": 0, \"ticks\": \"\"}}, \"type\": \"scattermapbox\"}], \"scatterpolar\": [{\"marker\": {\"colorbar\": {\"outlinewidth\": 0, \"ticks\": \"\"}}, \"type\": \"scatterpolar\"}], \"scatterpolargl\": [{\"marker\": {\"colorbar\": {\"outlinewidth\": 0, \"ticks\": \"\"}}, \"type\": \"scatterpolargl\"}], \"scatterternary\": [{\"marker\": {\"colorbar\": {\"outlinewidth\": 0, \"ticks\": \"\"}}, \"type\": \"scatterternary\"}], \"surface\": [{\"colorbar\": {\"outlinewidth\": 0, \"ticks\": \"\"}, \"colorscale\": [[0.0, \"#0d0887\"], [0.1111111111111111, \"#46039f\"], [0.2222222222222222, \"#7201a8\"], [0.3333333333333333, \"#9c179e\"], [0.4444444444444444, \"#bd3786\"], [0.5555555555555556, \"#d8576b\"], [0.6666666666666666, \"#ed7953\"], [0.7777777777777778, \"#fb9f3a\"], [0.8888888888888888, \"#fdca26\"], [1.0, \"#f0f921\"]], \"type\": \"surface\"}], \"table\": [{\"cells\": {\"fill\": {\"color\": \"#EBF0F8\"}, \"line\": {\"color\": \"white\"}}, \"header\": {\"fill\": {\"color\": \"#C8D4E3\"}, \"line\": {\"color\": \"white\"}}, \"type\": \"table\"}]}, \"layout\": {\"annotationdefaults\": {\"arrowcolor\": \"#2a3f5f\", \"arrowhead\": 0, \"arrowwidth\": 1}, \"coloraxis\": {\"colorbar\": {\"outlinewidth\": 0, \"ticks\": \"\"}}, \"colorscale\": {\"diverging\": [[0, \"#8e0152\"], [0.1, \"#c51b7d\"], [0.2, \"#de77ae\"], [0.3, \"#f1b6da\"], [0.4, \"#fde0ef\"], [0.5, \"#f7f7f7\"], [0.6, \"#e6f5d0\"], [0.7, \"#b8e186\"], [0.8, \"#7fbc41\"], [0.9, \"#4d9221\"], [1, \"#276419\"]], \"sequential\": [[0.0, \"#0d0887\"], [0.1111111111111111, \"#46039f\"], [0.2222222222222222, \"#7201a8\"], [0.3333333333333333, \"#9c179e\"], [0.4444444444444444, \"#bd3786\"], [0.5555555555555556, \"#d8576b\"], [0.6666666666666666, \"#ed7953\"], [0.7777777777777778, \"#fb9f3a\"], [0.8888888888888888, \"#fdca26\"], [1.0, \"#f0f921\"]], \"sequentialminus\": [[0.0, \"#0d0887\"], [0.1111111111111111, \"#46039f\"], [0.2222222222222222, \"#7201a8\"], [0.3333333333333333, \"#9c179e\"], [0.4444444444444444, \"#bd3786\"], [0.5555555555555556, \"#d8576b\"], [0.6666666666666666, \"#ed7953\"], [0.7777777777777778, \"#fb9f3a\"], [0.8888888888888888, \"#fdca26\"], [1.0, \"#f0f921\"]]}, \"colorway\": [\"#636efa\", \"#EF553B\", \"#00cc96\", \"#ab63fa\", \"#FFA15A\", \"#19d3f3\", \"#FF6692\", \"#B6E880\", \"#FF97FF\", \"#FECB52\"], \"font\": {\"color\": \"#2a3f5f\"}, \"geo\": {\"bgcolor\": \"white\", \"lakecolor\": \"white\", \"landcolor\": \"#E5ECF6\", \"showlakes\": true, \"showland\": true, \"subunitcolor\": \"white\"}, \"hoverlabel\": {\"align\": \"left\"}, \"hovermode\": \"closest\", \"mapbox\": {\"style\": \"light\"}, \"paper_bgcolor\": \"white\", \"plot_bgcolor\": \"#E5ECF6\", \"polar\": {\"angularaxis\": {\"gridcolor\": \"white\", \"linecolor\": \"white\", \"ticks\": \"\"}, \"bgcolor\": \"#E5ECF6\", \"radialaxis\": {\"gridcolor\": \"white\", \"linecolor\": \"white\", \"ticks\": \"\"}}, \"scene\": {\"xaxis\": {\"backgroundcolor\": \"#E5ECF6\", \"gridcolor\": \"white\", \"gridwidth\": 2, \"linecolor\": \"white\", \"showbackground\": true, \"ticks\": \"\", \"zerolinecolor\": \"white\"}, \"yaxis\": {\"backgroundcolor\": \"#E5ECF6\", \"gridcolor\": \"white\", \"gridwidth\": 2, \"linecolor\": \"white\", \"showbackground\": true, \"ticks\": \"\", \"zerolinecolor\": \"white\"}, \"zaxis\": {\"backgroundcolor\": \"#E5ECF6\", \"gridcolor\": \"white\", \"gridwidth\": 2, \"linecolor\": \"white\", \"showbackground\": true, \"ticks\": \"\", \"zerolinecolor\": \"white\"}}, \"shapedefaults\": {\"line\": {\"color\": \"#2a3f5f\"}}, \"ternary\": {\"aaxis\": {\"gridcolor\": \"white\", \"linecolor\": \"white\", \"ticks\": \"\"}, \"baxis\": {\"gridcolor\": \"white\", \"linecolor\": \"white\", \"ticks\": \"\"}, \"bgcolor\": \"#E5ECF6\", \"caxis\": {\"gridcolor\": \"white\", \"linecolor\": \"white\", \"ticks\": \"\"}}, \"title\": {\"x\": 0.05}, \"xaxis\": {\"automargin\": true, \"gridcolor\": \"white\", \"linecolor\": \"white\", \"ticks\": \"\", \"title\": {\"standoff\": 15}, \"zerolinecolor\": \"white\", \"zerolinewidth\": 2}, \"yaxis\": {\"automargin\": true, \"gridcolor\": \"white\", \"linecolor\": \"white\", \"ticks\": \"\", \"title\": {\"standoff\": 15}, \"zerolinecolor\": \"white\", \"zerolinewidth\": 2}}}, \"title\": {\"text\": \"Ano x Quantidade de V\\u00edtimas\"}, \"xaxis\": {\"anchor\": \"y\", \"domain\": [0.0, 1.0], \"title\": {\"text\": \"Ano\"}}, \"yaxis\": {\"anchor\": \"x\", \"domain\": [0.0, 1.0], \"title\": {\"text\": \"Quantidade de V\\u00edtimas\"}}},\n",
              "                        {\"responsive\": true}\n",
              "                    ).then(function(){\n",
              "                            \n",
              "var gd = document.getElementById('a35145bd-2475-40d7-ab17-d37e5c43a1a3');\n",
              "var x = new MutationObserver(function (mutations, observer) {{\n",
              "        var display = window.getComputedStyle(gd).display;\n",
              "        if (!display || display === 'none') {{\n",
              "            console.log([gd, 'removed!']);\n",
              "            Plotly.purge(gd);\n",
              "            observer.disconnect();\n",
              "        }}\n",
              "}});\n",
              "\n",
              "// Listen for the removal of the full notebook cells\n",
              "var notebookContainer = gd.closest('#notebook-container');\n",
              "if (notebookContainer) {{\n",
              "    x.observe(notebookContainer, {childList: true});\n",
              "}}\n",
              "\n",
              "// Listen for the clearing of the current output cell\n",
              "var outputEl = gd.closest('.output');\n",
              "if (outputEl) {{\n",
              "    x.observe(outputEl, {childList: true});\n",
              "}}\n",
              "\n",
              "                        })\n",
              "                };\n",
              "                \n",
              "            </script>\n",
              "        </div>\n",
              "</body>\n",
              "</html>"
            ]
          },
          "metadata": {}
        }
      ]
    },
    {
      "cell_type": "markdown",
      "metadata": {
        "id": "2rLdLG_rDS2z"
      },
      "source": [
        "* A partir do gráfico podemos concluir que:\n",
        "\n",
        "  1. Ouve um crescente aumento de casos de homicídio por estupro no brasil ao longo dos anos. \n",
        "\n",
        "* Com a função `describe()` podemos visualizar algumas informações estatísticas como:\n",
        "\n",
        "  2.  A `média` de casos de 2011-2016 foi de 18.476 mil vítimas;\n",
        "\n",
        "  3. O `valor mínimo` foi em 2011 com cerca de 12.087 mil vítimas;\n",
        "\n",
        "  4. O `valor máximo` foi em 2016 com cerca de 22.918 mil vítimas."
      ]
    },
    {
      "cell_type": "code",
      "metadata": {
        "colab": {
          "base_uri": "https://localhost:8080/",
          "height": 297
        },
        "id": "bPE6ldbkDzhD",
        "outputId": "83d549d8-85d2-4f14-dda7-0c75dd95d5c5"
      },
      "source": [
        "data_brasil.describe()"
      ],
      "execution_count": null,
      "outputs": [
        {
          "output_type": "execute_result",
          "data": {
            "text/html": [
              "<div>\n",
              "<style scoped>\n",
              "    .dataframe tbody tr th:only-of-type {\n",
              "        vertical-align: middle;\n",
              "    }\n",
              "\n",
              "    .dataframe tbody tr th {\n",
              "        vertical-align: top;\n",
              "    }\n",
              "\n",
              "    .dataframe thead th {\n",
              "        text-align: right;\n",
              "    }\n",
              "</style>\n",
              "<table border=\"1\" class=\"dataframe\">\n",
              "  <thead>\n",
              "    <tr style=\"text-align: right;\">\n",
              "      <th></th>\n",
              "      <th>valor</th>\n",
              "    </tr>\n",
              "  </thead>\n",
              "  <tbody>\n",
              "    <tr>\n",
              "      <th>count</th>\n",
              "      <td>6.000000</td>\n",
              "    </tr>\n",
              "    <tr>\n",
              "      <th>mean</th>\n",
              "      <td>18476.833333</td>\n",
              "    </tr>\n",
              "    <tr>\n",
              "      <th>std</th>\n",
              "      <td>3834.178265</td>\n",
              "    </tr>\n",
              "    <tr>\n",
              "      <th>min</th>\n",
              "      <td>12087.000000</td>\n",
              "    </tr>\n",
              "    <tr>\n",
              "      <th>25%</th>\n",
              "      <td>16860.250000</td>\n",
              "    </tr>\n",
              "    <tr>\n",
              "      <th>50%</th>\n",
              "      <td>19577.500000</td>\n",
              "    </tr>\n",
              "    <tr>\n",
              "      <th>75%</th>\n",
              "      <td>20454.250000</td>\n",
              "    </tr>\n",
              "    <tr>\n",
              "      <th>max</th>\n",
              "      <td>22918.000000</td>\n",
              "    </tr>\n",
              "  </tbody>\n",
              "</table>\n",
              "</div>"
            ],
            "text/plain": [
              "              valor\n",
              "count      6.000000\n",
              "mean   18476.833333\n",
              "std     3834.178265\n",
              "min    12087.000000\n",
              "25%    16860.250000\n",
              "50%    19577.500000\n",
              "75%    20454.250000\n",
              "max    22918.000000"
            ]
          },
          "metadata": {},
          "execution_count": 35
        }
      ]
    },
    {
      "cell_type": "markdown",
      "metadata": {
        "id": "t61VOX5FK44W"
      },
      "source": [
        "\n",
        "\n",
        "---\n",
        "\n"
      ]
    },
    {
      "cell_type": "markdown",
      "metadata": {
        "id": "QlGPmVt5K6qF"
      },
      "source": [
        "### 2.2) **Análise de Homicídios por Estupro por Região**:"
      ]
    },
    {
      "cell_type": "markdown",
      "metadata": {
        "id": "ZHZipra7WQik"
      },
      "source": [
        "\n",
        "\n",
        "---\n",
        "\n"
      ]
    },
    {
      "cell_type": "markdown",
      "metadata": {
        "id": "UdhDhq8_VK41"
      },
      "source": [
        "* Iniciando nossa análise por um gráfico de pizza clássico, podemos verificar qual a região possui a maior parcela de homicídios por estupro."
      ]
    },
    {
      "cell_type": "code",
      "metadata": {
        "id": "5hlTNPHURSp9"
      },
      "source": [
        "data_regiao2 = data_regiao.groupby(['sigla']).sum()"
      ],
      "execution_count": null,
      "outputs": []
    },
    {
      "cell_type": "code",
      "metadata": {
        "colab": {
          "base_uri": "https://localhost:8080/",
          "height": 235
        },
        "id": "lCbUQ8Anq7rh",
        "outputId": "ceda78f8-051b-483d-d020-50c5f7a45de9"
      },
      "source": [
        "data_regiao2"
      ],
      "execution_count": null,
      "outputs": [
        {
          "output_type": "execute_result",
          "data": {
            "text/html": [
              "<div>\n",
              "<style scoped>\n",
              "    .dataframe tbody tr th:only-of-type {\n",
              "        vertical-align: middle;\n",
              "    }\n",
              "\n",
              "    .dataframe tbody tr th {\n",
              "        vertical-align: top;\n",
              "    }\n",
              "\n",
              "    .dataframe thead th {\n",
              "        text-align: right;\n",
              "    }\n",
              "</style>\n",
              "<table border=\"1\" class=\"dataframe\">\n",
              "  <thead>\n",
              "    <tr style=\"text-align: right;\">\n",
              "      <th></th>\n",
              "      <th>cod</th>\n",
              "      <th>valor</th>\n",
              "      <th>periodo</th>\n",
              "    </tr>\n",
              "    <tr>\n",
              "      <th>sigla</th>\n",
              "      <th></th>\n",
              "      <th></th>\n",
              "      <th></th>\n",
              "    </tr>\n",
              "  </thead>\n",
              "  <tbody>\n",
              "    <tr>\n",
              "      <th>CO</th>\n",
              "      <td>555555</td>\n",
              "      <td>110715392004189619412250</td>\n",
              "      <td>2011-01-152012-01-152013-01-152014-01-152015-0...</td>\n",
              "    </tr>\n",
              "    <tr>\n",
              "      <th>N</th>\n",
              "      <td>111111</td>\n",
              "      <td>259933193898402238374072</td>\n",
              "      <td>2011-01-152012-01-152013-01-152014-01-152015-0...</td>\n",
              "    </tr>\n",
              "    <tr>\n",
              "      <th>NE</th>\n",
              "      <td>222222</td>\n",
              "      <td>189724973422369239023998</td>\n",
              "      <td>2011-01-152012-01-152013-01-152014-01-152015-0...</td>\n",
              "    </tr>\n",
              "    <tr>\n",
              "      <th>S</th>\n",
              "      <td>444444</td>\n",
              "      <td>221630313556384639884263</td>\n",
              "      <td>2011-01-152012-01-152013-01-152014-01-152015-0...</td>\n",
              "    </tr>\n",
              "    <tr>\n",
              "      <th>SE</th>\n",
              "      <td>333333</td>\n",
              "      <td>426857186249657069298335</td>\n",
              "      <td>2011-01-152012-01-152013-01-152014-01-152015-0...</td>\n",
              "    </tr>\n",
              "  </tbody>\n",
              "</table>\n",
              "</div>"
            ],
            "text/plain": [
              "          cod  ...                                            periodo\n",
              "sigla          ...                                                   \n",
              "CO     555555  ...  2011-01-152012-01-152013-01-152014-01-152015-0...\n",
              "N      111111  ...  2011-01-152012-01-152013-01-152014-01-152015-0...\n",
              "NE     222222  ...  2011-01-152012-01-152013-01-152014-01-152015-0...\n",
              "S      444444  ...  2011-01-152012-01-152013-01-152014-01-152015-0...\n",
              "SE     333333  ...  2011-01-152012-01-152013-01-152014-01-152015-0...\n",
              "\n",
              "[5 rows x 3 columns]"
            ]
          },
          "metadata": {},
          "execution_count": 11
        }
      ]
    },
    {
      "cell_type": "code",
      "metadata": {
        "colab": {
          "base_uri": "https://localhost:8080/",
          "height": 542
        },
        "id": "PSGlR4gUrE-J",
        "outputId": "abb1aa11-a931-4645-c1b5-e7194ab31713"
      },
      "source": [
        "fig = px.pie(data_regiao2,\n",
        "             values='Quantidade de Vítimas',\n",
        "             names=data_regiao2.index,\n",
        "             title='Homicídio por Estupro por Região: jan/2011 à jan/2016', \n",
        "             color_discrete_sequence=px.colors.sequential.RdBu)\n",
        "\n",
        "fig.update_traces(textposition='inside',\n",
        "                  textinfo='percent+label')\n",
        "\n",
        "fig.show()"
      ],
      "execution_count": null,
      "outputs": [
        {
          "output_type": "display_data",
          "data": {
            "text/html": [
              "<html>\n",
              "<head><meta charset=\"utf-8\" /></head>\n",
              "<body>\n",
              "    <div>            <script src=\"https://cdnjs.cloudflare.com/ajax/libs/mathjax/2.7.5/MathJax.js?config=TeX-AMS-MML_SVG\"></script><script type=\"text/javascript\">if (window.MathJax) {MathJax.Hub.Config({SVG: {font: \"STIX-Web\"}});}</script>                <script type=\"text/javascript\">window.PlotlyConfig = {MathJaxConfig: 'local'};</script>\n",
              "        <script src=\"https://cdn.plot.ly/plotly-2.4.2.min.js\"></script>                <div id=\"0aade591-f7c0-49af-96ee-27af830dac67\" class=\"plotly-graph-div\" style=\"height:525px; width:100%;\"></div>            <script type=\"text/javascript\">                                    window.PLOTLYENV=window.PLOTLYENV || {};                                    if (document.getElementById(\"0aade591-f7c0-49af-96ee-27af830dac67\")) {                    Plotly.newPlot(                        \"0aade591-f7c0-49af-96ee-27af830dac67\",                        [{\"domain\":{\"x\":[0.0,1.0],\"y\":[0.0,1.0]},\"hovertemplate\":\"sigla=%{label}<br>Quantidade de V\\u00edtimas=%{value}<extra></extra>\",\"labels\":[\"CO\",\"N\",\"NE\",\"S\",\"SE\"],\"legendgroup\":\"\",\"name\":\"\",\"showlegend\":true,\"textinfo\":\"percent+label\",\"textposition\":\"inside\",\"type\":\"pie\",\"values\":[10737,21747,19408,20900,38069]}],                        {\"legend\":{\"tracegroupgap\":0},\"piecolorway\":[\"rgb(103,0,31)\",\"rgb(178,24,43)\",\"rgb(214,96,77)\",\"rgb(244,165,130)\",\"rgb(253,219,199)\",\"rgb(247,247,247)\",\"rgb(209,229,240)\",\"rgb(146,197,222)\",\"rgb(67,147,195)\",\"rgb(33,102,172)\",\"rgb(5,48,97)\"],\"template\":{\"data\":{\"bar\":[{\"error_x\":{\"color\":\"#2a3f5f\"},\"error_y\":{\"color\":\"#2a3f5f\"},\"marker\":{\"line\":{\"color\":\"#E5ECF6\",\"width\":0.5},\"pattern\":{\"fillmode\":\"overlay\",\"size\":10,\"solidity\":0.2}},\"type\":\"bar\"}],\"barpolar\":[{\"marker\":{\"line\":{\"color\":\"#E5ECF6\",\"width\":0.5},\"pattern\":{\"fillmode\":\"overlay\",\"size\":10,\"solidity\":0.2}},\"type\":\"barpolar\"}],\"carpet\":[{\"aaxis\":{\"endlinecolor\":\"#2a3f5f\",\"gridcolor\":\"white\",\"linecolor\":\"white\",\"minorgridcolor\":\"white\",\"startlinecolor\":\"#2a3f5f\"},\"baxis\":{\"endlinecolor\":\"#2a3f5f\",\"gridcolor\":\"white\",\"linecolor\":\"white\",\"minorgridcolor\":\"white\",\"startlinecolor\":\"#2a3f5f\"},\"type\":\"carpet\"}],\"choropleth\":[{\"colorbar\":{\"outlinewidth\":0,\"ticks\":\"\"},\"type\":\"choropleth\"}],\"contour\":[{\"colorbar\":{\"outlinewidth\":0,\"ticks\":\"\"},\"colorscale\":[[0.0,\"#0d0887\"],[0.1111111111111111,\"#46039f\"],[0.2222222222222222,\"#7201a8\"],[0.3333333333333333,\"#9c179e\"],[0.4444444444444444,\"#bd3786\"],[0.5555555555555556,\"#d8576b\"],[0.6666666666666666,\"#ed7953\"],[0.7777777777777778,\"#fb9f3a\"],[0.8888888888888888,\"#fdca26\"],[1.0,\"#f0f921\"]],\"type\":\"contour\"}],\"contourcarpet\":[{\"colorbar\":{\"outlinewidth\":0,\"ticks\":\"\"},\"type\":\"contourcarpet\"}],\"heatmap\":[{\"colorbar\":{\"outlinewidth\":0,\"ticks\":\"\"},\"colorscale\":[[0.0,\"#0d0887\"],[0.1111111111111111,\"#46039f\"],[0.2222222222222222,\"#7201a8\"],[0.3333333333333333,\"#9c179e\"],[0.4444444444444444,\"#bd3786\"],[0.5555555555555556,\"#d8576b\"],[0.6666666666666666,\"#ed7953\"],[0.7777777777777778,\"#fb9f3a\"],[0.8888888888888888,\"#fdca26\"],[1.0,\"#f0f921\"]],\"type\":\"heatmap\"}],\"heatmapgl\":[{\"colorbar\":{\"outlinewidth\":0,\"ticks\":\"\"},\"colorscale\":[[0.0,\"#0d0887\"],[0.1111111111111111,\"#46039f\"],[0.2222222222222222,\"#7201a8\"],[0.3333333333333333,\"#9c179e\"],[0.4444444444444444,\"#bd3786\"],[0.5555555555555556,\"#d8576b\"],[0.6666666666666666,\"#ed7953\"],[0.7777777777777778,\"#fb9f3a\"],[0.8888888888888888,\"#fdca26\"],[1.0,\"#f0f921\"]],\"type\":\"heatmapgl\"}],\"histogram\":[{\"marker\":{\"pattern\":{\"fillmode\":\"overlay\",\"size\":10,\"solidity\":0.2}},\"type\":\"histogram\"}],\"histogram2d\":[{\"colorbar\":{\"outlinewidth\":0,\"ticks\":\"\"},\"colorscale\":[[0.0,\"#0d0887\"],[0.1111111111111111,\"#46039f\"],[0.2222222222222222,\"#7201a8\"],[0.3333333333333333,\"#9c179e\"],[0.4444444444444444,\"#bd3786\"],[0.5555555555555556,\"#d8576b\"],[0.6666666666666666,\"#ed7953\"],[0.7777777777777778,\"#fb9f3a\"],[0.8888888888888888,\"#fdca26\"],[1.0,\"#f0f921\"]],\"type\":\"histogram2d\"}],\"histogram2dcontour\":[{\"colorbar\":{\"outlinewidth\":0,\"ticks\":\"\"},\"colorscale\":[[0.0,\"#0d0887\"],[0.1111111111111111,\"#46039f\"],[0.2222222222222222,\"#7201a8\"],[0.3333333333333333,\"#9c179e\"],[0.4444444444444444,\"#bd3786\"],[0.5555555555555556,\"#d8576b\"],[0.6666666666666666,\"#ed7953\"],[0.7777777777777778,\"#fb9f3a\"],[0.8888888888888888,\"#fdca26\"],[1.0,\"#f0f921\"]],\"type\":\"histogram2dcontour\"}],\"mesh3d\":[{\"colorbar\":{\"outlinewidth\":0,\"ticks\":\"\"},\"type\":\"mesh3d\"}],\"parcoords\":[{\"line\":{\"colorbar\":{\"outlinewidth\":0,\"ticks\":\"\"}},\"type\":\"parcoords\"}],\"pie\":[{\"automargin\":true,\"type\":\"pie\"}],\"scatter\":[{\"marker\":{\"colorbar\":{\"outlinewidth\":0,\"ticks\":\"\"}},\"type\":\"scatter\"}],\"scatter3d\":[{\"line\":{\"colorbar\":{\"outlinewidth\":0,\"ticks\":\"\"}},\"marker\":{\"colorbar\":{\"outlinewidth\":0,\"ticks\":\"\"}},\"type\":\"scatter3d\"}],\"scattercarpet\":[{\"marker\":{\"colorbar\":{\"outlinewidth\":0,\"ticks\":\"\"}},\"type\":\"scattercarpet\"}],\"scattergeo\":[{\"marker\":{\"colorbar\":{\"outlinewidth\":0,\"ticks\":\"\"}},\"type\":\"scattergeo\"}],\"scattergl\":[{\"marker\":{\"colorbar\":{\"outlinewidth\":0,\"ticks\":\"\"}},\"type\":\"scattergl\"}],\"scattermapbox\":[{\"marker\":{\"colorbar\":{\"outlinewidth\":0,\"ticks\":\"\"}},\"type\":\"scattermapbox\"}],\"scatterpolar\":[{\"marker\":{\"colorbar\":{\"outlinewidth\":0,\"ticks\":\"\"}},\"type\":\"scatterpolar\"}],\"scatterpolargl\":[{\"marker\":{\"colorbar\":{\"outlinewidth\":0,\"ticks\":\"\"}},\"type\":\"scatterpolargl\"}],\"scatterternary\":[{\"marker\":{\"colorbar\":{\"outlinewidth\":0,\"ticks\":\"\"}},\"type\":\"scatterternary\"}],\"surface\":[{\"colorbar\":{\"outlinewidth\":0,\"ticks\":\"\"},\"colorscale\":[[0.0,\"#0d0887\"],[0.1111111111111111,\"#46039f\"],[0.2222222222222222,\"#7201a8\"],[0.3333333333333333,\"#9c179e\"],[0.4444444444444444,\"#bd3786\"],[0.5555555555555556,\"#d8576b\"],[0.6666666666666666,\"#ed7953\"],[0.7777777777777778,\"#fb9f3a\"],[0.8888888888888888,\"#fdca26\"],[1.0,\"#f0f921\"]],\"type\":\"surface\"}],\"table\":[{\"cells\":{\"fill\":{\"color\":\"#EBF0F8\"},\"line\":{\"color\":\"white\"}},\"header\":{\"fill\":{\"color\":\"#C8D4E3\"},\"line\":{\"color\":\"white\"}},\"type\":\"table\"}]},\"layout\":{\"annotationdefaults\":{\"arrowcolor\":\"#2a3f5f\",\"arrowhead\":0,\"arrowwidth\":1},\"autotypenumbers\":\"strict\",\"coloraxis\":{\"colorbar\":{\"outlinewidth\":0,\"ticks\":\"\"}},\"colorscale\":{\"diverging\":[[0,\"#8e0152\"],[0.1,\"#c51b7d\"],[0.2,\"#de77ae\"],[0.3,\"#f1b6da\"],[0.4,\"#fde0ef\"],[0.5,\"#f7f7f7\"],[0.6,\"#e6f5d0\"],[0.7,\"#b8e186\"],[0.8,\"#7fbc41\"],[0.9,\"#4d9221\"],[1,\"#276419\"]],\"sequential\":[[0.0,\"#0d0887\"],[0.1111111111111111,\"#46039f\"],[0.2222222222222222,\"#7201a8\"],[0.3333333333333333,\"#9c179e\"],[0.4444444444444444,\"#bd3786\"],[0.5555555555555556,\"#d8576b\"],[0.6666666666666666,\"#ed7953\"],[0.7777777777777778,\"#fb9f3a\"],[0.8888888888888888,\"#fdca26\"],[1.0,\"#f0f921\"]],\"sequentialminus\":[[0.0,\"#0d0887\"],[0.1111111111111111,\"#46039f\"],[0.2222222222222222,\"#7201a8\"],[0.3333333333333333,\"#9c179e\"],[0.4444444444444444,\"#bd3786\"],[0.5555555555555556,\"#d8576b\"],[0.6666666666666666,\"#ed7953\"],[0.7777777777777778,\"#fb9f3a\"],[0.8888888888888888,\"#fdca26\"],[1.0,\"#f0f921\"]]},\"colorway\":[\"#636efa\",\"#EF553B\",\"#00cc96\",\"#ab63fa\",\"#FFA15A\",\"#19d3f3\",\"#FF6692\",\"#B6E880\",\"#FF97FF\",\"#FECB52\"],\"font\":{\"color\":\"#2a3f5f\"},\"geo\":{\"bgcolor\":\"white\",\"lakecolor\":\"white\",\"landcolor\":\"#E5ECF6\",\"showlakes\":true,\"showland\":true,\"subunitcolor\":\"white\"},\"hoverlabel\":{\"align\":\"left\"},\"hovermode\":\"closest\",\"mapbox\":{\"style\":\"light\"},\"paper_bgcolor\":\"white\",\"plot_bgcolor\":\"#E5ECF6\",\"polar\":{\"angularaxis\":{\"gridcolor\":\"white\",\"linecolor\":\"white\",\"ticks\":\"\"},\"bgcolor\":\"#E5ECF6\",\"radialaxis\":{\"gridcolor\":\"white\",\"linecolor\":\"white\",\"ticks\":\"\"}},\"scene\":{\"xaxis\":{\"backgroundcolor\":\"#E5ECF6\",\"gridcolor\":\"white\",\"gridwidth\":2,\"linecolor\":\"white\",\"showbackground\":true,\"ticks\":\"\",\"zerolinecolor\":\"white\"},\"yaxis\":{\"backgroundcolor\":\"#E5ECF6\",\"gridcolor\":\"white\",\"gridwidth\":2,\"linecolor\":\"white\",\"showbackground\":true,\"ticks\":\"\",\"zerolinecolor\":\"white\"},\"zaxis\":{\"backgroundcolor\":\"#E5ECF6\",\"gridcolor\":\"white\",\"gridwidth\":2,\"linecolor\":\"white\",\"showbackground\":true,\"ticks\":\"\",\"zerolinecolor\":\"white\"}},\"shapedefaults\":{\"line\":{\"color\":\"#2a3f5f\"}},\"ternary\":{\"aaxis\":{\"gridcolor\":\"white\",\"linecolor\":\"white\",\"ticks\":\"\"},\"baxis\":{\"gridcolor\":\"white\",\"linecolor\":\"white\",\"ticks\":\"\"},\"bgcolor\":\"#E5ECF6\",\"caxis\":{\"gridcolor\":\"white\",\"linecolor\":\"white\",\"ticks\":\"\"}},\"title\":{\"x\":0.05},\"xaxis\":{\"automargin\":true,\"gridcolor\":\"white\",\"linecolor\":\"white\",\"ticks\":\"\",\"title\":{\"standoff\":15},\"zerolinecolor\":\"white\",\"zerolinewidth\":2},\"yaxis\":{\"automargin\":true,\"gridcolor\":\"white\",\"linecolor\":\"white\",\"ticks\":\"\",\"title\":{\"standoff\":15},\"zerolinecolor\":\"white\",\"zerolinewidth\":2}}},\"title\":{\"text\":\"Homic\\u00eddio por Estupro por Regi\\u00e3o: jan/2011 \\u00e0 jan/2016\"}},                        {\"responsive\": true}                    ).then(function(){\n",
              "                            \n",
              "var gd = document.getElementById('0aade591-f7c0-49af-96ee-27af830dac67');\n",
              "var x = new MutationObserver(function (mutations, observer) {{\n",
              "        var display = window.getComputedStyle(gd).display;\n",
              "        if (!display || display === 'none') {{\n",
              "            console.log([gd, 'removed!']);\n",
              "            Plotly.purge(gd);\n",
              "            observer.disconnect();\n",
              "        }}\n",
              "}});\n",
              "\n",
              "// Listen for the removal of the full notebook cells\n",
              "var notebookContainer = gd.closest('#notebook-container');\n",
              "if (notebookContainer) {{\n",
              "    x.observe(notebookContainer, {childList: true});\n",
              "}}\n",
              "\n",
              "// Listen for the clearing of the current output cell\n",
              "var outputEl = gd.closest('.output');\n",
              "if (outputEl) {{\n",
              "    x.observe(outputEl, {childList: true});\n",
              "}}\n",
              "\n",
              "                        })                };                            </script>        </div>\n",
              "</body>\n",
              "</html>"
            ]
          },
          "metadata": {}
        }
      ]
    },
    {
      "cell_type": "markdown",
      "metadata": {
        "id": "Ks9hp9gRzWFa"
      },
      "source": [
        "* Com a visualização do gráfico de pizza acima, podemos extrair as seguintes informações:\n",
        "\n",
        "  1. A região que possui um maior índice de homicídios por estupro é a região sudeste com 34,3% (dentro do período analisado).\n",
        "  \n",
        "  2. Em segundo vem a região Norte com 19,6% (dentro do período analisado);\n",
        "\n",
        "  3. Em terceiro a região Sul com 18,9% (dentro do período analisado);\n",
        "\n",
        "  4. Em quarto a região Nordeste com 17,5% e em quinto a região Centro-Oeste com a menor taxa de 9,69% (dentro do período analisado).\n",
        "\n",
        "* Vale salientar que houve o somatório dos homicídios por estupro durante os períodos de jan/2011 à jan/2016 para que se fosse possível gerar o gráfico."
      ]
    },
    {
      "cell_type": "markdown",
      "metadata": {
        "id": "Pe3gzGhv8kR0"
      },
      "source": [
        "* Outro gráfico que pode trazer informações em relação a quantidade de homicídios em um determinado ano por região é por meio do `treemap chart`."
      ]
    },
    {
      "cell_type": "code",
      "metadata": {
        "colab": {
          "base_uri": "https://localhost:8080/",
          "height": 542
        },
        "id": "Wd6K94tnVksu",
        "outputId": "68ae651c-f0cf-4ce6-f818-d984dc477021"
      },
      "source": [
        "data_regiao3 = data_regiao.groupby(['sigla',\n",
        "                                    'Ano']).sum().reset_index()\n",
        "                                    \n",
        "fig1 = px.treemap(\n",
        "    data_regiao3,\n",
        "    path=['sigla',\n",
        "          'Ano',\n",
        "          'Quantidade de Vítimas'],\n",
        "    color_discrete_sequence = px.colors.sequential.RdBu\n",
        "    )\n",
        "\n",
        "fig1.show()"
      ],
      "execution_count": null,
      "outputs": [
        {
          "output_type": "display_data",
          "data": {
            "text/html": [
              "<html>\n",
              "<head><meta charset=\"utf-8\" /></head>\n",
              "<body>\n",
              "    <div>            <script src=\"https://cdnjs.cloudflare.com/ajax/libs/mathjax/2.7.5/MathJax.js?config=TeX-AMS-MML_SVG\"></script><script type=\"text/javascript\">if (window.MathJax) {MathJax.Hub.Config({SVG: {font: \"STIX-Web\"}});}</script>                <script type=\"text/javascript\">window.PlotlyConfig = {MathJaxConfig: 'local'};</script>\n",
              "        <script src=\"https://cdn.plot.ly/plotly-2.4.2.min.js\"></script>                <div id=\"aa1e246c-4c73-4874-9033-d22aaf2e9636\" class=\"plotly-graph-div\" style=\"height:525px; width:100%;\"></div>            <script type=\"text/javascript\">                                    window.PLOTLYENV=window.PLOTLYENV || {};                                    if (document.getElementById(\"aa1e246c-4c73-4874-9033-d22aaf2e9636\")) {                    Plotly.newPlot(                        \"aa1e246c-4c73-4874-9033-d22aaf2e9636\",                        [{\"branchvalues\":\"total\",\"domain\":{\"x\":[0.0,1.0],\"y\":[0.0,1.0]},\"hovertemplate\":\"labels=%{label}<br>count=%{value}<br>parent=%{parent}<br>id=%{id}<extra></extra>\",\"ids\":[\"CO/2011-01-15/1107\",\"CO/2012-01-15/1539\",\"CO/2014-01-15/1896\",\"NE/2011-01-15/1897\",\"CO/2015-01-15/1941\",\"CO/2013-01-15/2004\",\"S/2011-01-15/2216\",\"CO/2016-01-15/2250\",\"NE/2012-01-15/2497\",\"N/2011-01-15/2599\",\"S/2012-01-15/3031\",\"N/2012-01-15/3319\",\"NE/2013-01-15/3422\",\"S/2013-01-15/3556\",\"NE/2014-01-15/3692\",\"N/2015-01-15/3837\",\"S/2014-01-15/3846\",\"N/2013-01-15/3898\",\"NE/2015-01-15/3902\",\"S/2015-01-15/3988\",\"NE/2016-01-15/3998\",\"N/2014-01-15/4022\",\"N/2016-01-15/4072\",\"S/2016-01-15/4263\",\"SE/2011-01-15/4268\",\"SE/2012-01-15/5718\",\"SE/2013-01-15/6249\",\"SE/2014-01-15/6570\",\"SE/2015-01-15/6929\",\"SE/2016-01-15/8335\",\"CO/2011-01-15\",\"N/2011-01-15\",\"NE/2011-01-15\",\"S/2011-01-15\",\"SE/2011-01-15\",\"CO/2012-01-15\",\"N/2012-01-15\",\"NE/2012-01-15\",\"S/2012-01-15\",\"SE/2012-01-15\",\"CO/2013-01-15\",\"N/2013-01-15\",\"NE/2013-01-15\",\"S/2013-01-15\",\"SE/2013-01-15\",\"CO/2014-01-15\",\"N/2014-01-15\",\"NE/2014-01-15\",\"S/2014-01-15\",\"SE/2014-01-15\",\"CO/2015-01-15\",\"N/2015-01-15\",\"NE/2015-01-15\",\"S/2015-01-15\",\"SE/2015-01-15\",\"CO/2016-01-15\",\"N/2016-01-15\",\"NE/2016-01-15\",\"S/2016-01-15\",\"SE/2016-01-15\",\"CO\",\"N\",\"NE\",\"S\",\"SE\"],\"labels\":[\"1107\",\"1539\",\"1896\",\"1897\",\"1941\",\"2004\",\"2216\",\"2250\",\"2497\",\"2599\",\"3031\",\"3319\",\"3422\",\"3556\",\"3692\",\"3837\",\"3846\",\"3898\",\"3902\",\"3988\",\"3998\",\"4022\",\"4072\",\"4263\",\"4268\",\"5718\",\"6249\",\"6570\",\"6929\",\"8335\",\"2011-01-15\",\"2011-01-15\",\"2011-01-15\",\"2011-01-15\",\"2011-01-15\",\"2012-01-15\",\"2012-01-15\",\"2012-01-15\",\"2012-01-15\",\"2012-01-15\",\"2013-01-15\",\"2013-01-15\",\"2013-01-15\",\"2013-01-15\",\"2013-01-15\",\"2014-01-15\",\"2014-01-15\",\"2014-01-15\",\"2014-01-15\",\"2014-01-15\",\"2015-01-15\",\"2015-01-15\",\"2015-01-15\",\"2015-01-15\",\"2015-01-15\",\"2016-01-15\",\"2016-01-15\",\"2016-01-15\",\"2016-01-15\",\"2016-01-15\",\"CO\",\"N\",\"NE\",\"S\",\"SE\"],\"name\":\"\",\"parents\":[\"CO/2011-01-15\",\"CO/2012-01-15\",\"CO/2014-01-15\",\"NE/2011-01-15\",\"CO/2015-01-15\",\"CO/2013-01-15\",\"S/2011-01-15\",\"CO/2016-01-15\",\"NE/2012-01-15\",\"N/2011-01-15\",\"S/2012-01-15\",\"N/2012-01-15\",\"NE/2013-01-15\",\"S/2013-01-15\",\"NE/2014-01-15\",\"N/2015-01-15\",\"S/2014-01-15\",\"N/2013-01-15\",\"NE/2015-01-15\",\"S/2015-01-15\",\"NE/2016-01-15\",\"N/2014-01-15\",\"N/2016-01-15\",\"S/2016-01-15\",\"SE/2011-01-15\",\"SE/2012-01-15\",\"SE/2013-01-15\",\"SE/2014-01-15\",\"SE/2015-01-15\",\"SE/2016-01-15\",\"CO\",\"N\",\"NE\",\"S\",\"SE\",\"CO\",\"N\",\"NE\",\"S\",\"SE\",\"CO\",\"N\",\"NE\",\"S\",\"SE\",\"CO\",\"N\",\"NE\",\"S\",\"SE\",\"CO\",\"N\",\"NE\",\"S\",\"SE\",\"CO\",\"N\",\"NE\",\"S\",\"SE\",\"\",\"\",\"\",\"\",\"\"],\"type\":\"treemap\",\"values\":[1,1,1,1,1,1,1,1,1,1,1,1,1,1,1,1,1,1,1,1,1,1,1,1,1,1,1,1,1,1,1,1,1,1,1,1,1,1,1,1,1,1,1,1,1,1,1,1,1,1,1,1,1,1,1,1,1,1,1,1,6,6,6,6,6]}],                        {\"legend\":{\"tracegroupgap\":0},\"margin\":{\"t\":60},\"template\":{\"data\":{\"bar\":[{\"error_x\":{\"color\":\"#2a3f5f\"},\"error_y\":{\"color\":\"#2a3f5f\"},\"marker\":{\"line\":{\"color\":\"#E5ECF6\",\"width\":0.5},\"pattern\":{\"fillmode\":\"overlay\",\"size\":10,\"solidity\":0.2}},\"type\":\"bar\"}],\"barpolar\":[{\"marker\":{\"line\":{\"color\":\"#E5ECF6\",\"width\":0.5},\"pattern\":{\"fillmode\":\"overlay\",\"size\":10,\"solidity\":0.2}},\"type\":\"barpolar\"}],\"carpet\":[{\"aaxis\":{\"endlinecolor\":\"#2a3f5f\",\"gridcolor\":\"white\",\"linecolor\":\"white\",\"minorgridcolor\":\"white\",\"startlinecolor\":\"#2a3f5f\"},\"baxis\":{\"endlinecolor\":\"#2a3f5f\",\"gridcolor\":\"white\",\"linecolor\":\"white\",\"minorgridcolor\":\"white\",\"startlinecolor\":\"#2a3f5f\"},\"type\":\"carpet\"}],\"choropleth\":[{\"colorbar\":{\"outlinewidth\":0,\"ticks\":\"\"},\"type\":\"choropleth\"}],\"contour\":[{\"colorbar\":{\"outlinewidth\":0,\"ticks\":\"\"},\"colorscale\":[[0.0,\"#0d0887\"],[0.1111111111111111,\"#46039f\"],[0.2222222222222222,\"#7201a8\"],[0.3333333333333333,\"#9c179e\"],[0.4444444444444444,\"#bd3786\"],[0.5555555555555556,\"#d8576b\"],[0.6666666666666666,\"#ed7953\"],[0.7777777777777778,\"#fb9f3a\"],[0.8888888888888888,\"#fdca26\"],[1.0,\"#f0f921\"]],\"type\":\"contour\"}],\"contourcarpet\":[{\"colorbar\":{\"outlinewidth\":0,\"ticks\":\"\"},\"type\":\"contourcarpet\"}],\"heatmap\":[{\"colorbar\":{\"outlinewidth\":0,\"ticks\":\"\"},\"colorscale\":[[0.0,\"#0d0887\"],[0.1111111111111111,\"#46039f\"],[0.2222222222222222,\"#7201a8\"],[0.3333333333333333,\"#9c179e\"],[0.4444444444444444,\"#bd3786\"],[0.5555555555555556,\"#d8576b\"],[0.6666666666666666,\"#ed7953\"],[0.7777777777777778,\"#fb9f3a\"],[0.8888888888888888,\"#fdca26\"],[1.0,\"#f0f921\"]],\"type\":\"heatmap\"}],\"heatmapgl\":[{\"colorbar\":{\"outlinewidth\":0,\"ticks\":\"\"},\"colorscale\":[[0.0,\"#0d0887\"],[0.1111111111111111,\"#46039f\"],[0.2222222222222222,\"#7201a8\"],[0.3333333333333333,\"#9c179e\"],[0.4444444444444444,\"#bd3786\"],[0.5555555555555556,\"#d8576b\"],[0.6666666666666666,\"#ed7953\"],[0.7777777777777778,\"#fb9f3a\"],[0.8888888888888888,\"#fdca26\"],[1.0,\"#f0f921\"]],\"type\":\"heatmapgl\"}],\"histogram\":[{\"marker\":{\"pattern\":{\"fillmode\":\"overlay\",\"size\":10,\"solidity\":0.2}},\"type\":\"histogram\"}],\"histogram2d\":[{\"colorbar\":{\"outlinewidth\":0,\"ticks\":\"\"},\"colorscale\":[[0.0,\"#0d0887\"],[0.1111111111111111,\"#46039f\"],[0.2222222222222222,\"#7201a8\"],[0.3333333333333333,\"#9c179e\"],[0.4444444444444444,\"#bd3786\"],[0.5555555555555556,\"#d8576b\"],[0.6666666666666666,\"#ed7953\"],[0.7777777777777778,\"#fb9f3a\"],[0.8888888888888888,\"#fdca26\"],[1.0,\"#f0f921\"]],\"type\":\"histogram2d\"}],\"histogram2dcontour\":[{\"colorbar\":{\"outlinewidth\":0,\"ticks\":\"\"},\"colorscale\":[[0.0,\"#0d0887\"],[0.1111111111111111,\"#46039f\"],[0.2222222222222222,\"#7201a8\"],[0.3333333333333333,\"#9c179e\"],[0.4444444444444444,\"#bd3786\"],[0.5555555555555556,\"#d8576b\"],[0.6666666666666666,\"#ed7953\"],[0.7777777777777778,\"#fb9f3a\"],[0.8888888888888888,\"#fdca26\"],[1.0,\"#f0f921\"]],\"type\":\"histogram2dcontour\"}],\"mesh3d\":[{\"colorbar\":{\"outlinewidth\":0,\"ticks\":\"\"},\"type\":\"mesh3d\"}],\"parcoords\":[{\"line\":{\"colorbar\":{\"outlinewidth\":0,\"ticks\":\"\"}},\"type\":\"parcoords\"}],\"pie\":[{\"automargin\":true,\"type\":\"pie\"}],\"scatter\":[{\"marker\":{\"colorbar\":{\"outlinewidth\":0,\"ticks\":\"\"}},\"type\":\"scatter\"}],\"scatter3d\":[{\"line\":{\"colorbar\":{\"outlinewidth\":0,\"ticks\":\"\"}},\"marker\":{\"colorbar\":{\"outlinewidth\":0,\"ticks\":\"\"}},\"type\":\"scatter3d\"}],\"scattercarpet\":[{\"marker\":{\"colorbar\":{\"outlinewidth\":0,\"ticks\":\"\"}},\"type\":\"scattercarpet\"}],\"scattergeo\":[{\"marker\":{\"colorbar\":{\"outlinewidth\":0,\"ticks\":\"\"}},\"type\":\"scattergeo\"}],\"scattergl\":[{\"marker\":{\"colorbar\":{\"outlinewidth\":0,\"ticks\":\"\"}},\"type\":\"scattergl\"}],\"scattermapbox\":[{\"marker\":{\"colorbar\":{\"outlinewidth\":0,\"ticks\":\"\"}},\"type\":\"scattermapbox\"}],\"scatterpolar\":[{\"marker\":{\"colorbar\":{\"outlinewidth\":0,\"ticks\":\"\"}},\"type\":\"scatterpolar\"}],\"scatterpolargl\":[{\"marker\":{\"colorbar\":{\"outlinewidth\":0,\"ticks\":\"\"}},\"type\":\"scatterpolargl\"}],\"scatterternary\":[{\"marker\":{\"colorbar\":{\"outlinewidth\":0,\"ticks\":\"\"}},\"type\":\"scatterternary\"}],\"surface\":[{\"colorbar\":{\"outlinewidth\":0,\"ticks\":\"\"},\"colorscale\":[[0.0,\"#0d0887\"],[0.1111111111111111,\"#46039f\"],[0.2222222222222222,\"#7201a8\"],[0.3333333333333333,\"#9c179e\"],[0.4444444444444444,\"#bd3786\"],[0.5555555555555556,\"#d8576b\"],[0.6666666666666666,\"#ed7953\"],[0.7777777777777778,\"#fb9f3a\"],[0.8888888888888888,\"#fdca26\"],[1.0,\"#f0f921\"]],\"type\":\"surface\"}],\"table\":[{\"cells\":{\"fill\":{\"color\":\"#EBF0F8\"},\"line\":{\"color\":\"white\"}},\"header\":{\"fill\":{\"color\":\"#C8D4E3\"},\"line\":{\"color\":\"white\"}},\"type\":\"table\"}]},\"layout\":{\"annotationdefaults\":{\"arrowcolor\":\"#2a3f5f\",\"arrowhead\":0,\"arrowwidth\":1},\"autotypenumbers\":\"strict\",\"coloraxis\":{\"colorbar\":{\"outlinewidth\":0,\"ticks\":\"\"}},\"colorscale\":{\"diverging\":[[0,\"#8e0152\"],[0.1,\"#c51b7d\"],[0.2,\"#de77ae\"],[0.3,\"#f1b6da\"],[0.4,\"#fde0ef\"],[0.5,\"#f7f7f7\"],[0.6,\"#e6f5d0\"],[0.7,\"#b8e186\"],[0.8,\"#7fbc41\"],[0.9,\"#4d9221\"],[1,\"#276419\"]],\"sequential\":[[0.0,\"#0d0887\"],[0.1111111111111111,\"#46039f\"],[0.2222222222222222,\"#7201a8\"],[0.3333333333333333,\"#9c179e\"],[0.4444444444444444,\"#bd3786\"],[0.5555555555555556,\"#d8576b\"],[0.6666666666666666,\"#ed7953\"],[0.7777777777777778,\"#fb9f3a\"],[0.8888888888888888,\"#fdca26\"],[1.0,\"#f0f921\"]],\"sequentialminus\":[[0.0,\"#0d0887\"],[0.1111111111111111,\"#46039f\"],[0.2222222222222222,\"#7201a8\"],[0.3333333333333333,\"#9c179e\"],[0.4444444444444444,\"#bd3786\"],[0.5555555555555556,\"#d8576b\"],[0.6666666666666666,\"#ed7953\"],[0.7777777777777778,\"#fb9f3a\"],[0.8888888888888888,\"#fdca26\"],[1.0,\"#f0f921\"]]},\"colorway\":[\"#636efa\",\"#EF553B\",\"#00cc96\",\"#ab63fa\",\"#FFA15A\",\"#19d3f3\",\"#FF6692\",\"#B6E880\",\"#FF97FF\",\"#FECB52\"],\"font\":{\"color\":\"#2a3f5f\"},\"geo\":{\"bgcolor\":\"white\",\"lakecolor\":\"white\",\"landcolor\":\"#E5ECF6\",\"showlakes\":true,\"showland\":true,\"subunitcolor\":\"white\"},\"hoverlabel\":{\"align\":\"left\"},\"hovermode\":\"closest\",\"mapbox\":{\"style\":\"light\"},\"paper_bgcolor\":\"white\",\"plot_bgcolor\":\"#E5ECF6\",\"polar\":{\"angularaxis\":{\"gridcolor\":\"white\",\"linecolor\":\"white\",\"ticks\":\"\"},\"bgcolor\":\"#E5ECF6\",\"radialaxis\":{\"gridcolor\":\"white\",\"linecolor\":\"white\",\"ticks\":\"\"}},\"scene\":{\"xaxis\":{\"backgroundcolor\":\"#E5ECF6\",\"gridcolor\":\"white\",\"gridwidth\":2,\"linecolor\":\"white\",\"showbackground\":true,\"ticks\":\"\",\"zerolinecolor\":\"white\"},\"yaxis\":{\"backgroundcolor\":\"#E5ECF6\",\"gridcolor\":\"white\",\"gridwidth\":2,\"linecolor\":\"white\",\"showbackground\":true,\"ticks\":\"\",\"zerolinecolor\":\"white\"},\"zaxis\":{\"backgroundcolor\":\"#E5ECF6\",\"gridcolor\":\"white\",\"gridwidth\":2,\"linecolor\":\"white\",\"showbackground\":true,\"ticks\":\"\",\"zerolinecolor\":\"white\"}},\"shapedefaults\":{\"line\":{\"color\":\"#2a3f5f\"}},\"ternary\":{\"aaxis\":{\"gridcolor\":\"white\",\"linecolor\":\"white\",\"ticks\":\"\"},\"baxis\":{\"gridcolor\":\"white\",\"linecolor\":\"white\",\"ticks\":\"\"},\"bgcolor\":\"#E5ECF6\",\"caxis\":{\"gridcolor\":\"white\",\"linecolor\":\"white\",\"ticks\":\"\"}},\"title\":{\"x\":0.05},\"xaxis\":{\"automargin\":true,\"gridcolor\":\"white\",\"linecolor\":\"white\",\"ticks\":\"\",\"title\":{\"standoff\":15},\"zerolinecolor\":\"white\",\"zerolinewidth\":2},\"yaxis\":{\"automargin\":true,\"gridcolor\":\"white\",\"linecolor\":\"white\",\"ticks\":\"\",\"title\":{\"standoff\":15},\"zerolinecolor\":\"white\",\"zerolinewidth\":2}}},\"treemapcolorway\":[\"rgb(103,0,31)\",\"rgb(178,24,43)\",\"rgb(214,96,77)\",\"rgb(244,165,130)\",\"rgb(253,219,199)\",\"rgb(247,247,247)\",\"rgb(209,229,240)\",\"rgb(146,197,222)\",\"rgb(67,147,195)\",\"rgb(33,102,172)\",\"rgb(5,48,97)\"]},                        {\"responsive\": true}                    ).then(function(){\n",
              "                            \n",
              "var gd = document.getElementById('aa1e246c-4c73-4874-9033-d22aaf2e9636');\n",
              "var x = new MutationObserver(function (mutations, observer) {{\n",
              "        var display = window.getComputedStyle(gd).display;\n",
              "        if (!display || display === 'none') {{\n",
              "            console.log([gd, 'removed!']);\n",
              "            Plotly.purge(gd);\n",
              "            observer.disconnect();\n",
              "        }}\n",
              "}});\n",
              "\n",
              "// Listen for the removal of the full notebook cells\n",
              "var notebookContainer = gd.closest('#notebook-container');\n",
              "if (notebookContainer) {{\n",
              "    x.observe(notebookContainer, {childList: true});\n",
              "}}\n",
              "\n",
              "// Listen for the clearing of the current output cell\n",
              "var outputEl = gd.closest('.output');\n",
              "if (outputEl) {{\n",
              "    x.observe(outputEl, {childList: true});\n",
              "}}\n",
              "\n",
              "                        })                };                            </script>        </div>\n",
              "</body>\n",
              "</html>"
            ]
          },
          "metadata": {}
        }
      ]
    },
    {
      "cell_type": "markdown",
      "metadata": {
        "id": "lA2MOHoz88i_"
      },
      "source": [
        "* Com o `treemap chart` gerado, podemos extrair que:\n",
        "\n",
        "  * **Região Centro-Oeste**:\n",
        "    * Há um oscilação de homicídios por estupro nos períodos de jan/2011 à jan/2016 (5 anos).\n",
        "\n",
        "    * Se pegarmos o mesmo período citado (jan/2011 à jan/2016) houve um aumento de aproximadamente 1.143 vítimas.\n",
        "\n",
        "  * **Região Norte**:\n",
        "    * Há um oscilação de homicídios por estupro nos períodos de jan/2011 à jan/2016 (5 anos).\n",
        "\n",
        "    * Se pegarmos o mesmo período citado (jan/2011 à jan/2016) houve um aumento de aproximadamente 1.473 vítimas.\n",
        "\n",
        "  * **Região Sul**:\n",
        "    * Há um oscilação de homicídios por estupro nos períodos de jan/2011 à jan/2016 (5 anos).\n",
        "\n",
        "    * Se pegarmos o mesmo período citado (jan/2011 à jan/2016) houve um aumento de aproximadamente 2.047 vítimas.\n",
        "\n",
        "  * **Região Nordeste**:\n",
        "    * Há um oscilação de homicídios por estupro nos períodos de jan/2011 à jan/2016 (5 anos).\n",
        "\n",
        "    *  Se pegarmos o mesmo período citado (jan/2011 à jan/2016) houve um aumento de aproximadamente 2.101 vítimas.\n",
        "\n",
        "  * **Região Sudeste**:\n",
        "    * Há um oscilação de homicídios por estupro nos períodos de jan/2011 à jan/2016 (5 anos).\n",
        "\n",
        "    * Se pegarmos o mesmo período citado, houve um aumento de aproximadamente 4.067 vítimas.\n",
        "\n"
      ]
    },
    {
      "cell_type": "markdown",
      "source": [
        "* Com isso, a partir do `treemap char`t concluirmos que a região que teve o maior aumento no número de casos de homicídos por estupro, foi a região Suldeste."
      ],
      "metadata": {
        "id": "JappVns22hUQ"
      }
    },
    {
      "cell_type": "markdown",
      "metadata": {
        "id": "LJHy_h9aWIrd"
      },
      "source": [
        "\n",
        "\n",
        "---\n",
        "\n"
      ]
    },
    {
      "cell_type": "markdown",
      "metadata": {
        "id": "J8hPlicAWM1D"
      },
      "source": [
        "### 2.3) **Análise de Homicídios por Estupro por UF**:"
      ]
    },
    {
      "cell_type": "markdown",
      "metadata": {
        "id": "TqvSjIlTWSGZ"
      },
      "source": [
        "\n",
        "\n",
        "---\n",
        "\n"
      ]
    },
    {
      "cell_type": "markdown",
      "metadata": {
        "id": "ReL3o6EdOs40"
      },
      "source": [
        "* Um gráfico que pode elucidar mais uma vez a situação de homicídios por estupro é por meio do `treemap chart`:"
      ]
    },
    {
      "cell_type": "code",
      "metadata": {
        "colab": {
          "base_uri": "https://localhost:8080/",
          "height": 204
        },
        "id": "KXmcNPgUWTIV",
        "outputId": "e8b55773-92f3-4c43-a0d8-8ad8be0f748b"
      },
      "source": [
        "data_uf.head(5)"
      ],
      "execution_count": null,
      "outputs": [
        {
          "output_type": "execute_result",
          "data": {
            "text/html": [
              "<div>\n",
              "<style scoped>\n",
              "    .dataframe tbody tr th:only-of-type {\n",
              "        vertical-align: middle;\n",
              "    }\n",
              "\n",
              "    .dataframe tbody tr th {\n",
              "        vertical-align: top;\n",
              "    }\n",
              "\n",
              "    .dataframe thead th {\n",
              "        text-align: right;\n",
              "    }\n",
              "</style>\n",
              "<table border=\"1\" class=\"dataframe\">\n",
              "  <thead>\n",
              "    <tr style=\"text-align: right;\">\n",
              "      <th></th>\n",
              "      <th>sigla</th>\n",
              "      <th>Quantidade de Vítimas</th>\n",
              "      <th>Ano</th>\n",
              "    </tr>\n",
              "  </thead>\n",
              "  <tbody>\n",
              "    <tr>\n",
              "      <th>0</th>\n",
              "      <td>AM</td>\n",
              "      <td>855</td>\n",
              "      <td>2011-01-15</td>\n",
              "    </tr>\n",
              "    <tr>\n",
              "      <th>1</th>\n",
              "      <td>SE</td>\n",
              "      <td>201</td>\n",
              "      <td>2011-01-15</td>\n",
              "    </tr>\n",
              "    <tr>\n",
              "      <th>2</th>\n",
              "      <td>AC</td>\n",
              "      <td>280</td>\n",
              "      <td>2011-01-15</td>\n",
              "    </tr>\n",
              "    <tr>\n",
              "      <th>3</th>\n",
              "      <td>CE</td>\n",
              "      <td>68</td>\n",
              "      <td>2011-01-15</td>\n",
              "    </tr>\n",
              "    <tr>\n",
              "      <th>4</th>\n",
              "      <td>RR</td>\n",
              "      <td>112</td>\n",
              "      <td>2011-01-15</td>\n",
              "    </tr>\n",
              "  </tbody>\n",
              "</table>\n",
              "</div>"
            ],
            "text/plain": [
              "  sigla  Quantidade de Vítimas         Ano\n",
              "0    AM                    855  2011-01-15\n",
              "1    SE                    201  2011-01-15\n",
              "2    AC                    280  2011-01-15\n",
              "3    CE                     68  2011-01-15\n",
              "4    RR                    112  2011-01-15"
            ]
          },
          "metadata": {},
          "execution_count": 32
        }
      ]
    },
    {
      "cell_type": "code",
      "metadata": {
        "colab": {
          "base_uri": "https://localhost:8080/",
          "height": 542
        },
        "id": "u0BwfxAh9Zsa",
        "outputId": "6272bcc4-249b-4c87-8035-1a9f1a9bba34"
      },
      "source": [
        "data_uf1 = data_uf.groupby(['sigla',\n",
        "                            'Ano']\n",
        "                           ).sum().reset_index()\n",
        "\n",
        "fig1 = px.treemap(\n",
        "    data_uf1,\n",
        "    path=['sigla',\n",
        "          'Ano',\n",
        "          'Quantidade de Vítimas'],\n",
        "          color_discrete_sequence = px.colors.qualitative.D3)\n",
        "\n",
        "fig1.update_layout(margin = dict(t=50,\n",
        "                                 l=25,\n",
        "                                 r=25,\n",
        "                                 b=25))\n",
        "\n",
        "fig1.show()"
      ],
      "execution_count": null,
      "outputs": [
        {
          "output_type": "display_data",
          "data": {
            "text/html": [
              "<html>\n",
              "<head><meta charset=\"utf-8\" /></head>\n",
              "<body>\n",
              "    <div>            <script src=\"https://cdnjs.cloudflare.com/ajax/libs/mathjax/2.7.5/MathJax.js?config=TeX-AMS-MML_SVG\"></script><script type=\"text/javascript\">if (window.MathJax) {MathJax.Hub.Config({SVG: {font: \"STIX-Web\"}});}</script>                <script type=\"text/javascript\">window.PlotlyConfig = {MathJaxConfig: 'local'};</script>\n",
              "        <script src=\"https://cdn.plot.ly/plotly-2.4.2.min.js\"></script>                <div id=\"f64c5195-67d7-488c-8ee9-7a7e8eeb6d07\" class=\"plotly-graph-div\" style=\"height:525px; width:100%;\"></div>            <script type=\"text/javascript\">                                    window.PLOTLYENV=window.PLOTLYENV || {};                                    if (document.getElementById(\"f64c5195-67d7-488c-8ee9-7a7e8eeb6d07\")) {                    Plotly.newPlot(                        \"f64c5195-67d7-488c-8ee9-7a7e8eeb6d07\",                        [{\"branchvalues\":\"total\",\"domain\":{\"x\":[0.0,1.0],\"y\":[0.0,1.0]},\"hovertemplate\":\"labels=%{label}<br>count=%{value}<br>parent=%{parent}<br>id=%{id}<extra></extra>\",\"ids\":[\"AP/2011-01-15/39\",\"RO/2011-01-15/47\",\"PI/2011-01-15/54\",\"AP/2015-01-15/55\",\"RO/2012-01-15/61\",\"CE/2011-01-15/68\",\"AP/2012-01-15/73\",\"RN/2011-01-15/76\",\"AP/2014-01-15/76\",\"RO/2013-01-15/78\",\"AP/2013-01-15/94\",\"AL/2011-01-15/103\",\"CE/2012-01-15/104\",\"CE/2013-01-15/104\",\"TO/2011-01-15/109\",\"RN/2015-01-15/110\",\"RN/2012-01-15/111\",\"RR/2011-01-15/112\",\"PB/2016-01-15/113\",\"AL/2012-01-15/117\",\"RR/2012-01-15/117\",\"RN/2013-01-15/117\",\"AP/2016-01-15/121\",\"ES/2011-01-15/122\",\"RO/2014-01-15/123\",\"PB/2011-01-15/126\",\"RN/2014-01-15/126\",\"RR/2015-01-15/127\",\"RR/2014-01-15/128\",\"AL/2013-01-15/130\",\"RN/2016-01-15/131\",\"SE/2016-01-15/137\",\"TO/2012-01-15/144\",\"RR/2013-01-15/144\",\"RR/2016-01-15/156\",\"PI/2012-01-15/171\",\"AL/2014-01-15/186\",\"AL/2015-01-15/187\",\"MA/2014-01-15/193\",\"RO/2015-01-15/196\",\"SE/2011-01-15/201\",\"PB/2014-01-15/206\",\"MS/2011-01-15/209\",\"RO/2016-01-15/215\",\"PB/2015-01-15/220\",\"MT/2012-01-15/223\",\"MA/2012-01-15/225\",\"AL/2016-01-15/230\",\"MA/2011-01-15/234\",\"PB/2013-01-15/241\",\"PB/2012-01-15/243\",\"MA/2013-01-15/256\",\"GO/2011-01-15/257\",\"MT/2013-01-15/261\",\"CE/2015-01-15/262\",\"SE/2015-01-15/264\",\"MS/2012-01-15/268\",\"CE/2014-01-15/269\",\"MA/2015-01-15/269\",\"MS/2015-01-15/269\",\"MA/2016-01-15/270\",\"AC/2011-01-15/280\",\"SE/2014-01-15/288\",\"ES/2012-01-15/289\",\"MT/2014-01-15/290\",\"TO/2013-01-15/299\",\"MS/2016-01-15/300\",\"BA/2011-01-15/306\",\"SE/2013-01-15/311\",\"MT/2011-01-15/317\",\"ES/2013-01-15/319\",\"SE/2012-01-15/323\",\"DF/2011-01-15/324\",\"MT/2015-01-15/328\",\"MS/2013-01-15/355\",\"MT/2016-01-15/356\",\"AC/2014-01-15/369\",\"MS/2014-01-15/372\",\"AC/2012-01-15/387\",\"ES/2014-01-15/405\",\"BA/2012-01-15/411\",\"AC/2015-01-15/418\",\"PI/2014-01-15/421\",\"SC/2011-01-15/433\",\"CE/2016-01-15/434\",\"GO/2012-01-15/438\",\"AC/2013-01-15/439\",\"TO/2015-01-15/443\",\"AC/2016-01-15/443\",\"TO/2014-01-15/493\",\"ES/2015-01-15/505\",\"PI/2013-01-15/522\",\"TO/2016-01-15/544\",\"DF/2015-01-15/557\",\"ES/2016-01-15/559\",\"GO/2013-01-15/594\",\"PI/2015-01-15/598\",\"PI/2016-01-15/598\",\"GO/2014-01-15/603\",\"DF/2012-01-15/610\",\"SC/2012-01-15/617\",\"DF/2014-01-15/631\",\"PR/2011-01-15/648\",\"RJ/2011-01-15/674\",\"BA/2013-01-15/727\",\"PE/2011-01-15/729\",\"DF/2016-01-15/733\",\"SC/2013-01-15/767\",\"SC/2015-01-15/771\",\"GO/2015-01-15/787\",\"PE/2012-01-15/792\",\"DF/2013-01-15/794\",\"SC/2014-01-15/799\",\"AM/2011-01-15/855\",\"BA/2015-01-15/860\",\"GO/2016-01-15/861\",\"SC/2016-01-15/875\",\"BA/2014-01-15/916\",\"BA/2016-01-15/917\",\"PE/2013-01-15/1014\",\"PR/2012-01-15/1037\",\"MG/2011-01-15/1041\",\"RJ/2012-01-15/1048\",\"AM/2016-01-15/1082\",\"PE/2014-01-15/1087\",\"PE/2015-01-15/1132\",\"RS/2011-01-15/1135\",\"AM/2015-01-15/1136\",\"AM/2012-01-15/1151\",\"PA/2011-01-15/1157\",\"PE/2016-01-15/1168\",\"RJ/2015-01-15/1207\",\"RJ/2013-01-15/1324\",\"AM/2013-01-15/1354\",\"AM/2014-01-15/1356\",\"RJ/2014-01-15/1368\",\"PR/2013-01-15/1372\",\"RS/2012-01-15/1377\",\"PA/2012-01-15/1386\",\"MG/2012-01-15/1405\",\"RS/2013-01-15/1417\",\"RS/2016-01-15/1460\",\"PA/2015-01-15/1462\",\"PA/2014-01-15/1477\",\"RS/2015-01-15/1479\",\"PA/2013-01-15/1490\",\"PA/2016-01-15/1511\",\"RS/2014-01-15/1515\",\"PR/2014-01-15/1532\",\"RJ/2016-01-15/1588\",\"PR/2015-01-15/1738\",\"MG/2013-01-15/1765\",\"MG/2014-01-15/1911\",\"PR/2016-01-15/1928\",\"MG/2015-01-15/2037\",\"MG/2016-01-15/2100\",\"SP/2011-01-15/2431\",\"SP/2013-01-15/2841\",\"SP/2014-01-15/2886\",\"SP/2012-01-15/2976\",\"SP/2015-01-15/3180\",\"SP/2016-01-15/4088\",\"AC/2011-01-15\",\"AL/2011-01-15\",\"AM/2011-01-15\",\"AP/2011-01-15\",\"BA/2011-01-15\",\"CE/2011-01-15\",\"DF/2011-01-15\",\"ES/2011-01-15\",\"GO/2011-01-15\",\"MA/2011-01-15\",\"MG/2011-01-15\",\"MS/2011-01-15\",\"MT/2011-01-15\",\"PA/2011-01-15\",\"PB/2011-01-15\",\"PE/2011-01-15\",\"PI/2011-01-15\",\"PR/2011-01-15\",\"RJ/2011-01-15\",\"RN/2011-01-15\",\"RO/2011-01-15\",\"RR/2011-01-15\",\"RS/2011-01-15\",\"SC/2011-01-15\",\"SE/2011-01-15\",\"SP/2011-01-15\",\"TO/2011-01-15\",\"AC/2012-01-15\",\"AL/2012-01-15\",\"AM/2012-01-15\",\"AP/2012-01-15\",\"BA/2012-01-15\",\"CE/2012-01-15\",\"DF/2012-01-15\",\"ES/2012-01-15\",\"GO/2012-01-15\",\"MA/2012-01-15\",\"MG/2012-01-15\",\"MS/2012-01-15\",\"MT/2012-01-15\",\"PA/2012-01-15\",\"PB/2012-01-15\",\"PE/2012-01-15\",\"PI/2012-01-15\",\"PR/2012-01-15\",\"RJ/2012-01-15\",\"RN/2012-01-15\",\"RO/2012-01-15\",\"RR/2012-01-15\",\"RS/2012-01-15\",\"SC/2012-01-15\",\"SE/2012-01-15\",\"SP/2012-01-15\",\"TO/2012-01-15\",\"AC/2013-01-15\",\"AL/2013-01-15\",\"AM/2013-01-15\",\"AP/2013-01-15\",\"BA/2013-01-15\",\"CE/2013-01-15\",\"DF/2013-01-15\",\"ES/2013-01-15\",\"GO/2013-01-15\",\"MA/2013-01-15\",\"MG/2013-01-15\",\"MS/2013-01-15\",\"MT/2013-01-15\",\"PA/2013-01-15\",\"PB/2013-01-15\",\"PE/2013-01-15\",\"PI/2013-01-15\",\"PR/2013-01-15\",\"RJ/2013-01-15\",\"RN/2013-01-15\",\"RO/2013-01-15\",\"RR/2013-01-15\",\"RS/2013-01-15\",\"SC/2013-01-15\",\"SE/2013-01-15\",\"SP/2013-01-15\",\"TO/2013-01-15\",\"AC/2014-01-15\",\"AL/2014-01-15\",\"AM/2014-01-15\",\"AP/2014-01-15\",\"BA/2014-01-15\",\"CE/2014-01-15\",\"DF/2014-01-15\",\"ES/2014-01-15\",\"GO/2014-01-15\",\"MA/2014-01-15\",\"MG/2014-01-15\",\"MS/2014-01-15\",\"MT/2014-01-15\",\"PA/2014-01-15\",\"PB/2014-01-15\",\"PE/2014-01-15\",\"PI/2014-01-15\",\"PR/2014-01-15\",\"RJ/2014-01-15\",\"RN/2014-01-15\",\"RO/2014-01-15\",\"RR/2014-01-15\",\"RS/2014-01-15\",\"SC/2014-01-15\",\"SE/2014-01-15\",\"SP/2014-01-15\",\"TO/2014-01-15\",\"AC/2015-01-15\",\"AL/2015-01-15\",\"AM/2015-01-15\",\"AP/2015-01-15\",\"BA/2015-01-15\",\"CE/2015-01-15\",\"DF/2015-01-15\",\"ES/2015-01-15\",\"GO/2015-01-15\",\"MA/2015-01-15\",\"MG/2015-01-15\",\"MS/2015-01-15\",\"MT/2015-01-15\",\"PA/2015-01-15\",\"PB/2015-01-15\",\"PE/2015-01-15\",\"PI/2015-01-15\",\"PR/2015-01-15\",\"RJ/2015-01-15\",\"RN/2015-01-15\",\"RO/2015-01-15\",\"RR/2015-01-15\",\"RS/2015-01-15\",\"SC/2015-01-15\",\"SE/2015-01-15\",\"SP/2015-01-15\",\"TO/2015-01-15\",\"AC/2016-01-15\",\"AL/2016-01-15\",\"AM/2016-01-15\",\"AP/2016-01-15\",\"BA/2016-01-15\",\"CE/2016-01-15\",\"DF/2016-01-15\",\"ES/2016-01-15\",\"GO/2016-01-15\",\"MA/2016-01-15\",\"MG/2016-01-15\",\"MS/2016-01-15\",\"MT/2016-01-15\",\"PA/2016-01-15\",\"PB/2016-01-15\",\"PE/2016-01-15\",\"PI/2016-01-15\",\"PR/2016-01-15\",\"RJ/2016-01-15\",\"RN/2016-01-15\",\"RO/2016-01-15\",\"RR/2016-01-15\",\"RS/2016-01-15\",\"SC/2016-01-15\",\"SE/2016-01-15\",\"SP/2016-01-15\",\"TO/2016-01-15\",\"AC\",\"AL\",\"AM\",\"AP\",\"BA\",\"CE\",\"DF\",\"ES\",\"GO\",\"MA\",\"MG\",\"MS\",\"MT\",\"PA\",\"PB\",\"PE\",\"PI\",\"PR\",\"RJ\",\"RN\",\"RO\",\"RR\",\"RS\",\"SC\",\"SE\",\"SP\",\"TO\"],\"labels\":[\"39\",\"47\",\"54\",\"55\",\"61\",\"68\",\"73\",\"76\",\"76\",\"78\",\"94\",\"103\",\"104\",\"104\",\"109\",\"110\",\"111\",\"112\",\"113\",\"117\",\"117\",\"117\",\"121\",\"122\",\"123\",\"126\",\"126\",\"127\",\"128\",\"130\",\"131\",\"137\",\"144\",\"144\",\"156\",\"171\",\"186\",\"187\",\"193\",\"196\",\"201\",\"206\",\"209\",\"215\",\"220\",\"223\",\"225\",\"230\",\"234\",\"241\",\"243\",\"256\",\"257\",\"261\",\"262\",\"264\",\"268\",\"269\",\"269\",\"269\",\"270\",\"280\",\"288\",\"289\",\"290\",\"299\",\"300\",\"306\",\"311\",\"317\",\"319\",\"323\",\"324\",\"328\",\"355\",\"356\",\"369\",\"372\",\"387\",\"405\",\"411\",\"418\",\"421\",\"433\",\"434\",\"438\",\"439\",\"443\",\"443\",\"493\",\"505\",\"522\",\"544\",\"557\",\"559\",\"594\",\"598\",\"598\",\"603\",\"610\",\"617\",\"631\",\"648\",\"674\",\"727\",\"729\",\"733\",\"767\",\"771\",\"787\",\"792\",\"794\",\"799\",\"855\",\"860\",\"861\",\"875\",\"916\",\"917\",\"1014\",\"1037\",\"1041\",\"1048\",\"1082\",\"1087\",\"1132\",\"1135\",\"1136\",\"1151\",\"1157\",\"1168\",\"1207\",\"1324\",\"1354\",\"1356\",\"1368\",\"1372\",\"1377\",\"1386\",\"1405\",\"1417\",\"1460\",\"1462\",\"1477\",\"1479\",\"1490\",\"1511\",\"1515\",\"1532\",\"1588\",\"1738\",\"1765\",\"1911\",\"1928\",\"2037\",\"2100\",\"2431\",\"2841\",\"2886\",\"2976\",\"3180\",\"4088\",\"2011-01-15\",\"2011-01-15\",\"2011-01-15\",\"2011-01-15\",\"2011-01-15\",\"2011-01-15\",\"2011-01-15\",\"2011-01-15\",\"2011-01-15\",\"2011-01-15\",\"2011-01-15\",\"2011-01-15\",\"2011-01-15\",\"2011-01-15\",\"2011-01-15\",\"2011-01-15\",\"2011-01-15\",\"2011-01-15\",\"2011-01-15\",\"2011-01-15\",\"2011-01-15\",\"2011-01-15\",\"2011-01-15\",\"2011-01-15\",\"2011-01-15\",\"2011-01-15\",\"2011-01-15\",\"2012-01-15\",\"2012-01-15\",\"2012-01-15\",\"2012-01-15\",\"2012-01-15\",\"2012-01-15\",\"2012-01-15\",\"2012-01-15\",\"2012-01-15\",\"2012-01-15\",\"2012-01-15\",\"2012-01-15\",\"2012-01-15\",\"2012-01-15\",\"2012-01-15\",\"2012-01-15\",\"2012-01-15\",\"2012-01-15\",\"2012-01-15\",\"2012-01-15\",\"2012-01-15\",\"2012-01-15\",\"2012-01-15\",\"2012-01-15\",\"2012-01-15\",\"2012-01-15\",\"2012-01-15\",\"2013-01-15\",\"2013-01-15\",\"2013-01-15\",\"2013-01-15\",\"2013-01-15\",\"2013-01-15\",\"2013-01-15\",\"2013-01-15\",\"2013-01-15\",\"2013-01-15\",\"2013-01-15\",\"2013-01-15\",\"2013-01-15\",\"2013-01-15\",\"2013-01-15\",\"2013-01-15\",\"2013-01-15\",\"2013-01-15\",\"2013-01-15\",\"2013-01-15\",\"2013-01-15\",\"2013-01-15\",\"2013-01-15\",\"2013-01-15\",\"2013-01-15\",\"2013-01-15\",\"2013-01-15\",\"2014-01-15\",\"2014-01-15\",\"2014-01-15\",\"2014-01-15\",\"2014-01-15\",\"2014-01-15\",\"2014-01-15\",\"2014-01-15\",\"2014-01-15\",\"2014-01-15\",\"2014-01-15\",\"2014-01-15\",\"2014-01-15\",\"2014-01-15\",\"2014-01-15\",\"2014-01-15\",\"2014-01-15\",\"2014-01-15\",\"2014-01-15\",\"2014-01-15\",\"2014-01-15\",\"2014-01-15\",\"2014-01-15\",\"2014-01-15\",\"2014-01-15\",\"2014-01-15\",\"2014-01-15\",\"2015-01-15\",\"2015-01-15\",\"2015-01-15\",\"2015-01-15\",\"2015-01-15\",\"2015-01-15\",\"2015-01-15\",\"2015-01-15\",\"2015-01-15\",\"2015-01-15\",\"2015-01-15\",\"2015-01-15\",\"2015-01-15\",\"2015-01-15\",\"2015-01-15\",\"2015-01-15\",\"2015-01-15\",\"2015-01-15\",\"2015-01-15\",\"2015-01-15\",\"2015-01-15\",\"2015-01-15\",\"2015-01-15\",\"2015-01-15\",\"2015-01-15\",\"2015-01-15\",\"2015-01-15\",\"2016-01-15\",\"2016-01-15\",\"2016-01-15\",\"2016-01-15\",\"2016-01-15\",\"2016-01-15\",\"2016-01-15\",\"2016-01-15\",\"2016-01-15\",\"2016-01-15\",\"2016-01-15\",\"2016-01-15\",\"2016-01-15\",\"2016-01-15\",\"2016-01-15\",\"2016-01-15\",\"2016-01-15\",\"2016-01-15\",\"2016-01-15\",\"2016-01-15\",\"2016-01-15\",\"2016-01-15\",\"2016-01-15\",\"2016-01-15\",\"2016-01-15\",\"2016-01-15\",\"2016-01-15\",\"AC\",\"AL\",\"AM\",\"AP\",\"BA\",\"CE\",\"DF\",\"ES\",\"GO\",\"MA\",\"MG\",\"MS\",\"MT\",\"PA\",\"PB\",\"PE\",\"PI\",\"PR\",\"RJ\",\"RN\",\"RO\",\"RR\",\"RS\",\"SC\",\"SE\",\"SP\",\"TO\"],\"name\":\"\",\"parents\":[\"AP/2011-01-15\",\"RO/2011-01-15\",\"PI/2011-01-15\",\"AP/2015-01-15\",\"RO/2012-01-15\",\"CE/2011-01-15\",\"AP/2012-01-15\",\"RN/2011-01-15\",\"AP/2014-01-15\",\"RO/2013-01-15\",\"AP/2013-01-15\",\"AL/2011-01-15\",\"CE/2012-01-15\",\"CE/2013-01-15\",\"TO/2011-01-15\",\"RN/2015-01-15\",\"RN/2012-01-15\",\"RR/2011-01-15\",\"PB/2016-01-15\",\"AL/2012-01-15\",\"RR/2012-01-15\",\"RN/2013-01-15\",\"AP/2016-01-15\",\"ES/2011-01-15\",\"RO/2014-01-15\",\"PB/2011-01-15\",\"RN/2014-01-15\",\"RR/2015-01-15\",\"RR/2014-01-15\",\"AL/2013-01-15\",\"RN/2016-01-15\",\"SE/2016-01-15\",\"TO/2012-01-15\",\"RR/2013-01-15\",\"RR/2016-01-15\",\"PI/2012-01-15\",\"AL/2014-01-15\",\"AL/2015-01-15\",\"MA/2014-01-15\",\"RO/2015-01-15\",\"SE/2011-01-15\",\"PB/2014-01-15\",\"MS/2011-01-15\",\"RO/2016-01-15\",\"PB/2015-01-15\",\"MT/2012-01-15\",\"MA/2012-01-15\",\"AL/2016-01-15\",\"MA/2011-01-15\",\"PB/2013-01-15\",\"PB/2012-01-15\",\"MA/2013-01-15\",\"GO/2011-01-15\",\"MT/2013-01-15\",\"CE/2015-01-15\",\"SE/2015-01-15\",\"MS/2012-01-15\",\"CE/2014-01-15\",\"MA/2015-01-15\",\"MS/2015-01-15\",\"MA/2016-01-15\",\"AC/2011-01-15\",\"SE/2014-01-15\",\"ES/2012-01-15\",\"MT/2014-01-15\",\"TO/2013-01-15\",\"MS/2016-01-15\",\"BA/2011-01-15\",\"SE/2013-01-15\",\"MT/2011-01-15\",\"ES/2013-01-15\",\"SE/2012-01-15\",\"DF/2011-01-15\",\"MT/2015-01-15\",\"MS/2013-01-15\",\"MT/2016-01-15\",\"AC/2014-01-15\",\"MS/2014-01-15\",\"AC/2012-01-15\",\"ES/2014-01-15\",\"BA/2012-01-15\",\"AC/2015-01-15\",\"PI/2014-01-15\",\"SC/2011-01-15\",\"CE/2016-01-15\",\"GO/2012-01-15\",\"AC/2013-01-15\",\"TO/2015-01-15\",\"AC/2016-01-15\",\"TO/2014-01-15\",\"ES/2015-01-15\",\"PI/2013-01-15\",\"TO/2016-01-15\",\"DF/2015-01-15\",\"ES/2016-01-15\",\"GO/2013-01-15\",\"PI/2015-01-15\",\"PI/2016-01-15\",\"GO/2014-01-15\",\"DF/2012-01-15\",\"SC/2012-01-15\",\"DF/2014-01-15\",\"PR/2011-01-15\",\"RJ/2011-01-15\",\"BA/2013-01-15\",\"PE/2011-01-15\",\"DF/2016-01-15\",\"SC/2013-01-15\",\"SC/2015-01-15\",\"GO/2015-01-15\",\"PE/2012-01-15\",\"DF/2013-01-15\",\"SC/2014-01-15\",\"AM/2011-01-15\",\"BA/2015-01-15\",\"GO/2016-01-15\",\"SC/2016-01-15\",\"BA/2014-01-15\",\"BA/2016-01-15\",\"PE/2013-01-15\",\"PR/2012-01-15\",\"MG/2011-01-15\",\"RJ/2012-01-15\",\"AM/2016-01-15\",\"PE/2014-01-15\",\"PE/2015-01-15\",\"RS/2011-01-15\",\"AM/2015-01-15\",\"AM/2012-01-15\",\"PA/2011-01-15\",\"PE/2016-01-15\",\"RJ/2015-01-15\",\"RJ/2013-01-15\",\"AM/2013-01-15\",\"AM/2014-01-15\",\"RJ/2014-01-15\",\"PR/2013-01-15\",\"RS/2012-01-15\",\"PA/2012-01-15\",\"MG/2012-01-15\",\"RS/2013-01-15\",\"RS/2016-01-15\",\"PA/2015-01-15\",\"PA/2014-01-15\",\"RS/2015-01-15\",\"PA/2013-01-15\",\"PA/2016-01-15\",\"RS/2014-01-15\",\"PR/2014-01-15\",\"RJ/2016-01-15\",\"PR/2015-01-15\",\"MG/2013-01-15\",\"MG/2014-01-15\",\"PR/2016-01-15\",\"MG/2015-01-15\",\"MG/2016-01-15\",\"SP/2011-01-15\",\"SP/2013-01-15\",\"SP/2014-01-15\",\"SP/2012-01-15\",\"SP/2015-01-15\",\"SP/2016-01-15\",\"AC\",\"AL\",\"AM\",\"AP\",\"BA\",\"CE\",\"DF\",\"ES\",\"GO\",\"MA\",\"MG\",\"MS\",\"MT\",\"PA\",\"PB\",\"PE\",\"PI\",\"PR\",\"RJ\",\"RN\",\"RO\",\"RR\",\"RS\",\"SC\",\"SE\",\"SP\",\"TO\",\"AC\",\"AL\",\"AM\",\"AP\",\"BA\",\"CE\",\"DF\",\"ES\",\"GO\",\"MA\",\"MG\",\"MS\",\"MT\",\"PA\",\"PB\",\"PE\",\"PI\",\"PR\",\"RJ\",\"RN\",\"RO\",\"RR\",\"RS\",\"SC\",\"SE\",\"SP\",\"TO\",\"AC\",\"AL\",\"AM\",\"AP\",\"BA\",\"CE\",\"DF\",\"ES\",\"GO\",\"MA\",\"MG\",\"MS\",\"MT\",\"PA\",\"PB\",\"PE\",\"PI\",\"PR\",\"RJ\",\"RN\",\"RO\",\"RR\",\"RS\",\"SC\",\"SE\",\"SP\",\"TO\",\"AC\",\"AL\",\"AM\",\"AP\",\"BA\",\"CE\",\"DF\",\"ES\",\"GO\",\"MA\",\"MG\",\"MS\",\"MT\",\"PA\",\"PB\",\"PE\",\"PI\",\"PR\",\"RJ\",\"RN\",\"RO\",\"RR\",\"RS\",\"SC\",\"SE\",\"SP\",\"TO\",\"AC\",\"AL\",\"AM\",\"AP\",\"BA\",\"CE\",\"DF\",\"ES\",\"GO\",\"MA\",\"MG\",\"MS\",\"MT\",\"PA\",\"PB\",\"PE\",\"PI\",\"PR\",\"RJ\",\"RN\",\"RO\",\"RR\",\"RS\",\"SC\",\"SE\",\"SP\",\"TO\",\"AC\",\"AL\",\"AM\",\"AP\",\"BA\",\"CE\",\"DF\",\"ES\",\"GO\",\"MA\",\"MG\",\"MS\",\"MT\",\"PA\",\"PB\",\"PE\",\"PI\",\"PR\",\"RJ\",\"RN\",\"RO\",\"RR\",\"RS\",\"SC\",\"SE\",\"SP\",\"TO\",\"\",\"\",\"\",\"\",\"\",\"\",\"\",\"\",\"\",\"\",\"\",\"\",\"\",\"\",\"\",\"\",\"\",\"\",\"\",\"\",\"\",\"\",\"\",\"\",\"\",\"\",\"\"],\"type\":\"treemap\",\"values\":[1,1,1,1,1,1,1,1,1,1,1,1,1,1,1,1,1,1,1,1,1,1,1,1,1,1,1,1,1,1,1,1,1,1,1,1,1,1,1,1,1,1,1,1,1,1,1,1,1,1,1,1,1,1,1,1,1,1,1,1,1,1,1,1,1,1,1,1,1,1,1,1,1,1,1,1,1,1,1,1,1,1,1,1,1,1,1,1,1,1,1,1,1,1,1,1,1,1,1,1,1,1,1,1,1,1,1,1,1,1,1,1,1,1,1,1,1,1,1,1,1,1,1,1,1,1,1,1,1,1,1,1,1,1,1,1,1,1,1,1,1,1,1,1,1,1,1,1,1,1,1,1,1,1,1,1,1,1,1,1,1,1,1,1,1,1,1,1,1,1,1,1,1,1,1,1,1,1,1,1,1,1,1,1,1,1,1,1,1,1,1,1,1,1,1,1,1,1,1,1,1,1,1,1,1,1,1,1,1,1,1,1,1,1,1,1,1,1,1,1,1,1,1,1,1,1,1,1,1,1,1,1,1,1,1,1,1,1,1,1,1,1,1,1,1,1,1,1,1,1,1,1,1,1,1,1,1,1,1,1,1,1,1,1,1,1,1,1,1,1,1,1,1,1,1,1,1,1,1,1,1,1,1,1,1,1,1,1,1,1,1,1,1,1,1,1,1,1,1,1,1,1,1,1,1,1,1,1,1,1,1,1,1,1,1,1,1,1,1,1,1,1,1,1,6,6,6,6,6,6,6,6,6,6,6,6,6,6,6,6,6,6,6,6,6,6,6,6,6,6,6]}],                        {\"legend\":{\"tracegroupgap\":0},\"margin\":{\"b\":25,\"l\":25,\"r\":25,\"t\":50},\"template\":{\"data\":{\"bar\":[{\"error_x\":{\"color\":\"#2a3f5f\"},\"error_y\":{\"color\":\"#2a3f5f\"},\"marker\":{\"line\":{\"color\":\"#E5ECF6\",\"width\":0.5},\"pattern\":{\"fillmode\":\"overlay\",\"size\":10,\"solidity\":0.2}},\"type\":\"bar\"}],\"barpolar\":[{\"marker\":{\"line\":{\"color\":\"#E5ECF6\",\"width\":0.5},\"pattern\":{\"fillmode\":\"overlay\",\"size\":10,\"solidity\":0.2}},\"type\":\"barpolar\"}],\"carpet\":[{\"aaxis\":{\"endlinecolor\":\"#2a3f5f\",\"gridcolor\":\"white\",\"linecolor\":\"white\",\"minorgridcolor\":\"white\",\"startlinecolor\":\"#2a3f5f\"},\"baxis\":{\"endlinecolor\":\"#2a3f5f\",\"gridcolor\":\"white\",\"linecolor\":\"white\",\"minorgridcolor\":\"white\",\"startlinecolor\":\"#2a3f5f\"},\"type\":\"carpet\"}],\"choropleth\":[{\"colorbar\":{\"outlinewidth\":0,\"ticks\":\"\"},\"type\":\"choropleth\"}],\"contour\":[{\"colorbar\":{\"outlinewidth\":0,\"ticks\":\"\"},\"colorscale\":[[0.0,\"#0d0887\"],[0.1111111111111111,\"#46039f\"],[0.2222222222222222,\"#7201a8\"],[0.3333333333333333,\"#9c179e\"],[0.4444444444444444,\"#bd3786\"],[0.5555555555555556,\"#d8576b\"],[0.6666666666666666,\"#ed7953\"],[0.7777777777777778,\"#fb9f3a\"],[0.8888888888888888,\"#fdca26\"],[1.0,\"#f0f921\"]],\"type\":\"contour\"}],\"contourcarpet\":[{\"colorbar\":{\"outlinewidth\":0,\"ticks\":\"\"},\"type\":\"contourcarpet\"}],\"heatmap\":[{\"colorbar\":{\"outlinewidth\":0,\"ticks\":\"\"},\"colorscale\":[[0.0,\"#0d0887\"],[0.1111111111111111,\"#46039f\"],[0.2222222222222222,\"#7201a8\"],[0.3333333333333333,\"#9c179e\"],[0.4444444444444444,\"#bd3786\"],[0.5555555555555556,\"#d8576b\"],[0.6666666666666666,\"#ed7953\"],[0.7777777777777778,\"#fb9f3a\"],[0.8888888888888888,\"#fdca26\"],[1.0,\"#f0f921\"]],\"type\":\"heatmap\"}],\"heatmapgl\":[{\"colorbar\":{\"outlinewidth\":0,\"ticks\":\"\"},\"colorscale\":[[0.0,\"#0d0887\"],[0.1111111111111111,\"#46039f\"],[0.2222222222222222,\"#7201a8\"],[0.3333333333333333,\"#9c179e\"],[0.4444444444444444,\"#bd3786\"],[0.5555555555555556,\"#d8576b\"],[0.6666666666666666,\"#ed7953\"],[0.7777777777777778,\"#fb9f3a\"],[0.8888888888888888,\"#fdca26\"],[1.0,\"#f0f921\"]],\"type\":\"heatmapgl\"}],\"histogram\":[{\"marker\":{\"pattern\":{\"fillmode\":\"overlay\",\"size\":10,\"solidity\":0.2}},\"type\":\"histogram\"}],\"histogram2d\":[{\"colorbar\":{\"outlinewidth\":0,\"ticks\":\"\"},\"colorscale\":[[0.0,\"#0d0887\"],[0.1111111111111111,\"#46039f\"],[0.2222222222222222,\"#7201a8\"],[0.3333333333333333,\"#9c179e\"],[0.4444444444444444,\"#bd3786\"],[0.5555555555555556,\"#d8576b\"],[0.6666666666666666,\"#ed7953\"],[0.7777777777777778,\"#fb9f3a\"],[0.8888888888888888,\"#fdca26\"],[1.0,\"#f0f921\"]],\"type\":\"histogram2d\"}],\"histogram2dcontour\":[{\"colorbar\":{\"outlinewidth\":0,\"ticks\":\"\"},\"colorscale\":[[0.0,\"#0d0887\"],[0.1111111111111111,\"#46039f\"],[0.2222222222222222,\"#7201a8\"],[0.3333333333333333,\"#9c179e\"],[0.4444444444444444,\"#bd3786\"],[0.5555555555555556,\"#d8576b\"],[0.6666666666666666,\"#ed7953\"],[0.7777777777777778,\"#fb9f3a\"],[0.8888888888888888,\"#fdca26\"],[1.0,\"#f0f921\"]],\"type\":\"histogram2dcontour\"}],\"mesh3d\":[{\"colorbar\":{\"outlinewidth\":0,\"ticks\":\"\"},\"type\":\"mesh3d\"}],\"parcoords\":[{\"line\":{\"colorbar\":{\"outlinewidth\":0,\"ticks\":\"\"}},\"type\":\"parcoords\"}],\"pie\":[{\"automargin\":true,\"type\":\"pie\"}],\"scatter\":[{\"marker\":{\"colorbar\":{\"outlinewidth\":0,\"ticks\":\"\"}},\"type\":\"scatter\"}],\"scatter3d\":[{\"line\":{\"colorbar\":{\"outlinewidth\":0,\"ticks\":\"\"}},\"marker\":{\"colorbar\":{\"outlinewidth\":0,\"ticks\":\"\"}},\"type\":\"scatter3d\"}],\"scattercarpet\":[{\"marker\":{\"colorbar\":{\"outlinewidth\":0,\"ticks\":\"\"}},\"type\":\"scattercarpet\"}],\"scattergeo\":[{\"marker\":{\"colorbar\":{\"outlinewidth\":0,\"ticks\":\"\"}},\"type\":\"scattergeo\"}],\"scattergl\":[{\"marker\":{\"colorbar\":{\"outlinewidth\":0,\"ticks\":\"\"}},\"type\":\"scattergl\"}],\"scattermapbox\":[{\"marker\":{\"colorbar\":{\"outlinewidth\":0,\"ticks\":\"\"}},\"type\":\"scattermapbox\"}],\"scatterpolar\":[{\"marker\":{\"colorbar\":{\"outlinewidth\":0,\"ticks\":\"\"}},\"type\":\"scatterpolar\"}],\"scatterpolargl\":[{\"marker\":{\"colorbar\":{\"outlinewidth\":0,\"ticks\":\"\"}},\"type\":\"scatterpolargl\"}],\"scatterternary\":[{\"marker\":{\"colorbar\":{\"outlinewidth\":0,\"ticks\":\"\"}},\"type\":\"scatterternary\"}],\"surface\":[{\"colorbar\":{\"outlinewidth\":0,\"ticks\":\"\"},\"colorscale\":[[0.0,\"#0d0887\"],[0.1111111111111111,\"#46039f\"],[0.2222222222222222,\"#7201a8\"],[0.3333333333333333,\"#9c179e\"],[0.4444444444444444,\"#bd3786\"],[0.5555555555555556,\"#d8576b\"],[0.6666666666666666,\"#ed7953\"],[0.7777777777777778,\"#fb9f3a\"],[0.8888888888888888,\"#fdca26\"],[1.0,\"#f0f921\"]],\"type\":\"surface\"}],\"table\":[{\"cells\":{\"fill\":{\"color\":\"#EBF0F8\"},\"line\":{\"color\":\"white\"}},\"header\":{\"fill\":{\"color\":\"#C8D4E3\"},\"line\":{\"color\":\"white\"}},\"type\":\"table\"}]},\"layout\":{\"annotationdefaults\":{\"arrowcolor\":\"#2a3f5f\",\"arrowhead\":0,\"arrowwidth\":1},\"autotypenumbers\":\"strict\",\"coloraxis\":{\"colorbar\":{\"outlinewidth\":0,\"ticks\":\"\"}},\"colorscale\":{\"diverging\":[[0,\"#8e0152\"],[0.1,\"#c51b7d\"],[0.2,\"#de77ae\"],[0.3,\"#f1b6da\"],[0.4,\"#fde0ef\"],[0.5,\"#f7f7f7\"],[0.6,\"#e6f5d0\"],[0.7,\"#b8e186\"],[0.8,\"#7fbc41\"],[0.9,\"#4d9221\"],[1,\"#276419\"]],\"sequential\":[[0.0,\"#0d0887\"],[0.1111111111111111,\"#46039f\"],[0.2222222222222222,\"#7201a8\"],[0.3333333333333333,\"#9c179e\"],[0.4444444444444444,\"#bd3786\"],[0.5555555555555556,\"#d8576b\"],[0.6666666666666666,\"#ed7953\"],[0.7777777777777778,\"#fb9f3a\"],[0.8888888888888888,\"#fdca26\"],[1.0,\"#f0f921\"]],\"sequentialminus\":[[0.0,\"#0d0887\"],[0.1111111111111111,\"#46039f\"],[0.2222222222222222,\"#7201a8\"],[0.3333333333333333,\"#9c179e\"],[0.4444444444444444,\"#bd3786\"],[0.5555555555555556,\"#d8576b\"],[0.6666666666666666,\"#ed7953\"],[0.7777777777777778,\"#fb9f3a\"],[0.8888888888888888,\"#fdca26\"],[1.0,\"#f0f921\"]]},\"colorway\":[\"#636efa\",\"#EF553B\",\"#00cc96\",\"#ab63fa\",\"#FFA15A\",\"#19d3f3\",\"#FF6692\",\"#B6E880\",\"#FF97FF\",\"#FECB52\"],\"font\":{\"color\":\"#2a3f5f\"},\"geo\":{\"bgcolor\":\"white\",\"lakecolor\":\"white\",\"landcolor\":\"#E5ECF6\",\"showlakes\":true,\"showland\":true,\"subunitcolor\":\"white\"},\"hoverlabel\":{\"align\":\"left\"},\"hovermode\":\"closest\",\"mapbox\":{\"style\":\"light\"},\"paper_bgcolor\":\"white\",\"plot_bgcolor\":\"#E5ECF6\",\"polar\":{\"angularaxis\":{\"gridcolor\":\"white\",\"linecolor\":\"white\",\"ticks\":\"\"},\"bgcolor\":\"#E5ECF6\",\"radialaxis\":{\"gridcolor\":\"white\",\"linecolor\":\"white\",\"ticks\":\"\"}},\"scene\":{\"xaxis\":{\"backgroundcolor\":\"#E5ECF6\",\"gridcolor\":\"white\",\"gridwidth\":2,\"linecolor\":\"white\",\"showbackground\":true,\"ticks\":\"\",\"zerolinecolor\":\"white\"},\"yaxis\":{\"backgroundcolor\":\"#E5ECF6\",\"gridcolor\":\"white\",\"gridwidth\":2,\"linecolor\":\"white\",\"showbackground\":true,\"ticks\":\"\",\"zerolinecolor\":\"white\"},\"zaxis\":{\"backgroundcolor\":\"#E5ECF6\",\"gridcolor\":\"white\",\"gridwidth\":2,\"linecolor\":\"white\",\"showbackground\":true,\"ticks\":\"\",\"zerolinecolor\":\"white\"}},\"shapedefaults\":{\"line\":{\"color\":\"#2a3f5f\"}},\"ternary\":{\"aaxis\":{\"gridcolor\":\"white\",\"linecolor\":\"white\",\"ticks\":\"\"},\"baxis\":{\"gridcolor\":\"white\",\"linecolor\":\"white\",\"ticks\":\"\"},\"bgcolor\":\"#E5ECF6\",\"caxis\":{\"gridcolor\":\"white\",\"linecolor\":\"white\",\"ticks\":\"\"}},\"title\":{\"x\":0.05},\"xaxis\":{\"automargin\":true,\"gridcolor\":\"white\",\"linecolor\":\"white\",\"ticks\":\"\",\"title\":{\"standoff\":15},\"zerolinecolor\":\"white\",\"zerolinewidth\":2},\"yaxis\":{\"automargin\":true,\"gridcolor\":\"white\",\"linecolor\":\"white\",\"ticks\":\"\",\"title\":{\"standoff\":15},\"zerolinecolor\":\"white\",\"zerolinewidth\":2}}},\"treemapcolorway\":[\"#1F77B4\",\"#FF7F0E\",\"#2CA02C\",\"#D62728\",\"#9467BD\",\"#8C564B\",\"#E377C2\",\"#7F7F7F\",\"#BCBD22\",\"#17BECF\"]},                        {\"responsive\": true}                    ).then(function(){\n",
              "                            \n",
              "var gd = document.getElementById('f64c5195-67d7-488c-8ee9-7a7e8eeb6d07');\n",
              "var x = new MutationObserver(function (mutations, observer) {{\n",
              "        var display = window.getComputedStyle(gd).display;\n",
              "        if (!display || display === 'none') {{\n",
              "            console.log([gd, 'removed!']);\n",
              "            Plotly.purge(gd);\n",
              "            observer.disconnect();\n",
              "        }}\n",
              "}});\n",
              "\n",
              "// Listen for the removal of the full notebook cells\n",
              "var notebookContainer = gd.closest('#notebook-container');\n",
              "if (notebookContainer) {{\n",
              "    x.observe(notebookContainer, {childList: true});\n",
              "}}\n",
              "\n",
              "// Listen for the clearing of the current output cell\n",
              "var outputEl = gd.closest('.output');\n",
              "if (outputEl) {{\n",
              "    x.observe(outputEl, {childList: true});\n",
              "}}\n",
              "\n",
              "                        })                };                            </script>        </div>\n",
              "</body>\n",
              "</html>"
            ]
          },
          "metadata": {}
        }
      ]
    },
    {
      "cell_type": "markdown",
      "metadata": {
        "id": "5E88arNlO85l"
      },
      "source": [
        "* Com o `treemap chart` gerado, podemos realizar a extração de infomações:\n",
        "\n",
        "    * Acre:\n",
        "        *  De 2011 à 2016 ouve um aumento de 168 casos de homicidio por estupro;\n",
        "        \n",
        "    * Amapá:\n",
        "        * De 2011 à 2016 ouve um aumento de 82 casos de homicídio por estupro;\n",
        "\n",
        "    * Distrito Federal:\n",
        "        * De 2011 à 2016 ouve um aumento de 409 casos de homicídio por estupro;\n",
        "\n",
        "    * Mato Grosso:\n",
        "        * De 2011 à 2016 ouve um aumento de 36 casos de homicídio por estupro;\n",
        "\n",
        "    * Pernambuco:\n",
        "        * De 2011 à 2016 ouve um aumento de 439 casos de homicídio por estupro;\n",
        "\n",
        "    * Rio de Janeiro:\n",
        "        *  De 2011 à 2016 ouve um aumento de 914 casos de homicídio por estupro;\n",
        "\n",
        "    * Roraima:\n",
        "        *  De 2011 à 2016 ouve um aumento de 44 casos de homicídio por estupro;\n",
        "\n",
        "    * Rio Grande do Sul:\n",
        "        *  De 2011 à 2016 ouve um aumento de 325 casos de homicídio por estupro;\n",
        "\n",
        "    * Alagoas:\n",
        "        *  De 2011 à 2016 ouve um aumento de 127 casos de homicídio por estupro;\n",
        "\n",
        "    * Espirito Santo:\n",
        "        * De 2011 à 2016 ouve um aumento de 437 casos de homicídio por estupro;\n",
        "\n",
        "    * Minas Gerais:\n",
        "        * De 2011 à 2016 ouve um aumento de 1059 casos de homicídio por estupro;\n",
        "\n",
        "    * Pará:\n",
        "        * De 2011 à 2016 ouve um aumento de 354 casos de homicídio por estupro;\n",
        "\n",
        "    * Piauí:\n",
        "        * De 2011 à 2016 ouve um aumento de 544 casos de homicídio por estupro;\n",
        "\n",
        "    * Rio Grande do Norte:\n",
        "        * De 2011 à 2016 ouve um aumento de 55 casos de homicídio por estupro;\n",
        "\n",
        "    * Santa Catarina:\n",
        "        * De 2011 à 2016 ouve um aumento de 442 casos de homicídio por estupro;\n",
        "\n",
        "    * São Paulo:\n",
        "        * De 2011 à 2016 ouve um aumento de 1657 casos de homicídio por estupro;\n",
        "\n",
        "    * Amazonas:\n",
        "        * De 2011 à 2016 ouve um aumento de 227 casos de homicídio por estupro;\n",
        "\n",
        "    * Ceará:\n",
        "        * De 2011 à 2016 ouve um aumento de 366 casos de homicídio por estupro;\n",
        "\n",
        "    * Goias:\n",
        "        * De 2011 à 2016 ouve um aumento de 604 casos de homicídio por estupro;\n",
        "\n",
        "    * Mato Grosso do Sul:\n",
        "        * De 2011 à 2016 ouve um aumento de 91 casos de homicídio por estupro;\n",
        "\n",
        "    * Paraiba:\n",
        "        * De 2011 à 2016 ouve uma redução de -13 casos de homicídio por estupro;\n",
        "\n",
        "    * Paraná:\n",
        "        * De 2011 à 2016 ouve um aumento de 1280 casos de homicídio por estupro;\n",
        "\n",
        "    * Rondônia:\n",
        "        * De 2011 à 2016 ouve um aumento de 168 casos de homicídio por estupro;\n",
        "\n",
        "    * Sergipe\n",
        "        * De 2011 à 2016 ouve uma redução de -64 casos de homicídio por estupro;\n",
        "\n",
        "    * Tocantins:\n",
        "        * De 2011 à 2016 ouve um aumento de 435 casos de homicídio por estupro;\n",
        "\n",
        "* houve uma redução deste tipo de crime nos estados da Paraiba e Sergipe mas no restante do país, só houveram aumento."
      ]
    },
    {
      "cell_type": "markdown",
      "source": [
        "* Por meio do gráfico de barra na horizontal, podemos extrair as seguintes informações:\n",
        "\n",
        "  * O estado do Brasil que possui maior caso de homicídio por estupro no período de 2011 à 2016 é o do estado de São Paulo, em segundo vem o estado de Mato Grosso e em terceiro o do Pará.\n",
        "\n"
      ],
      "metadata": {
        "id": "5ATfgkZp3iLu"
      }
    },
    {
      "cell_type": "code",
      "metadata": {
        "id": "YWaFPI23Ijr9"
      },
      "source": [
        "data_uf2 = data_uf.groupby(['sigla']).sum().reset_index()"
      ],
      "execution_count": null,
      "outputs": []
    },
    {
      "cell_type": "code",
      "metadata": {
        "colab": {
          "base_uri": "https://localhost:8080/",
          "height": 542
        },
        "id": "_Yv8mEilI8ET",
        "outputId": "2c98da58-b41b-47ab-e205-93485eb30e46"
      },
      "source": [
        "fig4 = px.bar(data_uf2,\n",
        "              x=\"Quantidade de Vítimas\",\n",
        "              y=\"sigla\",\n",
        "              orientation='h')\n",
        "\n",
        "fig4.show()"
      ],
      "execution_count": null,
      "outputs": [
        {
          "output_type": "display_data",
          "data": {
            "text/html": [
              "<html>\n",
              "<head><meta charset=\"utf-8\" /></head>\n",
              "<body>\n",
              "    <div>            <script src=\"https://cdnjs.cloudflare.com/ajax/libs/mathjax/2.7.5/MathJax.js?config=TeX-AMS-MML_SVG\"></script><script type=\"text/javascript\">if (window.MathJax) {MathJax.Hub.Config({SVG: {font: \"STIX-Web\"}});}</script>                <script type=\"text/javascript\">window.PlotlyConfig = {MathJaxConfig: 'local'};</script>\n",
              "        <script src=\"https://cdn.plot.ly/plotly-2.4.2.min.js\"></script>                <div id=\"383a3c87-cdec-4602-b05c-d362944758c5\" class=\"plotly-graph-div\" style=\"height:525px; width:100%;\"></div>            <script type=\"text/javascript\">                                    window.PLOTLYENV=window.PLOTLYENV || {};                                    if (document.getElementById(\"383a3c87-cdec-4602-b05c-d362944758c5\")) {                    Plotly.newPlot(                        \"383a3c87-cdec-4602-b05c-d362944758c5\",                        [{\"alignmentgroup\":\"True\",\"hovertemplate\":\"Quantidade de V\\u00edtimas=%{x}<br>sigla=%{y}<extra></extra>\",\"legendgroup\":\"\",\"marker\":{\"color\":\"#636efa\",\"pattern\":{\"shape\":\"\"}},\"name\":\"\",\"offsetgroup\":\"\",\"orientation\":\"h\",\"showlegend\":false,\"textposition\":\"auto\",\"type\":\"bar\",\"x\":[2336,953,6934,458,4137,1241,3649,2199,3540,1447,10259,1773,1775,8483,1149,5922,2364,8255,7209,671,720,784,8383,4262,1524,18402,2032],\"xaxis\":\"x\",\"y\":[\"AC\",\"AL\",\"AM\",\"AP\",\"BA\",\"CE\",\"DF\",\"ES\",\"GO\",\"MA\",\"MG\",\"MS\",\"MT\",\"PA\",\"PB\",\"PE\",\"PI\",\"PR\",\"RJ\",\"RN\",\"RO\",\"RR\",\"RS\",\"SC\",\"SE\",\"SP\",\"TO\"],\"yaxis\":\"y\"}],                        {\"barmode\":\"relative\",\"legend\":{\"tracegroupgap\":0},\"margin\":{\"t\":60},\"template\":{\"data\":{\"bar\":[{\"error_x\":{\"color\":\"#2a3f5f\"},\"error_y\":{\"color\":\"#2a3f5f\"},\"marker\":{\"line\":{\"color\":\"#E5ECF6\",\"width\":0.5},\"pattern\":{\"fillmode\":\"overlay\",\"size\":10,\"solidity\":0.2}},\"type\":\"bar\"}],\"barpolar\":[{\"marker\":{\"line\":{\"color\":\"#E5ECF6\",\"width\":0.5},\"pattern\":{\"fillmode\":\"overlay\",\"size\":10,\"solidity\":0.2}},\"type\":\"barpolar\"}],\"carpet\":[{\"aaxis\":{\"endlinecolor\":\"#2a3f5f\",\"gridcolor\":\"white\",\"linecolor\":\"white\",\"minorgridcolor\":\"white\",\"startlinecolor\":\"#2a3f5f\"},\"baxis\":{\"endlinecolor\":\"#2a3f5f\",\"gridcolor\":\"white\",\"linecolor\":\"white\",\"minorgridcolor\":\"white\",\"startlinecolor\":\"#2a3f5f\"},\"type\":\"carpet\"}],\"choropleth\":[{\"colorbar\":{\"outlinewidth\":0,\"ticks\":\"\"},\"type\":\"choropleth\"}],\"contour\":[{\"colorbar\":{\"outlinewidth\":0,\"ticks\":\"\"},\"colorscale\":[[0.0,\"#0d0887\"],[0.1111111111111111,\"#46039f\"],[0.2222222222222222,\"#7201a8\"],[0.3333333333333333,\"#9c179e\"],[0.4444444444444444,\"#bd3786\"],[0.5555555555555556,\"#d8576b\"],[0.6666666666666666,\"#ed7953\"],[0.7777777777777778,\"#fb9f3a\"],[0.8888888888888888,\"#fdca26\"],[1.0,\"#f0f921\"]],\"type\":\"contour\"}],\"contourcarpet\":[{\"colorbar\":{\"outlinewidth\":0,\"ticks\":\"\"},\"type\":\"contourcarpet\"}],\"heatmap\":[{\"colorbar\":{\"outlinewidth\":0,\"ticks\":\"\"},\"colorscale\":[[0.0,\"#0d0887\"],[0.1111111111111111,\"#46039f\"],[0.2222222222222222,\"#7201a8\"],[0.3333333333333333,\"#9c179e\"],[0.4444444444444444,\"#bd3786\"],[0.5555555555555556,\"#d8576b\"],[0.6666666666666666,\"#ed7953\"],[0.7777777777777778,\"#fb9f3a\"],[0.8888888888888888,\"#fdca26\"],[1.0,\"#f0f921\"]],\"type\":\"heatmap\"}],\"heatmapgl\":[{\"colorbar\":{\"outlinewidth\":0,\"ticks\":\"\"},\"colorscale\":[[0.0,\"#0d0887\"],[0.1111111111111111,\"#46039f\"],[0.2222222222222222,\"#7201a8\"],[0.3333333333333333,\"#9c179e\"],[0.4444444444444444,\"#bd3786\"],[0.5555555555555556,\"#d8576b\"],[0.6666666666666666,\"#ed7953\"],[0.7777777777777778,\"#fb9f3a\"],[0.8888888888888888,\"#fdca26\"],[1.0,\"#f0f921\"]],\"type\":\"heatmapgl\"}],\"histogram\":[{\"marker\":{\"pattern\":{\"fillmode\":\"overlay\",\"size\":10,\"solidity\":0.2}},\"type\":\"histogram\"}],\"histogram2d\":[{\"colorbar\":{\"outlinewidth\":0,\"ticks\":\"\"},\"colorscale\":[[0.0,\"#0d0887\"],[0.1111111111111111,\"#46039f\"],[0.2222222222222222,\"#7201a8\"],[0.3333333333333333,\"#9c179e\"],[0.4444444444444444,\"#bd3786\"],[0.5555555555555556,\"#d8576b\"],[0.6666666666666666,\"#ed7953\"],[0.7777777777777778,\"#fb9f3a\"],[0.8888888888888888,\"#fdca26\"],[1.0,\"#f0f921\"]],\"type\":\"histogram2d\"}],\"histogram2dcontour\":[{\"colorbar\":{\"outlinewidth\":0,\"ticks\":\"\"},\"colorscale\":[[0.0,\"#0d0887\"],[0.1111111111111111,\"#46039f\"],[0.2222222222222222,\"#7201a8\"],[0.3333333333333333,\"#9c179e\"],[0.4444444444444444,\"#bd3786\"],[0.5555555555555556,\"#d8576b\"],[0.6666666666666666,\"#ed7953\"],[0.7777777777777778,\"#fb9f3a\"],[0.8888888888888888,\"#fdca26\"],[1.0,\"#f0f921\"]],\"type\":\"histogram2dcontour\"}],\"mesh3d\":[{\"colorbar\":{\"outlinewidth\":0,\"ticks\":\"\"},\"type\":\"mesh3d\"}],\"parcoords\":[{\"line\":{\"colorbar\":{\"outlinewidth\":0,\"ticks\":\"\"}},\"type\":\"parcoords\"}],\"pie\":[{\"automargin\":true,\"type\":\"pie\"}],\"scatter\":[{\"marker\":{\"colorbar\":{\"outlinewidth\":0,\"ticks\":\"\"}},\"type\":\"scatter\"}],\"scatter3d\":[{\"line\":{\"colorbar\":{\"outlinewidth\":0,\"ticks\":\"\"}},\"marker\":{\"colorbar\":{\"outlinewidth\":0,\"ticks\":\"\"}},\"type\":\"scatter3d\"}],\"scattercarpet\":[{\"marker\":{\"colorbar\":{\"outlinewidth\":0,\"ticks\":\"\"}},\"type\":\"scattercarpet\"}],\"scattergeo\":[{\"marker\":{\"colorbar\":{\"outlinewidth\":0,\"ticks\":\"\"}},\"type\":\"scattergeo\"}],\"scattergl\":[{\"marker\":{\"colorbar\":{\"outlinewidth\":0,\"ticks\":\"\"}},\"type\":\"scattergl\"}],\"scattermapbox\":[{\"marker\":{\"colorbar\":{\"outlinewidth\":0,\"ticks\":\"\"}},\"type\":\"scattermapbox\"}],\"scatterpolar\":[{\"marker\":{\"colorbar\":{\"outlinewidth\":0,\"ticks\":\"\"}},\"type\":\"scatterpolar\"}],\"scatterpolargl\":[{\"marker\":{\"colorbar\":{\"outlinewidth\":0,\"ticks\":\"\"}},\"type\":\"scatterpolargl\"}],\"scatterternary\":[{\"marker\":{\"colorbar\":{\"outlinewidth\":0,\"ticks\":\"\"}},\"type\":\"scatterternary\"}],\"surface\":[{\"colorbar\":{\"outlinewidth\":0,\"ticks\":\"\"},\"colorscale\":[[0.0,\"#0d0887\"],[0.1111111111111111,\"#46039f\"],[0.2222222222222222,\"#7201a8\"],[0.3333333333333333,\"#9c179e\"],[0.4444444444444444,\"#bd3786\"],[0.5555555555555556,\"#d8576b\"],[0.6666666666666666,\"#ed7953\"],[0.7777777777777778,\"#fb9f3a\"],[0.8888888888888888,\"#fdca26\"],[1.0,\"#f0f921\"]],\"type\":\"surface\"}],\"table\":[{\"cells\":{\"fill\":{\"color\":\"#EBF0F8\"},\"line\":{\"color\":\"white\"}},\"header\":{\"fill\":{\"color\":\"#C8D4E3\"},\"line\":{\"color\":\"white\"}},\"type\":\"table\"}]},\"layout\":{\"annotationdefaults\":{\"arrowcolor\":\"#2a3f5f\",\"arrowhead\":0,\"arrowwidth\":1},\"autotypenumbers\":\"strict\",\"coloraxis\":{\"colorbar\":{\"outlinewidth\":0,\"ticks\":\"\"}},\"colorscale\":{\"diverging\":[[0,\"#8e0152\"],[0.1,\"#c51b7d\"],[0.2,\"#de77ae\"],[0.3,\"#f1b6da\"],[0.4,\"#fde0ef\"],[0.5,\"#f7f7f7\"],[0.6,\"#e6f5d0\"],[0.7,\"#b8e186\"],[0.8,\"#7fbc41\"],[0.9,\"#4d9221\"],[1,\"#276419\"]],\"sequential\":[[0.0,\"#0d0887\"],[0.1111111111111111,\"#46039f\"],[0.2222222222222222,\"#7201a8\"],[0.3333333333333333,\"#9c179e\"],[0.4444444444444444,\"#bd3786\"],[0.5555555555555556,\"#d8576b\"],[0.6666666666666666,\"#ed7953\"],[0.7777777777777778,\"#fb9f3a\"],[0.8888888888888888,\"#fdca26\"],[1.0,\"#f0f921\"]],\"sequentialminus\":[[0.0,\"#0d0887\"],[0.1111111111111111,\"#46039f\"],[0.2222222222222222,\"#7201a8\"],[0.3333333333333333,\"#9c179e\"],[0.4444444444444444,\"#bd3786\"],[0.5555555555555556,\"#d8576b\"],[0.6666666666666666,\"#ed7953\"],[0.7777777777777778,\"#fb9f3a\"],[0.8888888888888888,\"#fdca26\"],[1.0,\"#f0f921\"]]},\"colorway\":[\"#636efa\",\"#EF553B\",\"#00cc96\",\"#ab63fa\",\"#FFA15A\",\"#19d3f3\",\"#FF6692\",\"#B6E880\",\"#FF97FF\",\"#FECB52\"],\"font\":{\"color\":\"#2a3f5f\"},\"geo\":{\"bgcolor\":\"white\",\"lakecolor\":\"white\",\"landcolor\":\"#E5ECF6\",\"showlakes\":true,\"showland\":true,\"subunitcolor\":\"white\"},\"hoverlabel\":{\"align\":\"left\"},\"hovermode\":\"closest\",\"mapbox\":{\"style\":\"light\"},\"paper_bgcolor\":\"white\",\"plot_bgcolor\":\"#E5ECF6\",\"polar\":{\"angularaxis\":{\"gridcolor\":\"white\",\"linecolor\":\"white\",\"ticks\":\"\"},\"bgcolor\":\"#E5ECF6\",\"radialaxis\":{\"gridcolor\":\"white\",\"linecolor\":\"white\",\"ticks\":\"\"}},\"scene\":{\"xaxis\":{\"backgroundcolor\":\"#E5ECF6\",\"gridcolor\":\"white\",\"gridwidth\":2,\"linecolor\":\"white\",\"showbackground\":true,\"ticks\":\"\",\"zerolinecolor\":\"white\"},\"yaxis\":{\"backgroundcolor\":\"#E5ECF6\",\"gridcolor\":\"white\",\"gridwidth\":2,\"linecolor\":\"white\",\"showbackground\":true,\"ticks\":\"\",\"zerolinecolor\":\"white\"},\"zaxis\":{\"backgroundcolor\":\"#E5ECF6\",\"gridcolor\":\"white\",\"gridwidth\":2,\"linecolor\":\"white\",\"showbackground\":true,\"ticks\":\"\",\"zerolinecolor\":\"white\"}},\"shapedefaults\":{\"line\":{\"color\":\"#2a3f5f\"}},\"ternary\":{\"aaxis\":{\"gridcolor\":\"white\",\"linecolor\":\"white\",\"ticks\":\"\"},\"baxis\":{\"gridcolor\":\"white\",\"linecolor\":\"white\",\"ticks\":\"\"},\"bgcolor\":\"#E5ECF6\",\"caxis\":{\"gridcolor\":\"white\",\"linecolor\":\"white\",\"ticks\":\"\"}},\"title\":{\"x\":0.05},\"xaxis\":{\"automargin\":true,\"gridcolor\":\"white\",\"linecolor\":\"white\",\"ticks\":\"\",\"title\":{\"standoff\":15},\"zerolinecolor\":\"white\",\"zerolinewidth\":2},\"yaxis\":{\"automargin\":true,\"gridcolor\":\"white\",\"linecolor\":\"white\",\"ticks\":\"\",\"title\":{\"standoff\":15},\"zerolinecolor\":\"white\",\"zerolinewidth\":2}}},\"xaxis\":{\"anchor\":\"y\",\"domain\":[0.0,1.0],\"title\":{\"text\":\"Quantidade de V\\u00edtimas\"}},\"yaxis\":{\"anchor\":\"x\",\"domain\":[0.0,1.0],\"title\":{\"text\":\"sigla\"}}},                        {\"responsive\": true}                    ).then(function(){\n",
              "                            \n",
              "var gd = document.getElementById('383a3c87-cdec-4602-b05c-d362944758c5');\n",
              "var x = new MutationObserver(function (mutations, observer) {{\n",
              "        var display = window.getComputedStyle(gd).display;\n",
              "        if (!display || display === 'none') {{\n",
              "            console.log([gd, 'removed!']);\n",
              "            Plotly.purge(gd);\n",
              "            observer.disconnect();\n",
              "        }}\n",
              "}});\n",
              "\n",
              "// Listen for the removal of the full notebook cells\n",
              "var notebookContainer = gd.closest('#notebook-container');\n",
              "if (notebookContainer) {{\n",
              "    x.observe(notebookContainer, {childList: true});\n",
              "}}\n",
              "\n",
              "// Listen for the clearing of the current output cell\n",
              "var outputEl = gd.closest('.output');\n",
              "if (outputEl) {{\n",
              "    x.observe(outputEl, {childList: true});\n",
              "}}\n",
              "\n",
              "                        })                };                            </script>        </div>\n",
              "</body>\n",
              "</html>"
            ]
          },
          "metadata": {}
        }
      ]
    },
    {
      "cell_type": "markdown",
      "metadata": {
        "id": "RZ3OHczlvNhU"
      },
      "source": [
        "\n",
        "\n",
        "---\n",
        "\n"
      ]
    }
  ]
}