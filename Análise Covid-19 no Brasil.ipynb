{
 "cells": [
  {
   "cell_type": "markdown",
   "metadata": {},
   "source": [
    "# `Análise Exploratória de Dados Provenientes do Covid-19 no Brasil`"
   ]
  },
  {
   "cell_type": "markdown",
   "metadata": {},
   "source": [
    "#### Este dataset foi obtido a partir da plataforma Kaggle: https://www.kaggle.com/unanimad/corona-virus-brazil. Os dados contidos neste dataset são provenientes dos orgãos de saúde de cada estado."
   ]
  },
  {
   "cell_type": "code",
   "execution_count": 1,
   "metadata": {},
   "outputs": [],
   "source": [
    "# Importantando as bibliotecas\n",
    "import pandas as pd\n",
    "import numpy as np\n",
    "import seaborn as sns\n",
    "import matplotlib.pyplot as plt\n",
    "import plotly.offline as pyo\n",
    "import plotly.graph_objects as go\n",
    "from plotly.subplots import make_subplots\n",
    "from plotly.graph_objs import *\n",
    "import plotly.express as px\n",
    "import folium # biblioteca de plots geográficos\n",
    "import json as js\n",
    "from folium.plugins import MarkerCluster, TimestampedGeoJson\n",
    "\n",
    "%matplotlib inline"
   ]
  },
  {
   "cell_type": "markdown",
   "metadata": {},
   "source": [
    "## `Importantando o Dataframe`:"
   ]
  },
  {
   "cell_type": "code",
   "execution_count": 2,
   "metadata": {},
   "outputs": [],
   "source": [
    "covid_19 = pd.read_csv(\"brazil_covid19-V6.csv\") # Importando  dataframe"
   ]
  },
  {
   "cell_type": "code",
   "execution_count": 3,
   "metadata": {},
   "outputs": [
    {
     "name": "stdout",
     "output_type": "stream",
     "text": [
      "<class 'pandas.core.frame.DataFrame'>\n",
      "RangeIndex: 1944 entries, 0 to 1943\n",
      "Data columns (total 5 columns):\n",
      " #   Column  Non-Null Count  Dtype \n",
      "---  ------  --------------  ----- \n",
      " 0   date    1944 non-null   object\n",
      " 1   region  1944 non-null   object\n",
      " 2   state   1944 non-null   object\n",
      " 3   cases   1944 non-null   int64 \n",
      " 4   deaths  1944 non-null   int64 \n",
      "dtypes: int64(2), object(3)\n",
      "memory usage: 76.1+ KB\n"
     ]
    }
   ],
   "source": [
    "covid_19.info() # Verificando as informações contidas no dataframe"
   ]
  },
  {
   "cell_type": "markdown",
   "metadata": {},
   "source": [
    "* Ao observarmos os dados retornados após inserir o comando `covid_19.info()`. Podemos extrair as seguintes informações:\n",
    "1. Há três colunas do tipo objeto, a `date` `region` `state`.\n",
    "2. Há duas colunas com valores inteiros `cases` `deaths`."
   ]
  },
  {
   "cell_type": "code",
   "execution_count": 4,
   "metadata": {},
   "outputs": [
    {
     "data": {
      "text/html": [
       "<div>\n",
       "<style scoped>\n",
       "    .dataframe tbody tr th:only-of-type {\n",
       "        vertical-align: middle;\n",
       "    }\n",
       "\n",
       "    .dataframe tbody tr th {\n",
       "        vertical-align: top;\n",
       "    }\n",
       "\n",
       "    .dataframe thead th {\n",
       "        text-align: right;\n",
       "    }\n",
       "</style>\n",
       "<table border=\"1\" class=\"dataframe\">\n",
       "  <thead>\n",
       "    <tr style=\"text-align: right;\">\n",
       "      <th></th>\n",
       "      <th>date</th>\n",
       "      <th>region</th>\n",
       "      <th>state</th>\n",
       "      <th>cases</th>\n",
       "      <th>deaths</th>\n",
       "    </tr>\n",
       "  </thead>\n",
       "  <tbody>\n",
       "    <tr>\n",
       "      <th>0</th>\n",
       "      <td>2020-01-30</td>\n",
       "      <td>Centro-Oeste</td>\n",
       "      <td>Distrito Federal</td>\n",
       "      <td>0</td>\n",
       "      <td>0</td>\n",
       "    </tr>\n",
       "    <tr>\n",
       "      <th>1</th>\n",
       "      <td>2020-01-30</td>\n",
       "      <td>Centro-Oeste</td>\n",
       "      <td>Goiás</td>\n",
       "      <td>0</td>\n",
       "      <td>0</td>\n",
       "    </tr>\n",
       "    <tr>\n",
       "      <th>2</th>\n",
       "      <td>2020-01-30</td>\n",
       "      <td>Centro-Oeste</td>\n",
       "      <td>Mato Grosso</td>\n",
       "      <td>0</td>\n",
       "      <td>0</td>\n",
       "    </tr>\n",
       "    <tr>\n",
       "      <th>3</th>\n",
       "      <td>2020-01-30</td>\n",
       "      <td>Centro-Oeste</td>\n",
       "      <td>Mato Grosso do Sul</td>\n",
       "      <td>0</td>\n",
       "      <td>0</td>\n",
       "    </tr>\n",
       "    <tr>\n",
       "      <th>4</th>\n",
       "      <td>2020-01-30</td>\n",
       "      <td>Nordeste</td>\n",
       "      <td>Alagoas</td>\n",
       "      <td>0</td>\n",
       "      <td>0</td>\n",
       "    </tr>\n",
       "    <tr>\n",
       "      <th>5</th>\n",
       "      <td>2020-01-30</td>\n",
       "      <td>Nordeste</td>\n",
       "      <td>Bahia</td>\n",
       "      <td>0</td>\n",
       "      <td>0</td>\n",
       "    </tr>\n",
       "    <tr>\n",
       "      <th>6</th>\n",
       "      <td>2020-01-30</td>\n",
       "      <td>Nordeste</td>\n",
       "      <td>Ceará</td>\n",
       "      <td>0</td>\n",
       "      <td>0</td>\n",
       "    </tr>\n",
       "    <tr>\n",
       "      <th>7</th>\n",
       "      <td>2020-01-30</td>\n",
       "      <td>Nordeste</td>\n",
       "      <td>Maranhão</td>\n",
       "      <td>0</td>\n",
       "      <td>0</td>\n",
       "    </tr>\n",
       "    <tr>\n",
       "      <th>8</th>\n",
       "      <td>2020-01-30</td>\n",
       "      <td>Nordeste</td>\n",
       "      <td>Paraíba</td>\n",
       "      <td>0</td>\n",
       "      <td>0</td>\n",
       "    </tr>\n",
       "    <tr>\n",
       "      <th>9</th>\n",
       "      <td>2020-01-30</td>\n",
       "      <td>Nordeste</td>\n",
       "      <td>Pernambuco</td>\n",
       "      <td>0</td>\n",
       "      <td>0</td>\n",
       "    </tr>\n",
       "  </tbody>\n",
       "</table>\n",
       "</div>"
      ],
      "text/plain": [
       "         date        region               state  cases  deaths\n",
       "0  2020-01-30  Centro-Oeste    Distrito Federal      0       0\n",
       "1  2020-01-30  Centro-Oeste               Goiás      0       0\n",
       "2  2020-01-30  Centro-Oeste         Mato Grosso      0       0\n",
       "3  2020-01-30  Centro-Oeste  Mato Grosso do Sul      0       0\n",
       "4  2020-01-30      Nordeste             Alagoas      0       0\n",
       "5  2020-01-30      Nordeste               Bahia      0       0\n",
       "6  2020-01-30      Nordeste               Ceará      0       0\n",
       "7  2020-01-30      Nordeste            Maranhão      0       0\n",
       "8  2020-01-30      Nordeste             Paraíba      0       0\n",
       "9  2020-01-30      Nordeste          Pernambuco      0       0"
      ]
     },
     "execution_count": 4,
     "metadata": {},
     "output_type": "execute_result"
    }
   ],
   "source": [
    "covid_19.head(10) # Analisando o cabeçalho dos dados"
   ]
  },
  {
   "cell_type": "code",
   "execution_count": 5,
   "metadata": {},
   "outputs": [
    {
     "data": {
      "text/plain": [
       "Index(['date', 'region', 'state', 'cases', 'deaths'], dtype='object')"
      ]
     },
     "execution_count": 5,
     "metadata": {},
     "output_type": "execute_result"
    }
   ],
   "source": [
    "covid_19.columns # Verificando se realmente possui as quatro colunas"
   ]
  },
  {
   "cell_type": "markdown",
   "metadata": {},
   "source": [
    "* No dataframe `covid_19` podemos observar que temos as colunas `date` `region` `state` `cases` `deaths`.\n",
    "* Temos também os repectivos dados em relação a data de acontecimento, região do país onde o estado está inserido, a quantidade de casos e mortes por estado."
   ]
  },
  {
   "cell_type": "markdown",
   "metadata": {},
   "source": [
    "## `Análise de Dados NaN/Ausentes`:"
   ]
  },
  {
   "cell_type": "code",
   "execution_count": 6,
   "metadata": {},
   "outputs": [
    {
     "data": {
      "text/plain": [
       "date      0\n",
       "region    0\n",
       "state     0\n",
       "cases     0\n",
       "deaths    0\n",
       "dtype: int64"
      ]
     },
     "execution_count": 6,
     "metadata": {},
     "output_type": "execute_result"
    }
   ],
   "source": [
    "covid_19.isna().sum() # Verificando a quantidade de valores NaN por coluna"
   ]
  },
  {
   "cell_type": "markdown",
   "metadata": {},
   "source": [
    "* Podemos verificar que as colunas `date` `region` `state` `cases` `deaths` não possuem dados ausentes.\n",
    "* Com isso, não precisaremos analisar os dados ausentes ou realizar uma possível substituição dos mesmos."
   ]
  },
  {
   "cell_type": "markdown",
   "metadata": {},
   "source": [
    "## `Deletando Colunas Ociosas`:"
   ]
  },
  {
   "cell_type": "code",
   "execution_count": 7,
   "metadata": {},
   "outputs": [],
   "source": [
    "del covid_19['region'] # Deletei a coluna Region pois não iremos usufruir de seus dados no momento"
   ]
  },
  {
   "cell_type": "code",
   "execution_count": 8,
   "metadata": {},
   "outputs": [
    {
     "data": {
      "text/html": [
       "<div>\n",
       "<style scoped>\n",
       "    .dataframe tbody tr th:only-of-type {\n",
       "        vertical-align: middle;\n",
       "    }\n",
       "\n",
       "    .dataframe tbody tr th {\n",
       "        vertical-align: top;\n",
       "    }\n",
       "\n",
       "    .dataframe thead th {\n",
       "        text-align: right;\n",
       "    }\n",
       "</style>\n",
       "<table border=\"1\" class=\"dataframe\">\n",
       "  <thead>\n",
       "    <tr style=\"text-align: right;\">\n",
       "      <th></th>\n",
       "      <th>date</th>\n",
       "      <th>state</th>\n",
       "      <th>cases</th>\n",
       "      <th>deaths</th>\n",
       "    </tr>\n",
       "  </thead>\n",
       "  <tbody>\n",
       "    <tr>\n",
       "      <th>0</th>\n",
       "      <td>2020-01-30</td>\n",
       "      <td>Distrito Federal</td>\n",
       "      <td>0</td>\n",
       "      <td>0</td>\n",
       "    </tr>\n",
       "    <tr>\n",
       "      <th>1</th>\n",
       "      <td>2020-01-30</td>\n",
       "      <td>Goiás</td>\n",
       "      <td>0</td>\n",
       "      <td>0</td>\n",
       "    </tr>\n",
       "    <tr>\n",
       "      <th>2</th>\n",
       "      <td>2020-01-30</td>\n",
       "      <td>Mato Grosso</td>\n",
       "      <td>0</td>\n",
       "      <td>0</td>\n",
       "    </tr>\n",
       "    <tr>\n",
       "      <th>3</th>\n",
       "      <td>2020-01-30</td>\n",
       "      <td>Mato Grosso do Sul</td>\n",
       "      <td>0</td>\n",
       "      <td>0</td>\n",
       "    </tr>\n",
       "    <tr>\n",
       "      <th>4</th>\n",
       "      <td>2020-01-30</td>\n",
       "      <td>Alagoas</td>\n",
       "      <td>0</td>\n",
       "      <td>0</td>\n",
       "    </tr>\n",
       "  </tbody>\n",
       "</table>\n",
       "</div>"
      ],
      "text/plain": [
       "         date               state  cases  deaths\n",
       "0  2020-01-30    Distrito Federal      0       0\n",
       "1  2020-01-30               Goiás      0       0\n",
       "2  2020-01-30         Mato Grosso      0       0\n",
       "3  2020-01-30  Mato Grosso do Sul      0       0\n",
       "4  2020-01-30             Alagoas      0       0"
      ]
     },
     "execution_count": 8,
     "metadata": {},
     "output_type": "execute_result"
    }
   ],
   "source": [
    "covid_19.head() # Verificando se realmente foi deletada a coluna no dataframe"
   ]
  },
  {
   "cell_type": "code",
   "execution_count": 9,
   "metadata": {},
   "outputs": [],
   "source": [
    "covid_19.rename(columns={\"date\":\"data\",\"cases\":\"casos_confirmados\",\"deaths\":\"mortes_confirmadas\",\"state\":\"estado\"},inplace=True) # Renomeando colunas, lembre-se de colocar o inplace True"
   ]
  },
  {
   "cell_type": "code",
   "execution_count": 10,
   "metadata": {},
   "outputs": [
    {
     "data": {
      "text/html": [
       "<div>\n",
       "<style scoped>\n",
       "    .dataframe tbody tr th:only-of-type {\n",
       "        vertical-align: middle;\n",
       "    }\n",
       "\n",
       "    .dataframe tbody tr th {\n",
       "        vertical-align: top;\n",
       "    }\n",
       "\n",
       "    .dataframe thead th {\n",
       "        text-align: right;\n",
       "    }\n",
       "</style>\n",
       "<table border=\"1\" class=\"dataframe\">\n",
       "  <thead>\n",
       "    <tr style=\"text-align: right;\">\n",
       "      <th></th>\n",
       "      <th>data</th>\n",
       "      <th>estado</th>\n",
       "      <th>casos_confirmados</th>\n",
       "      <th>mortes_confirmadas</th>\n",
       "    </tr>\n",
       "  </thead>\n",
       "  <tbody>\n",
       "    <tr>\n",
       "      <th>0</th>\n",
       "      <td>2020-01-30</td>\n",
       "      <td>Distrito Federal</td>\n",
       "      <td>0</td>\n",
       "      <td>0</td>\n",
       "    </tr>\n",
       "    <tr>\n",
       "      <th>1</th>\n",
       "      <td>2020-01-30</td>\n",
       "      <td>Goiás</td>\n",
       "      <td>0</td>\n",
       "      <td>0</td>\n",
       "    </tr>\n",
       "    <tr>\n",
       "      <th>2</th>\n",
       "      <td>2020-01-30</td>\n",
       "      <td>Mato Grosso</td>\n",
       "      <td>0</td>\n",
       "      <td>0</td>\n",
       "    </tr>\n",
       "    <tr>\n",
       "      <th>3</th>\n",
       "      <td>2020-01-30</td>\n",
       "      <td>Mato Grosso do Sul</td>\n",
       "      <td>0</td>\n",
       "      <td>0</td>\n",
       "    </tr>\n",
       "    <tr>\n",
       "      <th>4</th>\n",
       "      <td>2020-01-30</td>\n",
       "      <td>Alagoas</td>\n",
       "      <td>0</td>\n",
       "      <td>0</td>\n",
       "    </tr>\n",
       "  </tbody>\n",
       "</table>\n",
       "</div>"
      ],
      "text/plain": [
       "         data              estado  casos_confirmados  mortes_confirmadas\n",
       "0  2020-01-30    Distrito Federal                  0                   0\n",
       "1  2020-01-30               Goiás                  0                   0\n",
       "2  2020-01-30         Mato Grosso                  0                   0\n",
       "3  2020-01-30  Mato Grosso do Sul                  0                   0\n",
       "4  2020-01-30             Alagoas                  0                   0"
      ]
     },
     "execution_count": 10,
     "metadata": {},
     "output_type": "execute_result"
    }
   ],
   "source": [
    "covid_19.head()"
   ]
  },
  {
   "cell_type": "markdown",
   "metadata": {},
   "source": [
    "# 1) Gráfico de Barra Horizontal, indicando a quantidade de `casos_confirmados` e `mortes_confirmadas` por Estado:"
   ]
  },
  {
   "cell_type": "markdown",
   "metadata": {},
   "source": [
    "### 1.1) Criando nosso dataframe agrupado por estado:"
   ]
  },
  {
   "cell_type": "code",
   "execution_count": 11,
   "metadata": {},
   "outputs": [],
   "source": [
    "df1 = covid_19.groupby('estado').last() # Realiza um groupby em relação aos estados"
   ]
  },
  {
   "cell_type": "code",
   "execution_count": 12,
   "metadata": {},
   "outputs": [],
   "source": [
    "del df1['data'] # Deletamos a coluna data, pois não iremos utiliza-la nessa análise gráfica"
   ]
  },
  {
   "cell_type": "code",
   "execution_count": 13,
   "metadata": {},
   "outputs": [
    {
     "data": {
      "text/html": [
       "<div>\n",
       "<style scoped>\n",
       "    .dataframe tbody tr th:only-of-type {\n",
       "        vertical-align: middle;\n",
       "    }\n",
       "\n",
       "    .dataframe tbody tr th {\n",
       "        vertical-align: top;\n",
       "    }\n",
       "\n",
       "    .dataframe thead th {\n",
       "        text-align: right;\n",
       "    }\n",
       "</style>\n",
       "<table border=\"1\" class=\"dataframe\">\n",
       "  <thead>\n",
       "    <tr style=\"text-align: right;\">\n",
       "      <th></th>\n",
       "      <th>casos_confirmados</th>\n",
       "      <th>mortes_confirmadas</th>\n",
       "    </tr>\n",
       "    <tr>\n",
       "      <th>estado</th>\n",
       "      <th></th>\n",
       "      <th></th>\n",
       "    </tr>\n",
       "  </thead>\n",
       "  <tbody>\n",
       "    <tr>\n",
       "      <th>Acre</th>\n",
       "      <td>70</td>\n",
       "      <td>2</td>\n",
       "    </tr>\n",
       "    <tr>\n",
       "      <th>Alagoas</th>\n",
       "      <td>45</td>\n",
       "      <td>3</td>\n",
       "    </tr>\n",
       "    <tr>\n",
       "      <th>Amapá</th>\n",
       "      <td>166</td>\n",
       "      <td>2</td>\n",
       "    </tr>\n",
       "    <tr>\n",
       "      <th>Amazonas</th>\n",
       "      <td>981</td>\n",
       "      <td>50</td>\n",
       "    </tr>\n",
       "    <tr>\n",
       "      <th>Bahia</th>\n",
       "      <td>604</td>\n",
       "      <td>19</td>\n",
       "    </tr>\n",
       "    <tr>\n",
       "      <th>Ceará</th>\n",
       "      <td>1478</td>\n",
       "      <td>58</td>\n",
       "    </tr>\n",
       "    <tr>\n",
       "      <th>Distrito Federal</th>\n",
       "      <td>555</td>\n",
       "      <td>14</td>\n",
       "    </tr>\n",
       "    <tr>\n",
       "      <th>Espírito Santo</th>\n",
       "      <td>300</td>\n",
       "      <td>7</td>\n",
       "    </tr>\n",
       "    <tr>\n",
       "      <th>Goiás</th>\n",
       "      <td>191</td>\n",
       "      <td>8</td>\n",
       "    </tr>\n",
       "    <tr>\n",
       "      <th>Maranhão</th>\n",
       "      <td>293</td>\n",
       "      <td>16</td>\n",
       "    </tr>\n",
       "    <tr>\n",
       "      <th>Mato Grosso</th>\n",
       "      <td>112</td>\n",
       "      <td>2</td>\n",
       "    </tr>\n",
       "    <tr>\n",
       "      <th>Mato Grosso do Sul</th>\n",
       "      <td>97</td>\n",
       "      <td>2</td>\n",
       "    </tr>\n",
       "    <tr>\n",
       "      <th>Minas Gerais</th>\n",
       "      <td>698</td>\n",
       "      <td>17</td>\n",
       "    </tr>\n",
       "    <tr>\n",
       "      <th>Paraná</th>\n",
       "      <td>643</td>\n",
       "      <td>25</td>\n",
       "    </tr>\n",
       "    <tr>\n",
       "      <th>Paraíba</th>\n",
       "      <td>79</td>\n",
       "      <td>11</td>\n",
       "    </tr>\n",
       "    <tr>\n",
       "      <th>Pará</th>\n",
       "      <td>170</td>\n",
       "      <td>9</td>\n",
       "    </tr>\n",
       "    <tr>\n",
       "      <th>Pernambuco</th>\n",
       "      <td>684</td>\n",
       "      <td>65</td>\n",
       "    </tr>\n",
       "    <tr>\n",
       "      <th>Piauí</th>\n",
       "      <td>40</td>\n",
       "      <td>7</td>\n",
       "    </tr>\n",
       "    <tr>\n",
       "      <th>Rio Grande do Norte</th>\n",
       "      <td>263</td>\n",
       "      <td>11</td>\n",
       "    </tr>\n",
       "    <tr>\n",
       "      <th>Rio Grande do Sul</th>\n",
       "      <td>636</td>\n",
       "      <td>14</td>\n",
       "    </tr>\n",
       "    <tr>\n",
       "      <th>Rio de Janeiro</th>\n",
       "      <td>2464</td>\n",
       "      <td>147</td>\n",
       "    </tr>\n",
       "    <tr>\n",
       "      <th>Rondônia</th>\n",
       "      <td>32</td>\n",
       "      <td>2</td>\n",
       "    </tr>\n",
       "    <tr>\n",
       "      <th>Roraima</th>\n",
       "      <td>63</td>\n",
       "      <td>3</td>\n",
       "    </tr>\n",
       "    <tr>\n",
       "      <th>Santa Catarina</th>\n",
       "      <td>693</td>\n",
       "      <td>18</td>\n",
       "    </tr>\n",
       "    <tr>\n",
       "      <th>Sergipe</th>\n",
       "      <td>42</td>\n",
       "      <td>4</td>\n",
       "    </tr>\n",
       "    <tr>\n",
       "      <th>São Paulo</th>\n",
       "      <td>8216</td>\n",
       "      <td>540</td>\n",
       "    </tr>\n",
       "    <tr>\n",
       "      <th>Tocantins</th>\n",
       "      <td>23</td>\n",
       "      <td>0</td>\n",
       "    </tr>\n",
       "  </tbody>\n",
       "</table>\n",
       "</div>"
      ],
      "text/plain": [
       "                     casos_confirmados  mortes_confirmadas\n",
       "estado                                                    \n",
       "Acre                                70                   2\n",
       "Alagoas                             45                   3\n",
       "Amapá                              166                   2\n",
       "Amazonas                           981                  50\n",
       "Bahia                              604                  19\n",
       "Ceará                             1478                  58\n",
       "Distrito Federal                   555                  14\n",
       "Espírito Santo                     300                   7\n",
       "Goiás                              191                   8\n",
       "Maranhão                           293                  16\n",
       "Mato Grosso                        112                   2\n",
       "Mato Grosso do Sul                  97                   2\n",
       "Minas Gerais                       698                  17\n",
       "Paraná                             643                  25\n",
       "Paraíba                             79                  11\n",
       "Pará                               170                   9\n",
       "Pernambuco                         684                  65\n",
       "Piauí                               40                   7\n",
       "Rio Grande do Norte                263                  11\n",
       "Rio Grande do Sul                  636                  14\n",
       "Rio de Janeiro                    2464                 147\n",
       "Rondônia                            32                   2\n",
       "Roraima                             63                   3\n",
       "Santa Catarina                     693                  18\n",
       "Sergipe                             42                   4\n",
       "São Paulo                         8216                 540\n",
       "Tocantins                           23                   0"
      ]
     },
     "execution_count": 13,
     "metadata": {},
     "output_type": "execute_result"
    }
   ],
   "source": [
    "df1.head(27)"
   ]
  },
  {
   "cell_type": "code",
   "execution_count": 14,
   "metadata": {},
   "outputs": [
    {
     "data": {
      "text/plain": [
       "Index(['casos_confirmados', 'mortes_confirmadas'], dtype='object')"
      ]
     },
     "execution_count": 14,
     "metadata": {},
     "output_type": "execute_result"
    }
   ],
   "source": [
    "df1.columns # Verificamos as novas colunas do dataframe"
   ]
  },
  {
   "cell_type": "markdown",
   "metadata": {},
   "source": [
    "### 1.2) Visualizão do Dataframe `df1` por meio do Gradiente de Cores:"
   ]
  },
  {
   "cell_type": "code",
   "execution_count": 15,
   "metadata": {},
   "outputs": [
    {
     "data": {
      "text/html": [
       "<style  type=\"text/css\" >\n",
       "    #T_b395edac_7ce7_11ea_8ada_902b3435795crow0_col0 {\n",
       "            background-color:  #fff4ef;\n",
       "            color:  #000000;\n",
       "        }    #T_b395edac_7ce7_11ea_8ada_902b3435795crow0_col1 {\n",
       "            background-color:  #fff5f0;\n",
       "            color:  #000000;\n",
       "        }    #T_b395edac_7ce7_11ea_8ada_902b3435795crow1_col0 {\n",
       "            background-color:  #fff5f0;\n",
       "            color:  #000000;\n",
       "        }    #T_b395edac_7ce7_11ea_8ada_902b3435795crow1_col1 {\n",
       "            background-color:  #fff4ef;\n",
       "            color:  #000000;\n",
       "        }    #T_b395edac_7ce7_11ea_8ada_902b3435795crow2_col0 {\n",
       "            background-color:  #fff2ec;\n",
       "            color:  #000000;\n",
       "        }    #T_b395edac_7ce7_11ea_8ada_902b3435795crow2_col1 {\n",
       "            background-color:  #fff5f0;\n",
       "            color:  #000000;\n",
       "        }    #T_b395edac_7ce7_11ea_8ada_902b3435795crow3_col0 {\n",
       "            background-color:  #fee2d5;\n",
       "            color:  #000000;\n",
       "        }    #T_b395edac_7ce7_11ea_8ada_902b3435795crow3_col1 {\n",
       "            background-color:  #fee6da;\n",
       "            color:  #000000;\n",
       "        }    #T_b395edac_7ce7_11ea_8ada_902b3435795crow4_col0 {\n",
       "            background-color:  #fee9df;\n",
       "            color:  #000000;\n",
       "        }    #T_b395edac_7ce7_11ea_8ada_902b3435795crow4_col1 {\n",
       "            background-color:  #ffefe8;\n",
       "            color:  #000000;\n",
       "        }    #T_b395edac_7ce7_11ea_8ada_902b3435795crow5_col0 {\n",
       "            background-color:  #fdd1be;\n",
       "            color:  #000000;\n",
       "        }    #T_b395edac_7ce7_11ea_8ada_902b3435795crow5_col1 {\n",
       "            background-color:  #fee3d7;\n",
       "            color:  #000000;\n",
       "        }    #T_b395edac_7ce7_11ea_8ada_902b3435795crow6_col0 {\n",
       "            background-color:  #feeae1;\n",
       "            color:  #000000;\n",
       "        }    #T_b395edac_7ce7_11ea_8ada_902b3435795crow6_col1 {\n",
       "            background-color:  #fff1ea;\n",
       "            color:  #000000;\n",
       "        }    #T_b395edac_7ce7_11ea_8ada_902b3435795crow7_col0 {\n",
       "            background-color:  #fff0e8;\n",
       "            color:  #000000;\n",
       "        }    #T_b395edac_7ce7_11ea_8ada_902b3435795crow7_col1 {\n",
       "            background-color:  #fff3ed;\n",
       "            color:  #000000;\n",
       "        }    #T_b395edac_7ce7_11ea_8ada_902b3435795crow8_col0 {\n",
       "            background-color:  #fff2eb;\n",
       "            color:  #000000;\n",
       "        }    #T_b395edac_7ce7_11ea_8ada_902b3435795crow8_col1 {\n",
       "            background-color:  #fff3ed;\n",
       "            color:  #000000;\n",
       "        }    #T_b395edac_7ce7_11ea_8ada_902b3435795crow9_col0 {\n",
       "            background-color:  #fff0e8;\n",
       "            color:  #000000;\n",
       "        }    #T_b395edac_7ce7_11ea_8ada_902b3435795crow9_col1 {\n",
       "            background-color:  #fff0e9;\n",
       "            color:  #000000;\n",
       "        }    #T_b395edac_7ce7_11ea_8ada_902b3435795crow10_col0 {\n",
       "            background-color:  #fff4ee;\n",
       "            color:  #000000;\n",
       "        }    #T_b395edac_7ce7_11ea_8ada_902b3435795crow10_col1 {\n",
       "            background-color:  #fff5f0;\n",
       "            color:  #000000;\n",
       "        }    #T_b395edac_7ce7_11ea_8ada_902b3435795crow11_col0 {\n",
       "            background-color:  #fff4ee;\n",
       "            color:  #000000;\n",
       "        }    #T_b395edac_7ce7_11ea_8ada_902b3435795crow11_col1 {\n",
       "            background-color:  #fff5f0;\n",
       "            color:  #000000;\n",
       "        }    #T_b395edac_7ce7_11ea_8ada_902b3435795crow12_col0 {\n",
       "            background-color:  #fee7dc;\n",
       "            color:  #000000;\n",
       "        }    #T_b395edac_7ce7_11ea_8ada_902b3435795crow12_col1 {\n",
       "            background-color:  #fff0e8;\n",
       "            color:  #000000;\n",
       "        }    #T_b395edac_7ce7_11ea_8ada_902b3435795crow13_col0 {\n",
       "            background-color:  #fee8de;\n",
       "            color:  #000000;\n",
       "        }    #T_b395edac_7ce7_11ea_8ada_902b3435795crow13_col1 {\n",
       "            background-color:  #ffeee6;\n",
       "            color:  #000000;\n",
       "        }    #T_b395edac_7ce7_11ea_8ada_902b3435795crow14_col0 {\n",
       "            background-color:  #fff4ef;\n",
       "            color:  #000000;\n",
       "        }    #T_b395edac_7ce7_11ea_8ada_902b3435795crow14_col1 {\n",
       "            background-color:  #fff2eb;\n",
       "            color:  #000000;\n",
       "        }    #T_b395edac_7ce7_11ea_8ada_902b3435795crow15_col0 {\n",
       "            background-color:  #fff2ec;\n",
       "            color:  #000000;\n",
       "        }    #T_b395edac_7ce7_11ea_8ada_902b3435795crow15_col1 {\n",
       "            background-color:  #fff2ec;\n",
       "            color:  #000000;\n",
       "        }    #T_b395edac_7ce7_11ea_8ada_902b3435795crow16_col0 {\n",
       "            background-color:  #fee8dd;\n",
       "            color:  #000000;\n",
       "        }    #T_b395edac_7ce7_11ea_8ada_902b3435795crow16_col1 {\n",
       "            background-color:  #fee1d4;\n",
       "            color:  #000000;\n",
       "        }    #T_b395edac_7ce7_11ea_8ada_902b3435795crow17_col0 {\n",
       "            background-color:  #fff5f0;\n",
       "            color:  #000000;\n",
       "        }    #T_b395edac_7ce7_11ea_8ada_902b3435795crow17_col1 {\n",
       "            background-color:  #fff3ed;\n",
       "            color:  #000000;\n",
       "        }    #T_b395edac_7ce7_11ea_8ada_902b3435795crow18_col0 {\n",
       "            background-color:  #fff0e9;\n",
       "            color:  #000000;\n",
       "        }    #T_b395edac_7ce7_11ea_8ada_902b3435795crow18_col1 {\n",
       "            background-color:  #fff2eb;\n",
       "            color:  #000000;\n",
       "        }    #T_b395edac_7ce7_11ea_8ada_902b3435795crow19_col0 {\n",
       "            background-color:  #fee8de;\n",
       "            color:  #000000;\n",
       "        }    #T_b395edac_7ce7_11ea_8ada_902b3435795crow19_col1 {\n",
       "            background-color:  #fff1ea;\n",
       "            color:  #000000;\n",
       "        }    #T_b395edac_7ce7_11ea_8ada_902b3435795crow20_col0 {\n",
       "            background-color:  #fcab8f;\n",
       "            color:  #000000;\n",
       "        }    #T_b395edac_7ce7_11ea_8ada_902b3435795crow20_col1 {\n",
       "            background-color:  #fcb499;\n",
       "            color:  #000000;\n",
       "        }    #T_b395edac_7ce7_11ea_8ada_902b3435795crow21_col0 {\n",
       "            background-color:  #fff5f0;\n",
       "            color:  #000000;\n",
       "        }    #T_b395edac_7ce7_11ea_8ada_902b3435795crow21_col1 {\n",
       "            background-color:  #fff5f0;\n",
       "            color:  #000000;\n",
       "        }    #T_b395edac_7ce7_11ea_8ada_902b3435795crow22_col0 {\n",
       "            background-color:  #fff4ef;\n",
       "            color:  #000000;\n",
       "        }    #T_b395edac_7ce7_11ea_8ada_902b3435795crow22_col1 {\n",
       "            background-color:  #fff4ef;\n",
       "            color:  #000000;\n",
       "        }    #T_b395edac_7ce7_11ea_8ada_902b3435795crow23_col0 {\n",
       "            background-color:  #fee8dd;\n",
       "            color:  #000000;\n",
       "        }    #T_b395edac_7ce7_11ea_8ada_902b3435795crow23_col1 {\n",
       "            background-color:  #fff0e8;\n",
       "            color:  #000000;\n",
       "        }    #T_b395edac_7ce7_11ea_8ada_902b3435795crow24_col0 {\n",
       "            background-color:  #fff5f0;\n",
       "            color:  #000000;\n",
       "        }    #T_b395edac_7ce7_11ea_8ada_902b3435795crow24_col1 {\n",
       "            background-color:  #fff4ef;\n",
       "            color:  #000000;\n",
       "        }    #T_b395edac_7ce7_11ea_8ada_902b3435795crow25_col0 {\n",
       "            background-color:  #67000d;\n",
       "            color:  #f1f1f1;\n",
       "        }    #T_b395edac_7ce7_11ea_8ada_902b3435795crow25_col1 {\n",
       "            background-color:  #67000d;\n",
       "            color:  #f1f1f1;\n",
       "        }    #T_b395edac_7ce7_11ea_8ada_902b3435795crow26_col0 {\n",
       "            background-color:  #fff5f0;\n",
       "            color:  #000000;\n",
       "        }    #T_b395edac_7ce7_11ea_8ada_902b3435795crow26_col1 {\n",
       "            background-color:  #fff5f0;\n",
       "            color:  #000000;\n",
       "        }</style><table id=\"T_b395edac_7ce7_11ea_8ada_902b3435795c\" ><thead>    <tr>        <th class=\"blank level0\" ></th>        <th class=\"col_heading level0 col0\" >casos_confirmados</th>        <th class=\"col_heading level0 col1\" >mortes_confirmadas</th>    </tr>    <tr>        <th class=\"index_name level0\" >estado</th>        <th class=\"blank\" ></th>        <th class=\"blank\" ></th>    </tr></thead><tbody>\n",
       "                <tr>\n",
       "                        <th id=\"T_b395edac_7ce7_11ea_8ada_902b3435795clevel0_row0\" class=\"row_heading level0 row0\" >Acre</th>\n",
       "                        <td id=\"T_b395edac_7ce7_11ea_8ada_902b3435795crow0_col0\" class=\"data row0 col0\" >70</td>\n",
       "                        <td id=\"T_b395edac_7ce7_11ea_8ada_902b3435795crow0_col1\" class=\"data row0 col1\" >2</td>\n",
       "            </tr>\n",
       "            <tr>\n",
       "                        <th id=\"T_b395edac_7ce7_11ea_8ada_902b3435795clevel0_row1\" class=\"row_heading level0 row1\" >Alagoas</th>\n",
       "                        <td id=\"T_b395edac_7ce7_11ea_8ada_902b3435795crow1_col0\" class=\"data row1 col0\" >45</td>\n",
       "                        <td id=\"T_b395edac_7ce7_11ea_8ada_902b3435795crow1_col1\" class=\"data row1 col1\" >3</td>\n",
       "            </tr>\n",
       "            <tr>\n",
       "                        <th id=\"T_b395edac_7ce7_11ea_8ada_902b3435795clevel0_row2\" class=\"row_heading level0 row2\" >Amapá</th>\n",
       "                        <td id=\"T_b395edac_7ce7_11ea_8ada_902b3435795crow2_col0\" class=\"data row2 col0\" >166</td>\n",
       "                        <td id=\"T_b395edac_7ce7_11ea_8ada_902b3435795crow2_col1\" class=\"data row2 col1\" >2</td>\n",
       "            </tr>\n",
       "            <tr>\n",
       "                        <th id=\"T_b395edac_7ce7_11ea_8ada_902b3435795clevel0_row3\" class=\"row_heading level0 row3\" >Amazonas</th>\n",
       "                        <td id=\"T_b395edac_7ce7_11ea_8ada_902b3435795crow3_col0\" class=\"data row3 col0\" >981</td>\n",
       "                        <td id=\"T_b395edac_7ce7_11ea_8ada_902b3435795crow3_col1\" class=\"data row3 col1\" >50</td>\n",
       "            </tr>\n",
       "            <tr>\n",
       "                        <th id=\"T_b395edac_7ce7_11ea_8ada_902b3435795clevel0_row4\" class=\"row_heading level0 row4\" >Bahia</th>\n",
       "                        <td id=\"T_b395edac_7ce7_11ea_8ada_902b3435795crow4_col0\" class=\"data row4 col0\" >604</td>\n",
       "                        <td id=\"T_b395edac_7ce7_11ea_8ada_902b3435795crow4_col1\" class=\"data row4 col1\" >19</td>\n",
       "            </tr>\n",
       "            <tr>\n",
       "                        <th id=\"T_b395edac_7ce7_11ea_8ada_902b3435795clevel0_row5\" class=\"row_heading level0 row5\" >Ceará</th>\n",
       "                        <td id=\"T_b395edac_7ce7_11ea_8ada_902b3435795crow5_col0\" class=\"data row5 col0\" >1478</td>\n",
       "                        <td id=\"T_b395edac_7ce7_11ea_8ada_902b3435795crow5_col1\" class=\"data row5 col1\" >58</td>\n",
       "            </tr>\n",
       "            <tr>\n",
       "                        <th id=\"T_b395edac_7ce7_11ea_8ada_902b3435795clevel0_row6\" class=\"row_heading level0 row6\" >Distrito Federal</th>\n",
       "                        <td id=\"T_b395edac_7ce7_11ea_8ada_902b3435795crow6_col0\" class=\"data row6 col0\" >555</td>\n",
       "                        <td id=\"T_b395edac_7ce7_11ea_8ada_902b3435795crow6_col1\" class=\"data row6 col1\" >14</td>\n",
       "            </tr>\n",
       "            <tr>\n",
       "                        <th id=\"T_b395edac_7ce7_11ea_8ada_902b3435795clevel0_row7\" class=\"row_heading level0 row7\" >Espírito Santo</th>\n",
       "                        <td id=\"T_b395edac_7ce7_11ea_8ada_902b3435795crow7_col0\" class=\"data row7 col0\" >300</td>\n",
       "                        <td id=\"T_b395edac_7ce7_11ea_8ada_902b3435795crow7_col1\" class=\"data row7 col1\" >7</td>\n",
       "            </tr>\n",
       "            <tr>\n",
       "                        <th id=\"T_b395edac_7ce7_11ea_8ada_902b3435795clevel0_row8\" class=\"row_heading level0 row8\" >Goiás</th>\n",
       "                        <td id=\"T_b395edac_7ce7_11ea_8ada_902b3435795crow8_col0\" class=\"data row8 col0\" >191</td>\n",
       "                        <td id=\"T_b395edac_7ce7_11ea_8ada_902b3435795crow8_col1\" class=\"data row8 col1\" >8</td>\n",
       "            </tr>\n",
       "            <tr>\n",
       "                        <th id=\"T_b395edac_7ce7_11ea_8ada_902b3435795clevel0_row9\" class=\"row_heading level0 row9\" >Maranhão</th>\n",
       "                        <td id=\"T_b395edac_7ce7_11ea_8ada_902b3435795crow9_col0\" class=\"data row9 col0\" >293</td>\n",
       "                        <td id=\"T_b395edac_7ce7_11ea_8ada_902b3435795crow9_col1\" class=\"data row9 col1\" >16</td>\n",
       "            </tr>\n",
       "            <tr>\n",
       "                        <th id=\"T_b395edac_7ce7_11ea_8ada_902b3435795clevel0_row10\" class=\"row_heading level0 row10\" >Mato Grosso</th>\n",
       "                        <td id=\"T_b395edac_7ce7_11ea_8ada_902b3435795crow10_col0\" class=\"data row10 col0\" >112</td>\n",
       "                        <td id=\"T_b395edac_7ce7_11ea_8ada_902b3435795crow10_col1\" class=\"data row10 col1\" >2</td>\n",
       "            </tr>\n",
       "            <tr>\n",
       "                        <th id=\"T_b395edac_7ce7_11ea_8ada_902b3435795clevel0_row11\" class=\"row_heading level0 row11\" >Mato Grosso do Sul</th>\n",
       "                        <td id=\"T_b395edac_7ce7_11ea_8ada_902b3435795crow11_col0\" class=\"data row11 col0\" >97</td>\n",
       "                        <td id=\"T_b395edac_7ce7_11ea_8ada_902b3435795crow11_col1\" class=\"data row11 col1\" >2</td>\n",
       "            </tr>\n",
       "            <tr>\n",
       "                        <th id=\"T_b395edac_7ce7_11ea_8ada_902b3435795clevel0_row12\" class=\"row_heading level0 row12\" >Minas Gerais</th>\n",
       "                        <td id=\"T_b395edac_7ce7_11ea_8ada_902b3435795crow12_col0\" class=\"data row12 col0\" >698</td>\n",
       "                        <td id=\"T_b395edac_7ce7_11ea_8ada_902b3435795crow12_col1\" class=\"data row12 col1\" >17</td>\n",
       "            </tr>\n",
       "            <tr>\n",
       "                        <th id=\"T_b395edac_7ce7_11ea_8ada_902b3435795clevel0_row13\" class=\"row_heading level0 row13\" >Paraná</th>\n",
       "                        <td id=\"T_b395edac_7ce7_11ea_8ada_902b3435795crow13_col0\" class=\"data row13 col0\" >643</td>\n",
       "                        <td id=\"T_b395edac_7ce7_11ea_8ada_902b3435795crow13_col1\" class=\"data row13 col1\" >25</td>\n",
       "            </tr>\n",
       "            <tr>\n",
       "                        <th id=\"T_b395edac_7ce7_11ea_8ada_902b3435795clevel0_row14\" class=\"row_heading level0 row14\" >Paraíba</th>\n",
       "                        <td id=\"T_b395edac_7ce7_11ea_8ada_902b3435795crow14_col0\" class=\"data row14 col0\" >79</td>\n",
       "                        <td id=\"T_b395edac_7ce7_11ea_8ada_902b3435795crow14_col1\" class=\"data row14 col1\" >11</td>\n",
       "            </tr>\n",
       "            <tr>\n",
       "                        <th id=\"T_b395edac_7ce7_11ea_8ada_902b3435795clevel0_row15\" class=\"row_heading level0 row15\" >Pará</th>\n",
       "                        <td id=\"T_b395edac_7ce7_11ea_8ada_902b3435795crow15_col0\" class=\"data row15 col0\" >170</td>\n",
       "                        <td id=\"T_b395edac_7ce7_11ea_8ada_902b3435795crow15_col1\" class=\"data row15 col1\" >9</td>\n",
       "            </tr>\n",
       "            <tr>\n",
       "                        <th id=\"T_b395edac_7ce7_11ea_8ada_902b3435795clevel0_row16\" class=\"row_heading level0 row16\" >Pernambuco</th>\n",
       "                        <td id=\"T_b395edac_7ce7_11ea_8ada_902b3435795crow16_col0\" class=\"data row16 col0\" >684</td>\n",
       "                        <td id=\"T_b395edac_7ce7_11ea_8ada_902b3435795crow16_col1\" class=\"data row16 col1\" >65</td>\n",
       "            </tr>\n",
       "            <tr>\n",
       "                        <th id=\"T_b395edac_7ce7_11ea_8ada_902b3435795clevel0_row17\" class=\"row_heading level0 row17\" >Piauí</th>\n",
       "                        <td id=\"T_b395edac_7ce7_11ea_8ada_902b3435795crow17_col0\" class=\"data row17 col0\" >40</td>\n",
       "                        <td id=\"T_b395edac_7ce7_11ea_8ada_902b3435795crow17_col1\" class=\"data row17 col1\" >7</td>\n",
       "            </tr>\n",
       "            <tr>\n",
       "                        <th id=\"T_b395edac_7ce7_11ea_8ada_902b3435795clevel0_row18\" class=\"row_heading level0 row18\" >Rio Grande do Norte</th>\n",
       "                        <td id=\"T_b395edac_7ce7_11ea_8ada_902b3435795crow18_col0\" class=\"data row18 col0\" >263</td>\n",
       "                        <td id=\"T_b395edac_7ce7_11ea_8ada_902b3435795crow18_col1\" class=\"data row18 col1\" >11</td>\n",
       "            </tr>\n",
       "            <tr>\n",
       "                        <th id=\"T_b395edac_7ce7_11ea_8ada_902b3435795clevel0_row19\" class=\"row_heading level0 row19\" >Rio Grande do Sul</th>\n",
       "                        <td id=\"T_b395edac_7ce7_11ea_8ada_902b3435795crow19_col0\" class=\"data row19 col0\" >636</td>\n",
       "                        <td id=\"T_b395edac_7ce7_11ea_8ada_902b3435795crow19_col1\" class=\"data row19 col1\" >14</td>\n",
       "            </tr>\n",
       "            <tr>\n",
       "                        <th id=\"T_b395edac_7ce7_11ea_8ada_902b3435795clevel0_row20\" class=\"row_heading level0 row20\" >Rio de Janeiro</th>\n",
       "                        <td id=\"T_b395edac_7ce7_11ea_8ada_902b3435795crow20_col0\" class=\"data row20 col0\" >2464</td>\n",
       "                        <td id=\"T_b395edac_7ce7_11ea_8ada_902b3435795crow20_col1\" class=\"data row20 col1\" >147</td>\n",
       "            </tr>\n",
       "            <tr>\n",
       "                        <th id=\"T_b395edac_7ce7_11ea_8ada_902b3435795clevel0_row21\" class=\"row_heading level0 row21\" >Rondônia</th>\n",
       "                        <td id=\"T_b395edac_7ce7_11ea_8ada_902b3435795crow21_col0\" class=\"data row21 col0\" >32</td>\n",
       "                        <td id=\"T_b395edac_7ce7_11ea_8ada_902b3435795crow21_col1\" class=\"data row21 col1\" >2</td>\n",
       "            </tr>\n",
       "            <tr>\n",
       "                        <th id=\"T_b395edac_7ce7_11ea_8ada_902b3435795clevel0_row22\" class=\"row_heading level0 row22\" >Roraima</th>\n",
       "                        <td id=\"T_b395edac_7ce7_11ea_8ada_902b3435795crow22_col0\" class=\"data row22 col0\" >63</td>\n",
       "                        <td id=\"T_b395edac_7ce7_11ea_8ada_902b3435795crow22_col1\" class=\"data row22 col1\" >3</td>\n",
       "            </tr>\n",
       "            <tr>\n",
       "                        <th id=\"T_b395edac_7ce7_11ea_8ada_902b3435795clevel0_row23\" class=\"row_heading level0 row23\" >Santa Catarina</th>\n",
       "                        <td id=\"T_b395edac_7ce7_11ea_8ada_902b3435795crow23_col0\" class=\"data row23 col0\" >693</td>\n",
       "                        <td id=\"T_b395edac_7ce7_11ea_8ada_902b3435795crow23_col1\" class=\"data row23 col1\" >18</td>\n",
       "            </tr>\n",
       "            <tr>\n",
       "                        <th id=\"T_b395edac_7ce7_11ea_8ada_902b3435795clevel0_row24\" class=\"row_heading level0 row24\" >Sergipe</th>\n",
       "                        <td id=\"T_b395edac_7ce7_11ea_8ada_902b3435795crow24_col0\" class=\"data row24 col0\" >42</td>\n",
       "                        <td id=\"T_b395edac_7ce7_11ea_8ada_902b3435795crow24_col1\" class=\"data row24 col1\" >4</td>\n",
       "            </tr>\n",
       "            <tr>\n",
       "                        <th id=\"T_b395edac_7ce7_11ea_8ada_902b3435795clevel0_row25\" class=\"row_heading level0 row25\" >São Paulo</th>\n",
       "                        <td id=\"T_b395edac_7ce7_11ea_8ada_902b3435795crow25_col0\" class=\"data row25 col0\" >8216</td>\n",
       "                        <td id=\"T_b395edac_7ce7_11ea_8ada_902b3435795crow25_col1\" class=\"data row25 col1\" >540</td>\n",
       "            </tr>\n",
       "            <tr>\n",
       "                        <th id=\"T_b395edac_7ce7_11ea_8ada_902b3435795clevel0_row26\" class=\"row_heading level0 row26\" >Tocantins</th>\n",
       "                        <td id=\"T_b395edac_7ce7_11ea_8ada_902b3435795crow26_col0\" class=\"data row26 col0\" >23</td>\n",
       "                        <td id=\"T_b395edac_7ce7_11ea_8ada_902b3435795crow26_col1\" class=\"data row26 col1\" >0</td>\n",
       "            </tr>\n",
       "    </tbody></table>"
      ],
      "text/plain": [
       "<pandas.io.formats.style.Styler at 0x17a8dac4f88>"
      ]
     },
     "execution_count": 15,
     "metadata": {},
     "output_type": "execute_result"
    }
   ],
   "source": [
    "df1.style.background_gradient(cmap=\"Reds\")"
   ]
  },
  {
   "cell_type": "markdown",
   "metadata": {},
   "source": [
    "* Observamos que a cor fica mais escura, quando o valor, por exemplo, dos casos confirmados é muito grande, quando comparada com os outros estados.\n",
    "* Percebemos que o estado de São Paulo e Rio de Janeiro, estão com as cores mais salientes em vermelho, que os demais estados."
   ]
  },
  {
   "cell_type": "markdown",
   "metadata": {},
   "source": [
    "## 1.3) `Gráfico por Estado a respeito de casos_confirmados e mortes_confirmadas:`"
   ]
  },
  {
   "cell_type": "code",
   "execution_count": 16,
   "metadata": {},
   "outputs": [],
   "source": [
    "data = [\n",
    "    go.Bar(x = df1.index, y=df1.casos_confirmados, name=\"Casos Confirmados\"), # Plot do gráfico na vertical de Suspeitos X Estado\n",
    "    go.Bar(x = df1.index, y=df1.mortes_confirmadas, name=\"Mortes Confirmadas\"),  # Plot do gráfico na vertical Casos X Estado\n",
    "]\n",
    "\n",
    "layout = go.Layout(title=\"Gráfico do Covid-19 por Estado Brasileiro\") # Configuração do Título do Gráfico"
   ]
  },
  {
   "cell_type": "code",
   "execution_count": 17,
   "metadata": {},
   "outputs": [],
   "source": [
    "fig = go.Figure(data = data, layout = layout)"
   ]
  },
  {
   "cell_type": "code",
   "execution_count": 18,
   "metadata": {},
   "outputs": [
    {
     "data": {
      "text/plain": [
       "'temp-plot.html'"
      ]
     },
     "execution_count": 18,
     "metadata": {},
     "output_type": "execute_result"
    }
   ],
   "source": [
    "pyo.plot(fig) # Plota o Gráfico via Plotly"
   ]
  },
  {
   "cell_type": "markdown",
   "metadata": {},
   "source": [
    "### `1.4) Gráfico Geográfico dos casos_confirmados e mortes_confirmadas por Estado (segunda opção)`:"
   ]
  },
  {
   "cell_type": "code",
   "execution_count": 19,
   "metadata": {},
   "outputs": [],
   "source": [
    "brazil_map = folium.Map(location=[-15.776250,-47.796619],tiles = \"CartoDB positron\", zoom_start=5)"
   ]
  },
  {
   "cell_type": "markdown",
   "metadata": {},
   "source": [
    "* OBS: Colocar a latitude e Longitude no formato Ex: -70,023434, substituindo ponto por virgula"
   ]
  },
  {
   "cell_type": "code",
   "execution_count": 20,
   "metadata": {},
   "outputs": [],
   "source": [
    "#Criando a coluna destinada a latitude e longitude de cada estado\n",
    "\n",
    "N_Longitude  = [\n",
    "-70.30146,\n",
    "-36.372506,\n",
    "-50.79137,\n",
    "-65.856064,\n",
    "-38.343577,\n",
    "-38.647867,\n",
    "-47.796619,\n",
    "-40.308865,\n",
    "-49.836224,\n",
    "-45.338388,\n",
    "-56.921101,\n",
    "-54.545921,\n",
    "-44.555031,\n",
    "-52.021542,\n",
    "-36.781952,\n",
    "-52.319211,\n",
    "-36.954105,\n",
    "-41.736591,\n",
    "-36.19577,\n",
    "-51.180061,\n",
    "-43.40579,\n",
    "-61.319698,\n",
    "-61.856049,\n",
    "-51.092289,\n",
    "-37.385658,\n",
    "-46.633308,\n",
    "-48.33466\n",
    "]\n"
   ]
  },
  {
   "cell_type": "code",
   "execution_count": 21,
   "metadata": {},
   "outputs": [],
   "source": [
    "N_Latitude = [\n",
    "-9.12893,\n",
    "-9.672838,\n",
    "2.05189,\n",
    "-3.416843,\n",
    "-12.506686,\n",
    "-3.931844,\n",
    "-15.77625,\n",
    "-19.183422,\n",
    "-15.827037,\n",
    "-5.703448,\n",
    "-12.681871,\n",
    "-20.61817,\n",
    "-18.512178,\n",
    "-25.252089,\n",
    "-7.239961,\n",
    "-5.125989,\n",
    "-8.813717,\n",
    "-6.40271,\n",
    "-5.41738,\n",
    "-29.167391,\n",
    "-22.939106,\n",
    "-11.83131,\n",
    "1.84565,\n",
    "-27.6534,\n",
    "-10.574093,\n",
    "-23.55052,\n",
    "-10.18451\n",
    "]"
   ]
  },
  {
   "cell_type": "code",
   "execution_count": 22,
   "metadata": {},
   "outputs": [],
   "source": [
    "df1.insert(loc=2,column='Latitude',value=N_Latitude) # Inserindo a lista Latitude na coluna do df1"
   ]
  },
  {
   "cell_type": "code",
   "execution_count": 23,
   "metadata": {},
   "outputs": [],
   "source": [
    "df1.insert(loc=3,column='Longitude',value=N_Longitude) # Inserindo a lista Longitude na coluna do df1"
   ]
  },
  {
   "cell_type": "code",
   "execution_count": 24,
   "metadata": {},
   "outputs": [
    {
     "data": {
      "text/html": [
       "<div>\n",
       "<style scoped>\n",
       "    .dataframe tbody tr th:only-of-type {\n",
       "        vertical-align: middle;\n",
       "    }\n",
       "\n",
       "    .dataframe tbody tr th {\n",
       "        vertical-align: top;\n",
       "    }\n",
       "\n",
       "    .dataframe thead th {\n",
       "        text-align: right;\n",
       "    }\n",
       "</style>\n",
       "<table border=\"1\" class=\"dataframe\">\n",
       "  <thead>\n",
       "    <tr style=\"text-align: right;\">\n",
       "      <th></th>\n",
       "      <th>casos_confirmados</th>\n",
       "      <th>mortes_confirmadas</th>\n",
       "      <th>Latitude</th>\n",
       "      <th>Longitude</th>\n",
       "    </tr>\n",
       "    <tr>\n",
       "      <th>estado</th>\n",
       "      <th></th>\n",
       "      <th></th>\n",
       "      <th></th>\n",
       "      <th></th>\n",
       "    </tr>\n",
       "  </thead>\n",
       "  <tbody>\n",
       "    <tr>\n",
       "      <th>Acre</th>\n",
       "      <td>70</td>\n",
       "      <td>2</td>\n",
       "      <td>-9.128930</td>\n",
       "      <td>-70.301460</td>\n",
       "    </tr>\n",
       "    <tr>\n",
       "      <th>Alagoas</th>\n",
       "      <td>45</td>\n",
       "      <td>3</td>\n",
       "      <td>-9.672838</td>\n",
       "      <td>-36.372506</td>\n",
       "    </tr>\n",
       "    <tr>\n",
       "      <th>Amapá</th>\n",
       "      <td>166</td>\n",
       "      <td>2</td>\n",
       "      <td>2.051890</td>\n",
       "      <td>-50.791370</td>\n",
       "    </tr>\n",
       "    <tr>\n",
       "      <th>Amazonas</th>\n",
       "      <td>981</td>\n",
       "      <td>50</td>\n",
       "      <td>-3.416843</td>\n",
       "      <td>-65.856064</td>\n",
       "    </tr>\n",
       "    <tr>\n",
       "      <th>Bahia</th>\n",
       "      <td>604</td>\n",
       "      <td>19</td>\n",
       "      <td>-12.506686</td>\n",
       "      <td>-38.343577</td>\n",
       "    </tr>\n",
       "    <tr>\n",
       "      <th>Ceará</th>\n",
       "      <td>1478</td>\n",
       "      <td>58</td>\n",
       "      <td>-3.931844</td>\n",
       "      <td>-38.647867</td>\n",
       "    </tr>\n",
       "    <tr>\n",
       "      <th>Distrito Federal</th>\n",
       "      <td>555</td>\n",
       "      <td>14</td>\n",
       "      <td>-15.776250</td>\n",
       "      <td>-47.796619</td>\n",
       "    </tr>\n",
       "    <tr>\n",
       "      <th>Espírito Santo</th>\n",
       "      <td>300</td>\n",
       "      <td>7</td>\n",
       "      <td>-19.183422</td>\n",
       "      <td>-40.308865</td>\n",
       "    </tr>\n",
       "    <tr>\n",
       "      <th>Goiás</th>\n",
       "      <td>191</td>\n",
       "      <td>8</td>\n",
       "      <td>-15.827037</td>\n",
       "      <td>-49.836224</td>\n",
       "    </tr>\n",
       "    <tr>\n",
       "      <th>Maranhão</th>\n",
       "      <td>293</td>\n",
       "      <td>16</td>\n",
       "      <td>-5.703448</td>\n",
       "      <td>-45.338388</td>\n",
       "    </tr>\n",
       "    <tr>\n",
       "      <th>Mato Grosso</th>\n",
       "      <td>112</td>\n",
       "      <td>2</td>\n",
       "      <td>-12.681871</td>\n",
       "      <td>-56.921101</td>\n",
       "    </tr>\n",
       "    <tr>\n",
       "      <th>Mato Grosso do Sul</th>\n",
       "      <td>97</td>\n",
       "      <td>2</td>\n",
       "      <td>-20.618170</td>\n",
       "      <td>-54.545921</td>\n",
       "    </tr>\n",
       "    <tr>\n",
       "      <th>Minas Gerais</th>\n",
       "      <td>698</td>\n",
       "      <td>17</td>\n",
       "      <td>-18.512178</td>\n",
       "      <td>-44.555031</td>\n",
       "    </tr>\n",
       "    <tr>\n",
       "      <th>Paraná</th>\n",
       "      <td>643</td>\n",
       "      <td>25</td>\n",
       "      <td>-25.252089</td>\n",
       "      <td>-52.021542</td>\n",
       "    </tr>\n",
       "    <tr>\n",
       "      <th>Paraíba</th>\n",
       "      <td>79</td>\n",
       "      <td>11</td>\n",
       "      <td>-7.239961</td>\n",
       "      <td>-36.781952</td>\n",
       "    </tr>\n",
       "    <tr>\n",
       "      <th>Pará</th>\n",
       "      <td>170</td>\n",
       "      <td>9</td>\n",
       "      <td>-5.125989</td>\n",
       "      <td>-52.319211</td>\n",
       "    </tr>\n",
       "    <tr>\n",
       "      <th>Pernambuco</th>\n",
       "      <td>684</td>\n",
       "      <td>65</td>\n",
       "      <td>-8.813717</td>\n",
       "      <td>-36.954105</td>\n",
       "    </tr>\n",
       "    <tr>\n",
       "      <th>Piauí</th>\n",
       "      <td>40</td>\n",
       "      <td>7</td>\n",
       "      <td>-6.402710</td>\n",
       "      <td>-41.736591</td>\n",
       "    </tr>\n",
       "    <tr>\n",
       "      <th>Rio Grande do Norte</th>\n",
       "      <td>263</td>\n",
       "      <td>11</td>\n",
       "      <td>-5.417380</td>\n",
       "      <td>-36.195770</td>\n",
       "    </tr>\n",
       "    <tr>\n",
       "      <th>Rio Grande do Sul</th>\n",
       "      <td>636</td>\n",
       "      <td>14</td>\n",
       "      <td>-29.167391</td>\n",
       "      <td>-51.180061</td>\n",
       "    </tr>\n",
       "    <tr>\n",
       "      <th>Rio de Janeiro</th>\n",
       "      <td>2464</td>\n",
       "      <td>147</td>\n",
       "      <td>-22.939106</td>\n",
       "      <td>-43.405790</td>\n",
       "    </tr>\n",
       "    <tr>\n",
       "      <th>Rondônia</th>\n",
       "      <td>32</td>\n",
       "      <td>2</td>\n",
       "      <td>-11.831310</td>\n",
       "      <td>-61.319698</td>\n",
       "    </tr>\n",
       "    <tr>\n",
       "      <th>Roraima</th>\n",
       "      <td>63</td>\n",
       "      <td>3</td>\n",
       "      <td>1.845650</td>\n",
       "      <td>-61.856049</td>\n",
       "    </tr>\n",
       "    <tr>\n",
       "      <th>Santa Catarina</th>\n",
       "      <td>693</td>\n",
       "      <td>18</td>\n",
       "      <td>-27.653400</td>\n",
       "      <td>-51.092289</td>\n",
       "    </tr>\n",
       "    <tr>\n",
       "      <th>Sergipe</th>\n",
       "      <td>42</td>\n",
       "      <td>4</td>\n",
       "      <td>-10.574093</td>\n",
       "      <td>-37.385658</td>\n",
       "    </tr>\n",
       "    <tr>\n",
       "      <th>São Paulo</th>\n",
       "      <td>8216</td>\n",
       "      <td>540</td>\n",
       "      <td>-23.550520</td>\n",
       "      <td>-46.633308</td>\n",
       "    </tr>\n",
       "    <tr>\n",
       "      <th>Tocantins</th>\n",
       "      <td>23</td>\n",
       "      <td>0</td>\n",
       "      <td>-10.184510</td>\n",
       "      <td>-48.334660</td>\n",
       "    </tr>\n",
       "  </tbody>\n",
       "</table>\n",
       "</div>"
      ],
      "text/plain": [
       "                     casos_confirmados  mortes_confirmadas   Latitude  \\\n",
       "estado                                                                  \n",
       "Acre                                70                   2  -9.128930   \n",
       "Alagoas                             45                   3  -9.672838   \n",
       "Amapá                              166                   2   2.051890   \n",
       "Amazonas                           981                  50  -3.416843   \n",
       "Bahia                              604                  19 -12.506686   \n",
       "Ceará                             1478                  58  -3.931844   \n",
       "Distrito Federal                   555                  14 -15.776250   \n",
       "Espírito Santo                     300                   7 -19.183422   \n",
       "Goiás                              191                   8 -15.827037   \n",
       "Maranhão                           293                  16  -5.703448   \n",
       "Mato Grosso                        112                   2 -12.681871   \n",
       "Mato Grosso do Sul                  97                   2 -20.618170   \n",
       "Minas Gerais                       698                  17 -18.512178   \n",
       "Paraná                             643                  25 -25.252089   \n",
       "Paraíba                             79                  11  -7.239961   \n",
       "Pará                               170                   9  -5.125989   \n",
       "Pernambuco                         684                  65  -8.813717   \n",
       "Piauí                               40                   7  -6.402710   \n",
       "Rio Grande do Norte                263                  11  -5.417380   \n",
       "Rio Grande do Sul                  636                  14 -29.167391   \n",
       "Rio de Janeiro                    2464                 147 -22.939106   \n",
       "Rondônia                            32                   2 -11.831310   \n",
       "Roraima                             63                   3   1.845650   \n",
       "Santa Catarina                     693                  18 -27.653400   \n",
       "Sergipe                             42                   4 -10.574093   \n",
       "São Paulo                         8216                 540 -23.550520   \n",
       "Tocantins                           23                   0 -10.184510   \n",
       "\n",
       "                     Longitude  \n",
       "estado                          \n",
       "Acre                -70.301460  \n",
       "Alagoas             -36.372506  \n",
       "Amapá               -50.791370  \n",
       "Amazonas            -65.856064  \n",
       "Bahia               -38.343577  \n",
       "Ceará               -38.647867  \n",
       "Distrito Federal    -47.796619  \n",
       "Espírito Santo      -40.308865  \n",
       "Goiás               -49.836224  \n",
       "Maranhão            -45.338388  \n",
       "Mato Grosso         -56.921101  \n",
       "Mato Grosso do Sul  -54.545921  \n",
       "Minas Gerais        -44.555031  \n",
       "Paraná              -52.021542  \n",
       "Paraíba             -36.781952  \n",
       "Pará                -52.319211  \n",
       "Pernambuco          -36.954105  \n",
       "Piauí               -41.736591  \n",
       "Rio Grande do Norte -36.195770  \n",
       "Rio Grande do Sul   -51.180061  \n",
       "Rio de Janeiro      -43.405790  \n",
       "Rondônia            -61.319698  \n",
       "Roraima             -61.856049  \n",
       "Santa Catarina      -51.092289  \n",
       "Sergipe             -37.385658  \n",
       "São Paulo           -46.633308  \n",
       "Tocantins           -48.334660  "
      ]
     },
     "execution_count": 24,
     "metadata": {},
     "output_type": "execute_result"
    }
   ],
   "source": [
    "df1.head(27)"
   ]
  },
  {
   "cell_type": "code",
   "execution_count": 25,
   "metadata": {},
   "outputs": [],
   "source": [
    "df3 = df1.reset_index(drop=False)"
   ]
  },
  {
   "cell_type": "code",
   "execution_count": 26,
   "metadata": {},
   "outputs": [
    {
     "data": {
      "text/html": [
       "<div>\n",
       "<style scoped>\n",
       "    .dataframe tbody tr th:only-of-type {\n",
       "        vertical-align: middle;\n",
       "    }\n",
       "\n",
       "    .dataframe tbody tr th {\n",
       "        vertical-align: top;\n",
       "    }\n",
       "\n",
       "    .dataframe thead th {\n",
       "        text-align: right;\n",
       "    }\n",
       "</style>\n",
       "<table border=\"1\" class=\"dataframe\">\n",
       "  <thead>\n",
       "    <tr style=\"text-align: right;\">\n",
       "      <th></th>\n",
       "      <th>estado</th>\n",
       "      <th>casos_confirmados</th>\n",
       "      <th>mortes_confirmadas</th>\n",
       "      <th>Latitude</th>\n",
       "      <th>Longitude</th>\n",
       "    </tr>\n",
       "  </thead>\n",
       "  <tbody>\n",
       "    <tr>\n",
       "      <th>0</th>\n",
       "      <td>Acre</td>\n",
       "      <td>70</td>\n",
       "      <td>2</td>\n",
       "      <td>-9.128930</td>\n",
       "      <td>-70.301460</td>\n",
       "    </tr>\n",
       "    <tr>\n",
       "      <th>1</th>\n",
       "      <td>Alagoas</td>\n",
       "      <td>45</td>\n",
       "      <td>3</td>\n",
       "      <td>-9.672838</td>\n",
       "      <td>-36.372506</td>\n",
       "    </tr>\n",
       "    <tr>\n",
       "      <th>2</th>\n",
       "      <td>Amapá</td>\n",
       "      <td>166</td>\n",
       "      <td>2</td>\n",
       "      <td>2.051890</td>\n",
       "      <td>-50.791370</td>\n",
       "    </tr>\n",
       "    <tr>\n",
       "      <th>3</th>\n",
       "      <td>Amazonas</td>\n",
       "      <td>981</td>\n",
       "      <td>50</td>\n",
       "      <td>-3.416843</td>\n",
       "      <td>-65.856064</td>\n",
       "    </tr>\n",
       "    <tr>\n",
       "      <th>4</th>\n",
       "      <td>Bahia</td>\n",
       "      <td>604</td>\n",
       "      <td>19</td>\n",
       "      <td>-12.506686</td>\n",
       "      <td>-38.343577</td>\n",
       "    </tr>\n",
       "  </tbody>\n",
       "</table>\n",
       "</div>"
      ],
      "text/plain": [
       "     estado  casos_confirmados  mortes_confirmadas   Latitude  Longitude\n",
       "0      Acre                 70                   2  -9.128930 -70.301460\n",
       "1   Alagoas                 45                   3  -9.672838 -36.372506\n",
       "2     Amapá                166                   2   2.051890 -50.791370\n",
       "3  Amazonas                981                  50  -3.416843 -65.856064\n",
       "4     Bahia                604                  19 -12.506686 -38.343577"
      ]
     },
     "execution_count": 26,
     "metadata": {},
     "output_type": "execute_result"
    }
   ],
   "source": [
    "df3.head()"
   ]
  },
  {
   "cell_type": "code",
   "execution_count": 27,
   "metadata": {},
   "outputs": [],
   "source": [
    "# Criando interação para criar os marcadores de todos os estado baseados na Latitude e Longitude\n",
    "tooltip= \"Covid-19 Information\"\n",
    "\n",
    "for i, row in df3.iterrows():\n",
    "    html=\"\"\"\n",
    "    <h2>Information</h1>\n",
    "        State: {}<br>\n",
    "        Cases: {}<br>\n",
    "        Deaths: {}<br>\n",
    "    \"\"\".format(row['estado'],row['casos_confirmados'],row['mortes_confirmadas'])\n",
    "    folium.Marker([row[\"Latitude\"],row[\"Longitude\"]],\n",
    "                  popup = html,\n",
    "                  tooltip = tooltip,\n",
    "                  icon = folium.Icon(color='red', icon='info-sign')).add_to(brazil_map)"
   ]
  },
  {
   "cell_type": "code",
   "execution_count": 28,
   "metadata": {},
   "outputs": [
    {
     "data": {
      "text/html": [
       "<div style=\"width:100%;\"><div style=\"position:relative;width:100%;height:0;padding-bottom:60%;\"><iframe src=\"about:blank\" style=\"position:absolute;width:100%;height:100%;left:0;top:0;border:none !important;\" data-html=PCFET0NUWVBFIGh0bWw+CjxoZWFkPiAgICAKICAgIDxtZXRhIGh0dHAtZXF1aXY9ImNvbnRlbnQtdHlwZSIgY29udGVudD0idGV4dC9odG1sOyBjaGFyc2V0PVVURi04IiAvPgogICAgCiAgICAgICAgPHNjcmlwdD4KICAgICAgICAgICAgTF9OT19UT1VDSCA9IGZhbHNlOwogICAgICAgICAgICBMX0RJU0FCTEVfM0QgPSBmYWxzZTsKICAgICAgICA8L3NjcmlwdD4KICAgIAogICAgPHNjcmlwdCBzcmM9Imh0dHBzOi8vY2RuLmpzZGVsaXZyLm5ldC9ucG0vbGVhZmxldEAxLjUuMS9kaXN0L2xlYWZsZXQuanMiPjwvc2NyaXB0PgogICAgPHNjcmlwdCBzcmM9Imh0dHBzOi8vY29kZS5qcXVlcnkuY29tL2pxdWVyeS0xLjEyLjQubWluLmpzIj48L3NjcmlwdD4KICAgIDxzY3JpcHQgc3JjPSJodHRwczovL21heGNkbi5ib290c3RyYXBjZG4uY29tL2Jvb3RzdHJhcC8zLjIuMC9qcy9ib290c3RyYXAubWluLmpzIj48L3NjcmlwdD4KICAgIDxzY3JpcHQgc3JjPSJodHRwczovL2NkbmpzLmNsb3VkZmxhcmUuY29tL2FqYXgvbGlicy9MZWFmbGV0LmF3ZXNvbWUtbWFya2Vycy8yLjAuMi9sZWFmbGV0LmF3ZXNvbWUtbWFya2Vycy5qcyI+PC9zY3JpcHQ+CiAgICA8bGluayByZWw9InN0eWxlc2hlZXQiIGhyZWY9Imh0dHBzOi8vY2RuLmpzZGVsaXZyLm5ldC9ucG0vbGVhZmxldEAxLjUuMS9kaXN0L2xlYWZsZXQuY3NzIi8+CiAgICA8bGluayByZWw9InN0eWxlc2hlZXQiIGhyZWY9Imh0dHBzOi8vbWF4Y2RuLmJvb3RzdHJhcGNkbi5jb20vYm9vdHN0cmFwLzMuMi4wL2Nzcy9ib290c3RyYXAubWluLmNzcyIvPgogICAgPGxpbmsgcmVsPSJzdHlsZXNoZWV0IiBocmVmPSJodHRwczovL21heGNkbi5ib290c3RyYXBjZG4uY29tL2Jvb3RzdHJhcC8zLjIuMC9jc3MvYm9vdHN0cmFwLXRoZW1lLm1pbi5jc3MiLz4KICAgIDxsaW5rIHJlbD0ic3R5bGVzaGVldCIgaHJlZj0iaHR0cHM6Ly9tYXhjZG4uYm9vdHN0cmFwY2RuLmNvbS9mb250LWF3ZXNvbWUvNC42LjMvY3NzL2ZvbnQtYXdlc29tZS5taW4uY3NzIi8+CiAgICA8bGluayByZWw9InN0eWxlc2hlZXQiIGhyZWY9Imh0dHBzOi8vY2RuanMuY2xvdWRmbGFyZS5jb20vYWpheC9saWJzL0xlYWZsZXQuYXdlc29tZS1tYXJrZXJzLzIuMC4yL2xlYWZsZXQuYXdlc29tZS1tYXJrZXJzLmNzcyIvPgogICAgPGxpbmsgcmVsPSJzdHlsZXNoZWV0IiBocmVmPSJodHRwczovL3Jhd2Nkbi5naXRoYWNrLmNvbS9weXRob24tdmlzdWFsaXphdGlvbi9mb2xpdW0vbWFzdGVyL2ZvbGl1bS90ZW1wbGF0ZXMvbGVhZmxldC5hd2Vzb21lLnJvdGF0ZS5jc3MiLz4KICAgIDxzdHlsZT5odG1sLCBib2R5IHt3aWR0aDogMTAwJTtoZWlnaHQ6IDEwMCU7bWFyZ2luOiAwO3BhZGRpbmc6IDA7fTwvc3R5bGU+CiAgICA8c3R5bGU+I21hcCB7cG9zaXRpb246YWJzb2x1dGU7dG9wOjA7Ym90dG9tOjA7cmlnaHQ6MDtsZWZ0OjA7fTwvc3R5bGU+CiAgICAKICAgICAgICAgICAgPG1ldGEgbmFtZT0idmlld3BvcnQiIGNvbnRlbnQ9IndpZHRoPWRldmljZS13aWR0aCwKICAgICAgICAgICAgICAgIGluaXRpYWwtc2NhbGU9MS4wLCBtYXhpbXVtLXNjYWxlPTEuMCwgdXNlci1zY2FsYWJsZT1ubyIgLz4KICAgICAgICAgICAgPHN0eWxlPgogICAgICAgICAgICAgICAgI21hcF8xMzQ1ZDI1YTIwZmI0YjdiODU2OTY1OTE5NjkyYjE4OCB7CiAgICAgICAgICAgICAgICAgICAgcG9zaXRpb246IHJlbGF0aXZlOwogICAgICAgICAgICAgICAgICAgIHdpZHRoOiAxMDAuMCU7CiAgICAgICAgICAgICAgICAgICAgaGVpZ2h0OiAxMDAuMCU7CiAgICAgICAgICAgICAgICAgICAgbGVmdDogMC4wJTsKICAgICAgICAgICAgICAgICAgICB0b3A6IDAuMCU7CiAgICAgICAgICAgICAgICB9CiAgICAgICAgICAgIDwvc3R5bGU+CiAgICAgICAgCjwvaGVhZD4KPGJvZHk+ICAgIAogICAgCiAgICAgICAgICAgIDxkaXYgY2xhc3M9ImZvbGl1bS1tYXAiIGlkPSJtYXBfMTM0NWQyNWEyMGZiNGI3Yjg1Njk2NTkxOTY5MmIxODgiID48L2Rpdj4KICAgICAgICAKPC9ib2R5Pgo8c2NyaXB0PiAgICAKICAgIAogICAgICAgICAgICB2YXIgbWFwXzEzNDVkMjVhMjBmYjRiN2I4NTY5NjU5MTk2OTJiMTg4ID0gTC5tYXAoCiAgICAgICAgICAgICAgICAibWFwXzEzNDVkMjVhMjBmYjRiN2I4NTY5NjU5MTk2OTJiMTg4IiwKICAgICAgICAgICAgICAgIHsKICAgICAgICAgICAgICAgICAgICBjZW50ZXI6IFstMTUuNzc2MjUsIC00Ny43OTY2MTldLAogICAgICAgICAgICAgICAgICAgIGNyczogTC5DUlMuRVBTRzM4NTcsCiAgICAgICAgICAgICAgICAgICAgem9vbTogNSwKICAgICAgICAgICAgICAgICAgICB6b29tQ29udHJvbDogdHJ1ZSwKICAgICAgICAgICAgICAgICAgICBwcmVmZXJDYW52YXM6IGZhbHNlLAogICAgICAgICAgICAgICAgfQogICAgICAgICAgICApOwoKICAgICAgICAgICAgCgogICAgICAgIAogICAgCiAgICAgICAgICAgIHZhciB0aWxlX2xheWVyXzRmMjNmOWQ4YmEwMDRiZjI5OTM0MzU3ZWMwNWRkZjkzID0gTC50aWxlTGF5ZXIoCiAgICAgICAgICAgICAgICAiaHR0cHM6Ly9jYXJ0b2RiLWJhc2VtYXBzLXtzfS5nbG9iYWwuc3NsLmZhc3RseS5uZXQvbGlnaHRfYWxsL3t6fS97eH0ve3l9LnBuZyIsCiAgICAgICAgICAgICAgICB7ImF0dHJpYnV0aW9uIjogIlx1MDAyNmNvcHk7IFx1MDAzY2EgaHJlZj1cImh0dHA6Ly93d3cub3BlbnN0cmVldG1hcC5vcmcvY29weXJpZ2h0XCJcdTAwM2VPcGVuU3RyZWV0TWFwXHUwMDNjL2FcdTAwM2UgY29udHJpYnV0b3JzIFx1MDAyNmNvcHk7IFx1MDAzY2EgaHJlZj1cImh0dHA6Ly9jYXJ0b2RiLmNvbS9hdHRyaWJ1dGlvbnNcIlx1MDAzZUNhcnRvREJcdTAwM2MvYVx1MDAzZSwgQ2FydG9EQiBcdTAwM2NhIGhyZWYgPVwiaHR0cDovL2NhcnRvZGIuY29tL2F0dHJpYnV0aW9uc1wiXHUwMDNlYXR0cmlidXRpb25zXHUwMDNjL2FcdTAwM2UiLCAiZGV0ZWN0UmV0aW5hIjogZmFsc2UsICJtYXhOYXRpdmVab29tIjogMTgsICJtYXhab29tIjogMTgsICJtaW5ab29tIjogMCwgIm5vV3JhcCI6IGZhbHNlLCAib3BhY2l0eSI6IDEsICJzdWJkb21haW5zIjogImFiYyIsICJ0bXMiOiBmYWxzZX0KICAgICAgICAgICAgKS5hZGRUbyhtYXBfMTM0NWQyNWEyMGZiNGI3Yjg1Njk2NTkxOTY5MmIxODgpOwogICAgICAgIAogICAgCiAgICAgICAgICAgIHZhciBtYXJrZXJfYTllNWI1Njk2NjgwNDZmYmExZTNkN2I5YTM5MTkzMTcgPSBMLm1hcmtlcigKICAgICAgICAgICAgICAgIFstOS4xMjg5MywgLTcwLjMwMTQ2XSwKICAgICAgICAgICAgICAgIHt9CiAgICAgICAgICAgICkuYWRkVG8obWFwXzEzNDVkMjVhMjBmYjRiN2I4NTY5NjU5MTk2OTJiMTg4KTsKICAgICAgICAKICAgIAogICAgICAgICAgICB2YXIgaWNvbl83MmUxMzg0OWFjMDc0ZDdhOWUxZWQzZTMzNDNhYmZjZSA9IEwuQXdlc29tZU1hcmtlcnMuaWNvbigKICAgICAgICAgICAgICAgIHsiZXh0cmFDbGFzc2VzIjogImZhLXJvdGF0ZS0wIiwgImljb24iOiAiaW5mby1zaWduIiwgImljb25Db2xvciI6ICJ3aGl0ZSIsICJtYXJrZXJDb2xvciI6ICJyZWQiLCAicHJlZml4IjogImdseXBoaWNvbiJ9CiAgICAgICAgICAgICk7CiAgICAgICAgICAgIG1hcmtlcl9hOWU1YjU2OTY2ODA0NmZiYTFlM2Q3YjlhMzkxOTMxNy5zZXRJY29uKGljb25fNzJlMTM4NDlhYzA3NGQ3YTllMWVkM2UzMzQzYWJmY2UpOwogICAgICAgIAogICAgCiAgICAgICAgdmFyIHBvcHVwXzNjZTRmNjYxZGExZDQ0MjY4OGMxOTk3N2YwOTZlNmI5ID0gTC5wb3B1cCh7Im1heFdpZHRoIjogIjEwMCUifSk7CgogICAgICAgIAogICAgICAgICAgICB2YXIgaHRtbF9lZDU1ZWFkOTM4MTk0OWU4YTJkMmYwZGI1ZGJjY2JlMiA9ICQoYDxkaXYgaWQ9Imh0bWxfZWQ1NWVhZDkzODE5NDllOGEyZDJmMGRiNWRiY2NiZTIiIHN0eWxlPSJ3aWR0aDogMTAwLjAlOyBoZWlnaHQ6IDEwMC4wJTsiPiAgICAgPGgyPkluZm9ybWF0aW9uPC9oMT4gICAgICAgICBTdGF0ZTogQWNyZTxicj4gICAgICAgICBDYXNlczogNzA8YnI+ICAgICAgICAgRGVhdGhzOiAyPGJyPiAgICAgPC9kaXY+YClbMF07CiAgICAgICAgICAgIHBvcHVwXzNjZTRmNjYxZGExZDQ0MjY4OGMxOTk3N2YwOTZlNmI5LnNldENvbnRlbnQoaHRtbF9lZDU1ZWFkOTM4MTk0OWU4YTJkMmYwZGI1ZGJjY2JlMik7CiAgICAgICAgCgogICAgICAgIG1hcmtlcl9hOWU1YjU2OTY2ODA0NmZiYTFlM2Q3YjlhMzkxOTMxNy5iaW5kUG9wdXAocG9wdXBfM2NlNGY2NjFkYTFkNDQyNjg4YzE5OTc3ZjA5NmU2YjkpCiAgICAgICAgOwoKICAgICAgICAKICAgIAogICAgCiAgICAgICAgICAgIG1hcmtlcl9hOWU1YjU2OTY2ODA0NmZiYTFlM2Q3YjlhMzkxOTMxNy5iaW5kVG9vbHRpcCgKICAgICAgICAgICAgICAgIGA8ZGl2PgogICAgICAgICAgICAgICAgICAgICBDb3ZpZC0xOSBJbmZvcm1hdGlvbgogICAgICAgICAgICAgICAgIDwvZGl2PmAsCiAgICAgICAgICAgICAgICB7InN0aWNreSI6IHRydWV9CiAgICAgICAgICAgICk7CiAgICAgICAgCiAgICAKICAgICAgICAgICAgdmFyIG1hcmtlcl84YzUzNWIzYzAwNTU0MjQ5YWJlNTNlNTgyZTE4MWJmZCA9IEwubWFya2VyKAogICAgICAgICAgICAgICAgWy05LjY3MjgzOCwgLTM2LjM3MjUwNl0sCiAgICAgICAgICAgICAgICB7fQogICAgICAgICAgICApLmFkZFRvKG1hcF8xMzQ1ZDI1YTIwZmI0YjdiODU2OTY1OTE5NjkyYjE4OCk7CiAgICAgICAgCiAgICAKICAgICAgICAgICAgdmFyIGljb25fMjE1NzJjMDcwMmFiNDkwNGE3NTM4MTFmMjhkODZkNWYgPSBMLkF3ZXNvbWVNYXJrZXJzLmljb24oCiAgICAgICAgICAgICAgICB7ImV4dHJhQ2xhc3NlcyI6ICJmYS1yb3RhdGUtMCIsICJpY29uIjogImluZm8tc2lnbiIsICJpY29uQ29sb3IiOiAid2hpdGUiLCAibWFya2VyQ29sb3IiOiAicmVkIiwgInByZWZpeCI6ICJnbHlwaGljb24ifQogICAgICAgICAgICApOwogICAgICAgICAgICBtYXJrZXJfOGM1MzViM2MwMDU1NDI0OWFiZTUzZTU4MmUxODFiZmQuc2V0SWNvbihpY29uXzIxNTcyYzA3MDJhYjQ5MDRhNzUzODExZjI4ZDg2ZDVmKTsKICAgICAgICAKICAgIAogICAgICAgIHZhciBwb3B1cF82NDZmNjZkNTQxYzE0ZDczYjMwMWNiYTljNzhmZjZiOCA9IEwucG9wdXAoeyJtYXhXaWR0aCI6ICIxMDAlIn0pOwoKICAgICAgICAKICAgICAgICAgICAgdmFyIGh0bWxfYTgzOTg0OTAxYzY0NGZhNTk3OTI3NmNjMTdjMDUxMDAgPSAkKGA8ZGl2IGlkPSJodG1sX2E4Mzk4NDkwMWM2NDRmYTU5NzkyNzZjYzE3YzA1MTAwIiBzdHlsZT0id2lkdGg6IDEwMC4wJTsgaGVpZ2h0OiAxMDAuMCU7Ij4gICAgIDxoMj5JbmZvcm1hdGlvbjwvaDE+ICAgICAgICAgU3RhdGU6IEFsYWdvYXM8YnI+ICAgICAgICAgQ2FzZXM6IDQ1PGJyPiAgICAgICAgIERlYXRoczogMzxicj4gICAgIDwvZGl2PmApWzBdOwogICAgICAgICAgICBwb3B1cF82NDZmNjZkNTQxYzE0ZDczYjMwMWNiYTljNzhmZjZiOC5zZXRDb250ZW50KGh0bWxfYTgzOTg0OTAxYzY0NGZhNTk3OTI3NmNjMTdjMDUxMDApOwogICAgICAgIAoKICAgICAgICBtYXJrZXJfOGM1MzViM2MwMDU1NDI0OWFiZTUzZTU4MmUxODFiZmQuYmluZFBvcHVwKHBvcHVwXzY0NmY2NmQ1NDFjMTRkNzNiMzAxY2JhOWM3OGZmNmI4KQogICAgICAgIDsKCiAgICAgICAgCiAgICAKICAgIAogICAgICAgICAgICBtYXJrZXJfOGM1MzViM2MwMDU1NDI0OWFiZTUzZTU4MmUxODFiZmQuYmluZFRvb2x0aXAoCiAgICAgICAgICAgICAgICBgPGRpdj4KICAgICAgICAgICAgICAgICAgICAgQ292aWQtMTkgSW5mb3JtYXRpb24KICAgICAgICAgICAgICAgICA8L2Rpdj5gLAogICAgICAgICAgICAgICAgeyJzdGlja3kiOiB0cnVlfQogICAgICAgICAgICApOwogICAgICAgIAogICAgCiAgICAgICAgICAgIHZhciBtYXJrZXJfYTkwY2I2MzY3MTA5NGJiMDljNGEwYzY2YzkwMmY4YWMgPSBMLm1hcmtlcigKICAgICAgICAgICAgICAgIFsyLjA1MTg5LCAtNTAuNzkxMzddLAogICAgICAgICAgICAgICAge30KICAgICAgICAgICAgKS5hZGRUbyhtYXBfMTM0NWQyNWEyMGZiNGI3Yjg1Njk2NTkxOTY5MmIxODgpOwogICAgICAgIAogICAgCiAgICAgICAgICAgIHZhciBpY29uX2EyMTBiNjU4MDYzNTQyOTU4NjRmMDk4NDI3NmQ3NDBiID0gTC5Bd2Vzb21lTWFya2Vycy5pY29uKAogICAgICAgICAgICAgICAgeyJleHRyYUNsYXNzZXMiOiAiZmEtcm90YXRlLTAiLCAiaWNvbiI6ICJpbmZvLXNpZ24iLCAiaWNvbkNvbG9yIjogIndoaXRlIiwgIm1hcmtlckNvbG9yIjogInJlZCIsICJwcmVmaXgiOiAiZ2x5cGhpY29uIn0KICAgICAgICAgICAgKTsKICAgICAgICAgICAgbWFya2VyX2E5MGNiNjM2NzEwOTRiYjA5YzRhMGM2NmM5MDJmOGFjLnNldEljb24oaWNvbl9hMjEwYjY1ODA2MzU0Mjk1ODY0ZjA5ODQyNzZkNzQwYik7CiAgICAgICAgCiAgICAKICAgICAgICB2YXIgcG9wdXBfYmZmYzc4MDQ1NzllNGNmZGI4MzVkN2EwZDdlOWY5MzQgPSBMLnBvcHVwKHsibWF4V2lkdGgiOiAiMTAwJSJ9KTsKCiAgICAgICAgCiAgICAgICAgICAgIHZhciBodG1sX2VhNDM0MjE5MDUwMTQ1ZTFiYzZmNGJkZDJhMTA2NzhlID0gJChgPGRpdiBpZD0iaHRtbF9lYTQzNDIxOTA1MDE0NWUxYmM2ZjRiZGQyYTEwNjc4ZSIgc3R5bGU9IndpZHRoOiAxMDAuMCU7IGhlaWdodDogMTAwLjAlOyI+ICAgICA8aDI+SW5mb3JtYXRpb248L2gxPiAgICAgICAgIFN0YXRlOiBBbWFww6E8YnI+ICAgICAgICAgQ2FzZXM6IDE2Njxicj4gICAgICAgICBEZWF0aHM6IDI8YnI+ICAgICA8L2Rpdj5gKVswXTsKICAgICAgICAgICAgcG9wdXBfYmZmYzc4MDQ1NzllNGNmZGI4MzVkN2EwZDdlOWY5MzQuc2V0Q29udGVudChodG1sX2VhNDM0MjE5MDUwMTQ1ZTFiYzZmNGJkZDJhMTA2NzhlKTsKICAgICAgICAKCiAgICAgICAgbWFya2VyX2E5MGNiNjM2NzEwOTRiYjA5YzRhMGM2NmM5MDJmOGFjLmJpbmRQb3B1cChwb3B1cF9iZmZjNzgwNDU3OWU0Y2ZkYjgzNWQ3YTBkN2U5ZjkzNCkKICAgICAgICA7CgogICAgICAgIAogICAgCiAgICAKICAgICAgICAgICAgbWFya2VyX2E5MGNiNjM2NzEwOTRiYjA5YzRhMGM2NmM5MDJmOGFjLmJpbmRUb29sdGlwKAogICAgICAgICAgICAgICAgYDxkaXY+CiAgICAgICAgICAgICAgICAgICAgIENvdmlkLTE5IEluZm9ybWF0aW9uCiAgICAgICAgICAgICAgICAgPC9kaXY+YCwKICAgICAgICAgICAgICAgIHsic3RpY2t5IjogdHJ1ZX0KICAgICAgICAgICAgKTsKICAgICAgICAKICAgIAogICAgICAgICAgICB2YXIgbWFya2VyX2UxNTE2NmJlZjllYTQ3ZGZhZTFmMDBhNjJmNmYwYTdkID0gTC5tYXJrZXIoCiAgICAgICAgICAgICAgICBbLTMuNDE2ODQzLCAtNjUuODU2MDY0XSwKICAgICAgICAgICAgICAgIHt9CiAgICAgICAgICAgICkuYWRkVG8obWFwXzEzNDVkMjVhMjBmYjRiN2I4NTY5NjU5MTk2OTJiMTg4KTsKICAgICAgICAKICAgIAogICAgICAgICAgICB2YXIgaWNvbl9hYWNmOWMwZDgyYmM0NDQ2ODhmOGY2NTFmM2ZjMTg4MCA9IEwuQXdlc29tZU1hcmtlcnMuaWNvbigKICAgICAgICAgICAgICAgIHsiZXh0cmFDbGFzc2VzIjogImZhLXJvdGF0ZS0wIiwgImljb24iOiAiaW5mby1zaWduIiwgImljb25Db2xvciI6ICJ3aGl0ZSIsICJtYXJrZXJDb2xvciI6ICJyZWQiLCAicHJlZml4IjogImdseXBoaWNvbiJ9CiAgICAgICAgICAgICk7CiAgICAgICAgICAgIG1hcmtlcl9lMTUxNjZiZWY5ZWE0N2RmYWUxZjAwYTYyZjZmMGE3ZC5zZXRJY29uKGljb25fYWFjZjljMGQ4MmJjNDQ0Njg4ZjhmNjUxZjNmYzE4ODApOwogICAgICAgIAogICAgCiAgICAgICAgdmFyIHBvcHVwXzkxZGIwMGI1MGVmZjQ1MmViNjljZjZhZTAxMjllMzcwID0gTC5wb3B1cCh7Im1heFdpZHRoIjogIjEwMCUifSk7CgogICAgICAgIAogICAgICAgICAgICB2YXIgaHRtbF80MTFmNmMyZTUwOTI0YjM0OGJlODk0ZmVjMzQ1YzZkMiA9ICQoYDxkaXYgaWQ9Imh0bWxfNDExZjZjMmU1MDkyNGIzNDhiZTg5NGZlYzM0NWM2ZDIiIHN0eWxlPSJ3aWR0aDogMTAwLjAlOyBoZWlnaHQ6IDEwMC4wJTsiPiAgICAgPGgyPkluZm9ybWF0aW9uPC9oMT4gICAgICAgICBTdGF0ZTogQW1hem9uYXM8YnI+ICAgICAgICAgQ2FzZXM6IDk4MTxicj4gICAgICAgICBEZWF0aHM6IDUwPGJyPiAgICAgPC9kaXY+YClbMF07CiAgICAgICAgICAgIHBvcHVwXzkxZGIwMGI1MGVmZjQ1MmViNjljZjZhZTAxMjllMzcwLnNldENvbnRlbnQoaHRtbF80MTFmNmMyZTUwOTI0YjM0OGJlODk0ZmVjMzQ1YzZkMik7CiAgICAgICAgCgogICAgICAgIG1hcmtlcl9lMTUxNjZiZWY5ZWE0N2RmYWUxZjAwYTYyZjZmMGE3ZC5iaW5kUG9wdXAocG9wdXBfOTFkYjAwYjUwZWZmNDUyZWI2OWNmNmFlMDEyOWUzNzApCiAgICAgICAgOwoKICAgICAgICAKICAgIAogICAgCiAgICAgICAgICAgIG1hcmtlcl9lMTUxNjZiZWY5ZWE0N2RmYWUxZjAwYTYyZjZmMGE3ZC5iaW5kVG9vbHRpcCgKICAgICAgICAgICAgICAgIGA8ZGl2PgogICAgICAgICAgICAgICAgICAgICBDb3ZpZC0xOSBJbmZvcm1hdGlvbgogICAgICAgICAgICAgICAgIDwvZGl2PmAsCiAgICAgICAgICAgICAgICB7InN0aWNreSI6IHRydWV9CiAgICAgICAgICAgICk7CiAgICAgICAgCiAgICAKICAgICAgICAgICAgdmFyIG1hcmtlcl8yNDg1MGFiYjdlNzg0OGM3YWY5ZmFiNTcwN2YzMzY4MCA9IEwubWFya2VyKAogICAgICAgICAgICAgICAgWy0xMi41MDY2ODYsIC0zOC4zNDM1NzddLAogICAgICAgICAgICAgICAge30KICAgICAgICAgICAgKS5hZGRUbyhtYXBfMTM0NWQyNWEyMGZiNGI3Yjg1Njk2NTkxOTY5MmIxODgpOwogICAgICAgIAogICAgCiAgICAgICAgICAgIHZhciBpY29uXzQ4ZGY0MTkyMjI2ZDQ1Y2ViZDVlNjI2YTdjYzhlYmU0ID0gTC5Bd2Vzb21lTWFya2Vycy5pY29uKAogICAgICAgICAgICAgICAgeyJleHRyYUNsYXNzZXMiOiAiZmEtcm90YXRlLTAiLCAiaWNvbiI6ICJpbmZvLXNpZ24iLCAiaWNvbkNvbG9yIjogIndoaXRlIiwgIm1hcmtlckNvbG9yIjogInJlZCIsICJwcmVmaXgiOiAiZ2x5cGhpY29uIn0KICAgICAgICAgICAgKTsKICAgICAgICAgICAgbWFya2VyXzI0ODUwYWJiN2U3ODQ4YzdhZjlmYWI1NzA3ZjMzNjgwLnNldEljb24oaWNvbl80OGRmNDE5MjIyNmQ0NWNlYmQ1ZTYyNmE3Y2M4ZWJlNCk7CiAgICAgICAgCiAgICAKICAgICAgICB2YXIgcG9wdXBfZjBhMzU3ODM3NmU3NDEzZThjYTAzYzUxYzQyYzhjNTUgPSBMLnBvcHVwKHsibWF4V2lkdGgiOiAiMTAwJSJ9KTsKCiAgICAgICAgCiAgICAgICAgICAgIHZhciBodG1sX2YzNDU1YTNiOThmMDQ5NTI4NTIzYzU0YmIyMmNlZmQyID0gJChgPGRpdiBpZD0iaHRtbF9mMzQ1NWEzYjk4ZjA0OTUyODUyM2M1NGJiMjJjZWZkMiIgc3R5bGU9IndpZHRoOiAxMDAuMCU7IGhlaWdodDogMTAwLjAlOyI+ICAgICA8aDI+SW5mb3JtYXRpb248L2gxPiAgICAgICAgIFN0YXRlOiBCYWhpYTxicj4gICAgICAgICBDYXNlczogNjA0PGJyPiAgICAgICAgIERlYXRoczogMTk8YnI+ICAgICA8L2Rpdj5gKVswXTsKICAgICAgICAgICAgcG9wdXBfZjBhMzU3ODM3NmU3NDEzZThjYTAzYzUxYzQyYzhjNTUuc2V0Q29udGVudChodG1sX2YzNDU1YTNiOThmMDQ5NTI4NTIzYzU0YmIyMmNlZmQyKTsKICAgICAgICAKCiAgICAgICAgbWFya2VyXzI0ODUwYWJiN2U3ODQ4YzdhZjlmYWI1NzA3ZjMzNjgwLmJpbmRQb3B1cChwb3B1cF9mMGEzNTc4Mzc2ZTc0MTNlOGNhMDNjNTFjNDJjOGM1NSkKICAgICAgICA7CgogICAgICAgIAogICAgCiAgICAKICAgICAgICAgICAgbWFya2VyXzI0ODUwYWJiN2U3ODQ4YzdhZjlmYWI1NzA3ZjMzNjgwLmJpbmRUb29sdGlwKAogICAgICAgICAgICAgICAgYDxkaXY+CiAgICAgICAgICAgICAgICAgICAgIENvdmlkLTE5IEluZm9ybWF0aW9uCiAgICAgICAgICAgICAgICAgPC9kaXY+YCwKICAgICAgICAgICAgICAgIHsic3RpY2t5IjogdHJ1ZX0KICAgICAgICAgICAgKTsKICAgICAgICAKICAgIAogICAgICAgICAgICB2YXIgbWFya2VyXzMwOWJiM2Y5MDAzNTRlNTJiZjgwZTViOGQ0ODEzNGI3ID0gTC5tYXJrZXIoCiAgICAgICAgICAgICAgICBbLTMuOTMxODQ0LCAtMzguNjQ3ODY3XSwKICAgICAgICAgICAgICAgIHt9CiAgICAgICAgICAgICkuYWRkVG8obWFwXzEzNDVkMjVhMjBmYjRiN2I4NTY5NjU5MTk2OTJiMTg4KTsKICAgICAgICAKICAgIAogICAgICAgICAgICB2YXIgaWNvbl84M2Y2ODcyYzg5ZDQ0MjIyYjlmNzczMTg5ZjdlYzgwZCA9IEwuQXdlc29tZU1hcmtlcnMuaWNvbigKICAgICAgICAgICAgICAgIHsiZXh0cmFDbGFzc2VzIjogImZhLXJvdGF0ZS0wIiwgImljb24iOiAiaW5mby1zaWduIiwgImljb25Db2xvciI6ICJ3aGl0ZSIsICJtYXJrZXJDb2xvciI6ICJyZWQiLCAicHJlZml4IjogImdseXBoaWNvbiJ9CiAgICAgICAgICAgICk7CiAgICAgICAgICAgIG1hcmtlcl8zMDliYjNmOTAwMzU0ZTUyYmY4MGU1YjhkNDgxMzRiNy5zZXRJY29uKGljb25fODNmNjg3MmM4OWQ0NDIyMmI5Zjc3MzE4OWY3ZWM4MGQpOwogICAgICAgIAogICAgCiAgICAgICAgdmFyIHBvcHVwX2U3YjdhNWMyZDNhNTRiZmE5MDk0NTQ5NzY1YjU4MGQ4ID0gTC5wb3B1cCh7Im1heFdpZHRoIjogIjEwMCUifSk7CgogICAgICAgIAogICAgICAgICAgICB2YXIgaHRtbF9lMGQ4ZGQyN2ZlYzU0NzM0YmZmM2VjNWQwZGE3MGNlOCA9ICQoYDxkaXYgaWQ9Imh0bWxfZTBkOGRkMjdmZWM1NDczNGJmZjNlYzVkMGRhNzBjZTgiIHN0eWxlPSJ3aWR0aDogMTAwLjAlOyBoZWlnaHQ6IDEwMC4wJTsiPiAgICAgPGgyPkluZm9ybWF0aW9uPC9oMT4gICAgICAgICBTdGF0ZTogQ2VhcsOhPGJyPiAgICAgICAgIENhc2VzOiAxNDc4PGJyPiAgICAgICAgIERlYXRoczogNTg8YnI+ICAgICA8L2Rpdj5gKVswXTsKICAgICAgICAgICAgcG9wdXBfZTdiN2E1YzJkM2E1NGJmYTkwOTQ1NDk3NjViNTgwZDguc2V0Q29udGVudChodG1sX2UwZDhkZDI3ZmVjNTQ3MzRiZmYzZWM1ZDBkYTcwY2U4KTsKICAgICAgICAKCiAgICAgICAgbWFya2VyXzMwOWJiM2Y5MDAzNTRlNTJiZjgwZTViOGQ0ODEzNGI3LmJpbmRQb3B1cChwb3B1cF9lN2I3YTVjMmQzYTU0YmZhOTA5NDU0OTc2NWI1ODBkOCkKICAgICAgICA7CgogICAgICAgIAogICAgCiAgICAKICAgICAgICAgICAgbWFya2VyXzMwOWJiM2Y5MDAzNTRlNTJiZjgwZTViOGQ0ODEzNGI3LmJpbmRUb29sdGlwKAogICAgICAgICAgICAgICAgYDxkaXY+CiAgICAgICAgICAgICAgICAgICAgIENvdmlkLTE5IEluZm9ybWF0aW9uCiAgICAgICAgICAgICAgICAgPC9kaXY+YCwKICAgICAgICAgICAgICAgIHsic3RpY2t5IjogdHJ1ZX0KICAgICAgICAgICAgKTsKICAgICAgICAKICAgIAogICAgICAgICAgICB2YXIgbWFya2VyXzA5Mjk0ZWJiMDA4NzQ4ODM5NmRmYTljMjExZGNlMmU4ID0gTC5tYXJrZXIoCiAgICAgICAgICAgICAgICBbLTE1Ljc3NjI1LCAtNDcuNzk2NjE5XSwKICAgICAgICAgICAgICAgIHt9CiAgICAgICAgICAgICkuYWRkVG8obWFwXzEzNDVkMjVhMjBmYjRiN2I4NTY5NjU5MTk2OTJiMTg4KTsKICAgICAgICAKICAgIAogICAgICAgICAgICB2YXIgaWNvbl8zNGQ1NjQ1YTJiMjI0ZTgwYTg0NTQzMmMzYzUzY2FkMCA9IEwuQXdlc29tZU1hcmtlcnMuaWNvbigKICAgICAgICAgICAgICAgIHsiZXh0cmFDbGFzc2VzIjogImZhLXJvdGF0ZS0wIiwgImljb24iOiAiaW5mby1zaWduIiwgImljb25Db2xvciI6ICJ3aGl0ZSIsICJtYXJrZXJDb2xvciI6ICJyZWQiLCAicHJlZml4IjogImdseXBoaWNvbiJ9CiAgICAgICAgICAgICk7CiAgICAgICAgICAgIG1hcmtlcl8wOTI5NGViYjAwODc0ODgzOTZkZmE5YzIxMWRjZTJlOC5zZXRJY29uKGljb25fMzRkNTY0NWEyYjIyNGU4MGE4NDU0MzJjM2M1M2NhZDApOwogICAgICAgIAogICAgCiAgICAgICAgdmFyIHBvcHVwXzNjOWUwNjNlZTQwZjRlYzI5OTZlOTQ3ZjYyMGIwODBjID0gTC5wb3B1cCh7Im1heFdpZHRoIjogIjEwMCUifSk7CgogICAgICAgIAogICAgICAgICAgICB2YXIgaHRtbF9jZjQzMGIwNzcwNTE0YTQ4YTc0ZDJlYTFiZDZiNGE0OCA9ICQoYDxkaXYgaWQ9Imh0bWxfY2Y0MzBiMDc3MDUxNGE0OGE3NGQyZWExYmQ2YjRhNDgiIHN0eWxlPSJ3aWR0aDogMTAwLjAlOyBoZWlnaHQ6IDEwMC4wJTsiPiAgICAgPGgyPkluZm9ybWF0aW9uPC9oMT4gICAgICAgICBTdGF0ZTogRGlzdHJpdG8gRmVkZXJhbDxicj4gICAgICAgICBDYXNlczogNTU1PGJyPiAgICAgICAgIERlYXRoczogMTQ8YnI+ICAgICA8L2Rpdj5gKVswXTsKICAgICAgICAgICAgcG9wdXBfM2M5ZTA2M2VlNDBmNGVjMjk5NmU5NDdmNjIwYjA4MGMuc2V0Q29udGVudChodG1sX2NmNDMwYjA3NzA1MTRhNDhhNzRkMmVhMWJkNmI0YTQ4KTsKICAgICAgICAKCiAgICAgICAgbWFya2VyXzA5Mjk0ZWJiMDA4NzQ4ODM5NmRmYTljMjExZGNlMmU4LmJpbmRQb3B1cChwb3B1cF8zYzllMDYzZWU0MGY0ZWMyOTk2ZTk0N2Y2MjBiMDgwYykKICAgICAgICA7CgogICAgICAgIAogICAgCiAgICAKICAgICAgICAgICAgbWFya2VyXzA5Mjk0ZWJiMDA4NzQ4ODM5NmRmYTljMjExZGNlMmU4LmJpbmRUb29sdGlwKAogICAgICAgICAgICAgICAgYDxkaXY+CiAgICAgICAgICAgICAgICAgICAgIENvdmlkLTE5IEluZm9ybWF0aW9uCiAgICAgICAgICAgICAgICAgPC9kaXY+YCwKICAgICAgICAgICAgICAgIHsic3RpY2t5IjogdHJ1ZX0KICAgICAgICAgICAgKTsKICAgICAgICAKICAgIAogICAgICAgICAgICB2YXIgbWFya2VyXzdlYjFmZGMxYTk2MDRmZDA4ZDNhZGE4YTZkMzdlN2VhID0gTC5tYXJrZXIoCiAgICAgICAgICAgICAgICBbLTE5LjE4MzQyMiwgLTQwLjMwODg2NV0sCiAgICAgICAgICAgICAgICB7fQogICAgICAgICAgICApLmFkZFRvKG1hcF8xMzQ1ZDI1YTIwZmI0YjdiODU2OTY1OTE5NjkyYjE4OCk7CiAgICAgICAgCiAgICAKICAgICAgICAgICAgdmFyIGljb25fNGY1NzY2OWI3MDQ2NDllZWI1Yzg0NTIwNjYxMmRkODggPSBMLkF3ZXNvbWVNYXJrZXJzLmljb24oCiAgICAgICAgICAgICAgICB7ImV4dHJhQ2xhc3NlcyI6ICJmYS1yb3RhdGUtMCIsICJpY29uIjogImluZm8tc2lnbiIsICJpY29uQ29sb3IiOiAid2hpdGUiLCAibWFya2VyQ29sb3IiOiAicmVkIiwgInByZWZpeCI6ICJnbHlwaGljb24ifQogICAgICAgICAgICApOwogICAgICAgICAgICBtYXJrZXJfN2ViMWZkYzFhOTYwNGZkMDhkM2FkYThhNmQzN2U3ZWEuc2V0SWNvbihpY29uXzRmNTc2NjliNzA0NjQ5ZWViNWM4NDUyMDY2MTJkZDg4KTsKICAgICAgICAKICAgIAogICAgICAgIHZhciBwb3B1cF8xYzdjODRkZDExNTg0ZGE3OTE2MDgwOTEyZTdkYjhjNiA9IEwucG9wdXAoeyJtYXhXaWR0aCI6ICIxMDAlIn0pOwoKICAgICAgICAKICAgICAgICAgICAgdmFyIGh0bWxfOWRjODhlMWM3NGY4NDVhOTk5ZGQ5Mzg2MjA3OTFmZWYgPSAkKGA8ZGl2IGlkPSJodG1sXzlkYzg4ZTFjNzRmODQ1YTk5OWRkOTM4NjIwNzkxZmVmIiBzdHlsZT0id2lkdGg6IDEwMC4wJTsgaGVpZ2h0OiAxMDAuMCU7Ij4gICAgIDxoMj5JbmZvcm1hdGlvbjwvaDE+ICAgICAgICAgU3RhdGU6IEVzcMOtcml0byBTYW50bzxicj4gICAgICAgICBDYXNlczogMzAwPGJyPiAgICAgICAgIERlYXRoczogNzxicj4gICAgIDwvZGl2PmApWzBdOwogICAgICAgICAgICBwb3B1cF8xYzdjODRkZDExNTg0ZGE3OTE2MDgwOTEyZTdkYjhjNi5zZXRDb250ZW50KGh0bWxfOWRjODhlMWM3NGY4NDVhOTk5ZGQ5Mzg2MjA3OTFmZWYpOwogICAgICAgIAoKICAgICAgICBtYXJrZXJfN2ViMWZkYzFhOTYwNGZkMDhkM2FkYThhNmQzN2U3ZWEuYmluZFBvcHVwKHBvcHVwXzFjN2M4NGRkMTE1ODRkYTc5MTYwODA5MTJlN2RiOGM2KQogICAgICAgIDsKCiAgICAgICAgCiAgICAKICAgIAogICAgICAgICAgICBtYXJrZXJfN2ViMWZkYzFhOTYwNGZkMDhkM2FkYThhNmQzN2U3ZWEuYmluZFRvb2x0aXAoCiAgICAgICAgICAgICAgICBgPGRpdj4KICAgICAgICAgICAgICAgICAgICAgQ292aWQtMTkgSW5mb3JtYXRpb24KICAgICAgICAgICAgICAgICA8L2Rpdj5gLAogICAgICAgICAgICAgICAgeyJzdGlja3kiOiB0cnVlfQogICAgICAgICAgICApOwogICAgICAgIAogICAgCiAgICAgICAgICAgIHZhciBtYXJrZXJfZmFmMTNmNGZkMjg0NDkyODg5YmU2NTMyOGYwMDc2MzggPSBMLm1hcmtlcigKICAgICAgICAgICAgICAgIFstMTUuODI3MDM3LCAtNDkuODM2MjI0XSwKICAgICAgICAgICAgICAgIHt9CiAgICAgICAgICAgICkuYWRkVG8obWFwXzEzNDVkMjVhMjBmYjRiN2I4NTY5NjU5MTk2OTJiMTg4KTsKICAgICAgICAKICAgIAogICAgICAgICAgICB2YXIgaWNvbl9mNzUyMjFlZGZkOGE0Zjc1YmEwOTQ2N2Q5MmQ2ODVhNyA9IEwuQXdlc29tZU1hcmtlcnMuaWNvbigKICAgICAgICAgICAgICAgIHsiZXh0cmFDbGFzc2VzIjogImZhLXJvdGF0ZS0wIiwgImljb24iOiAiaW5mby1zaWduIiwgImljb25Db2xvciI6ICJ3aGl0ZSIsICJtYXJrZXJDb2xvciI6ICJyZWQiLCAicHJlZml4IjogImdseXBoaWNvbiJ9CiAgICAgICAgICAgICk7CiAgICAgICAgICAgIG1hcmtlcl9mYWYxM2Y0ZmQyODQ0OTI4ODliZTY1MzI4ZjAwNzYzOC5zZXRJY29uKGljb25fZjc1MjIxZWRmZDhhNGY3NWJhMDk0NjdkOTJkNjg1YTcpOwogICAgICAgIAogICAgCiAgICAgICAgdmFyIHBvcHVwXzRhZGE5ODExZGQxNDRiYjdhN2Q2NGUzM2IxZGZkNDU4ID0gTC5wb3B1cCh7Im1heFdpZHRoIjogIjEwMCUifSk7CgogICAgICAgIAogICAgICAgICAgICB2YXIgaHRtbF8wN2ZkMmI1NWFiNDA0NTBlOWY1NmU2YzAyZjgxYmI5MiA9ICQoYDxkaXYgaWQ9Imh0bWxfMDdmZDJiNTVhYjQwNDUwZTlmNTZlNmMwMmY4MWJiOTIiIHN0eWxlPSJ3aWR0aDogMTAwLjAlOyBoZWlnaHQ6IDEwMC4wJTsiPiAgICAgPGgyPkluZm9ybWF0aW9uPC9oMT4gICAgICAgICBTdGF0ZTogR29pw6FzPGJyPiAgICAgICAgIENhc2VzOiAxOTE8YnI+ICAgICAgICAgRGVhdGhzOiA4PGJyPiAgICAgPC9kaXY+YClbMF07CiAgICAgICAgICAgIHBvcHVwXzRhZGE5ODExZGQxNDRiYjdhN2Q2NGUzM2IxZGZkNDU4LnNldENvbnRlbnQoaHRtbF8wN2ZkMmI1NWFiNDA0NTBlOWY1NmU2YzAyZjgxYmI5Mik7CiAgICAgICAgCgogICAgICAgIG1hcmtlcl9mYWYxM2Y0ZmQyODQ0OTI4ODliZTY1MzI4ZjAwNzYzOC5iaW5kUG9wdXAocG9wdXBfNGFkYTk4MTFkZDE0NGJiN2E3ZDY0ZTMzYjFkZmQ0NTgpCiAgICAgICAgOwoKICAgICAgICAKICAgIAogICAgCiAgICAgICAgICAgIG1hcmtlcl9mYWYxM2Y0ZmQyODQ0OTI4ODliZTY1MzI4ZjAwNzYzOC5iaW5kVG9vbHRpcCgKICAgICAgICAgICAgICAgIGA8ZGl2PgogICAgICAgICAgICAgICAgICAgICBDb3ZpZC0xOSBJbmZvcm1hdGlvbgogICAgICAgICAgICAgICAgIDwvZGl2PmAsCiAgICAgICAgICAgICAgICB7InN0aWNreSI6IHRydWV9CiAgICAgICAgICAgICk7CiAgICAgICAgCiAgICAKICAgICAgICAgICAgdmFyIG1hcmtlcl83YjM0MDZhMTk4NGI0N2YzYmY5YWRlMjhmZjllZGZmMyA9IEwubWFya2VyKAogICAgICAgICAgICAgICAgWy01LjcwMzQ0OCwgLTQ1LjMzODM4OF0sCiAgICAgICAgICAgICAgICB7fQogICAgICAgICAgICApLmFkZFRvKG1hcF8xMzQ1ZDI1YTIwZmI0YjdiODU2OTY1OTE5NjkyYjE4OCk7CiAgICAgICAgCiAgICAKICAgICAgICAgICAgdmFyIGljb25fZTg0MzQ4NmIyNjgyNDRmMGJiOTZkZGRjZDg3YTdmZWMgPSBMLkF3ZXNvbWVNYXJrZXJzLmljb24oCiAgICAgICAgICAgICAgICB7ImV4dHJhQ2xhc3NlcyI6ICJmYS1yb3RhdGUtMCIsICJpY29uIjogImluZm8tc2lnbiIsICJpY29uQ29sb3IiOiAid2hpdGUiLCAibWFya2VyQ29sb3IiOiAicmVkIiwgInByZWZpeCI6ICJnbHlwaGljb24ifQogICAgICAgICAgICApOwogICAgICAgICAgICBtYXJrZXJfN2IzNDA2YTE5ODRiNDdmM2JmOWFkZTI4ZmY5ZWRmZjMuc2V0SWNvbihpY29uX2U4NDM0ODZiMjY4MjQ0ZjBiYjk2ZGRkY2Q4N2E3ZmVjKTsKICAgICAgICAKICAgIAogICAgICAgIHZhciBwb3B1cF83ZmY3NzQ1MjNjZWE0MmZiODRlMTQyOGI5MTNjNjdlYyA9IEwucG9wdXAoeyJtYXhXaWR0aCI6ICIxMDAlIn0pOwoKICAgICAgICAKICAgICAgICAgICAgdmFyIGh0bWxfYTJlMmU1NWQxOWJhNGM3YjkwNDZmODBmMzhkZmRhODMgPSAkKGA8ZGl2IGlkPSJodG1sX2EyZTJlNTVkMTliYTRjN2I5MDQ2ZjgwZjM4ZGZkYTgzIiBzdHlsZT0id2lkdGg6IDEwMC4wJTsgaGVpZ2h0OiAxMDAuMCU7Ij4gICAgIDxoMj5JbmZvcm1hdGlvbjwvaDE+ICAgICAgICAgU3RhdGU6IE1hcmFuaMOjbzxicj4gICAgICAgICBDYXNlczogMjkzPGJyPiAgICAgICAgIERlYXRoczogMTY8YnI+ICAgICA8L2Rpdj5gKVswXTsKICAgICAgICAgICAgcG9wdXBfN2ZmNzc0NTIzY2VhNDJmYjg0ZTE0MjhiOTEzYzY3ZWMuc2V0Q29udGVudChodG1sX2EyZTJlNTVkMTliYTRjN2I5MDQ2ZjgwZjM4ZGZkYTgzKTsKICAgICAgICAKCiAgICAgICAgbWFya2VyXzdiMzQwNmExOTg0YjQ3ZjNiZjlhZGUyOGZmOWVkZmYzLmJpbmRQb3B1cChwb3B1cF83ZmY3NzQ1MjNjZWE0MmZiODRlMTQyOGI5MTNjNjdlYykKICAgICAgICA7CgogICAgICAgIAogICAgCiAgICAKICAgICAgICAgICAgbWFya2VyXzdiMzQwNmExOTg0YjQ3ZjNiZjlhZGUyOGZmOWVkZmYzLmJpbmRUb29sdGlwKAogICAgICAgICAgICAgICAgYDxkaXY+CiAgICAgICAgICAgICAgICAgICAgIENvdmlkLTE5IEluZm9ybWF0aW9uCiAgICAgICAgICAgICAgICAgPC9kaXY+YCwKICAgICAgICAgICAgICAgIHsic3RpY2t5IjogdHJ1ZX0KICAgICAgICAgICAgKTsKICAgICAgICAKICAgIAogICAgICAgICAgICB2YXIgbWFya2VyXzIzYzA2YmMxOTAwYzQ0ZGViNGE5MWQ5NTQ3MThhMmY0ID0gTC5tYXJrZXIoCiAgICAgICAgICAgICAgICBbLTEyLjY4MTg3MSwgLTU2LjkyMTEwMV0sCiAgICAgICAgICAgICAgICB7fQogICAgICAgICAgICApLmFkZFRvKG1hcF8xMzQ1ZDI1YTIwZmI0YjdiODU2OTY1OTE5NjkyYjE4OCk7CiAgICAgICAgCiAgICAKICAgICAgICAgICAgdmFyIGljb25fZWQzNGU0NmNhYmIyNGEwNGI0Yjk2NWY3ZjdhYmU4MGUgPSBMLkF3ZXNvbWVNYXJrZXJzLmljb24oCiAgICAgICAgICAgICAgICB7ImV4dHJhQ2xhc3NlcyI6ICJmYS1yb3RhdGUtMCIsICJpY29uIjogImluZm8tc2lnbiIsICJpY29uQ29sb3IiOiAid2hpdGUiLCAibWFya2VyQ29sb3IiOiAicmVkIiwgInByZWZpeCI6ICJnbHlwaGljb24ifQogICAgICAgICAgICApOwogICAgICAgICAgICBtYXJrZXJfMjNjMDZiYzE5MDBjNDRkZWI0YTkxZDk1NDcxOGEyZjQuc2V0SWNvbihpY29uX2VkMzRlNDZjYWJiMjRhMDRiNGI5NjVmN2Y3YWJlODBlKTsKICAgICAgICAKICAgIAogICAgICAgIHZhciBwb3B1cF9iOTcyNmU4YzhkNDk0NDVhYjdhMTQ3ZmJiZWY0YWFmMyA9IEwucG9wdXAoeyJtYXhXaWR0aCI6ICIxMDAlIn0pOwoKICAgICAgICAKICAgICAgICAgICAgdmFyIGh0bWxfNGQzNjkxZWUyYzU1NDgwNjlmM2NmOTY3MzFiZmZlZmEgPSAkKGA8ZGl2IGlkPSJodG1sXzRkMzY5MWVlMmM1NTQ4MDY5ZjNjZjk2NzMxYmZmZWZhIiBzdHlsZT0id2lkdGg6IDEwMC4wJTsgaGVpZ2h0OiAxMDAuMCU7Ij4gICAgIDxoMj5JbmZvcm1hdGlvbjwvaDE+ICAgICAgICAgU3RhdGU6IE1hdG8gR3Jvc3NvPGJyPiAgICAgICAgIENhc2VzOiAxMTI8YnI+ICAgICAgICAgRGVhdGhzOiAyPGJyPiAgICAgPC9kaXY+YClbMF07CiAgICAgICAgICAgIHBvcHVwX2I5NzI2ZThjOGQ0OTQ0NWFiN2ExNDdmYmJlZjRhYWYzLnNldENvbnRlbnQoaHRtbF80ZDM2OTFlZTJjNTU0ODA2OWYzY2Y5NjczMWJmZmVmYSk7CiAgICAgICAgCgogICAgICAgIG1hcmtlcl8yM2MwNmJjMTkwMGM0NGRlYjRhOTFkOTU0NzE4YTJmNC5iaW5kUG9wdXAocG9wdXBfYjk3MjZlOGM4ZDQ5NDQ1YWI3YTE0N2ZiYmVmNGFhZjMpCiAgICAgICAgOwoKICAgICAgICAKICAgIAogICAgCiAgICAgICAgICAgIG1hcmtlcl8yM2MwNmJjMTkwMGM0NGRlYjRhOTFkOTU0NzE4YTJmNC5iaW5kVG9vbHRpcCgKICAgICAgICAgICAgICAgIGA8ZGl2PgogICAgICAgICAgICAgICAgICAgICBDb3ZpZC0xOSBJbmZvcm1hdGlvbgogICAgICAgICAgICAgICAgIDwvZGl2PmAsCiAgICAgICAgICAgICAgICB7InN0aWNreSI6IHRydWV9CiAgICAgICAgICAgICk7CiAgICAgICAgCiAgICAKICAgICAgICAgICAgdmFyIG1hcmtlcl8xZTk3MWMyNGMyOTA0Nzk1OTE3OGQwOTUxMjY2NGVhYyA9IEwubWFya2VyKAogICAgICAgICAgICAgICAgWy0yMC42MTgxNywgLTU0LjU0NTkyMV0sCiAgICAgICAgICAgICAgICB7fQogICAgICAgICAgICApLmFkZFRvKG1hcF8xMzQ1ZDI1YTIwZmI0YjdiODU2OTY1OTE5NjkyYjE4OCk7CiAgICAgICAgCiAgICAKICAgICAgICAgICAgdmFyIGljb25fZTYyNzhhY2IyMDAzNDhjOGJhYjlhYmNlMzM3NDk0MzYgPSBMLkF3ZXNvbWVNYXJrZXJzLmljb24oCiAgICAgICAgICAgICAgICB7ImV4dHJhQ2xhc3NlcyI6ICJmYS1yb3RhdGUtMCIsICJpY29uIjogImluZm8tc2lnbiIsICJpY29uQ29sb3IiOiAid2hpdGUiLCAibWFya2VyQ29sb3IiOiAicmVkIiwgInByZWZpeCI6ICJnbHlwaGljb24ifQogICAgICAgICAgICApOwogICAgICAgICAgICBtYXJrZXJfMWU5NzFjMjRjMjkwNDc5NTkxNzhkMDk1MTI2NjRlYWMuc2V0SWNvbihpY29uX2U2Mjc4YWNiMjAwMzQ4YzhiYWI5YWJjZTMzNzQ5NDM2KTsKICAgICAgICAKICAgIAogICAgICAgIHZhciBwb3B1cF9iNWM4OWNlZmE2NTE0MjJjOTZhZjMwZTcwNGVlMGY1NSA9IEwucG9wdXAoeyJtYXhXaWR0aCI6ICIxMDAlIn0pOwoKICAgICAgICAKICAgICAgICAgICAgdmFyIGh0bWxfMmFmZjc0NmI1ZGJhNDAyOGIwOTA5MmI3ZWEwN2Q2YjkgPSAkKGA8ZGl2IGlkPSJodG1sXzJhZmY3NDZiNWRiYTQwMjhiMDkwOTJiN2VhMDdkNmI5IiBzdHlsZT0id2lkdGg6IDEwMC4wJTsgaGVpZ2h0OiAxMDAuMCU7Ij4gICAgIDxoMj5JbmZvcm1hdGlvbjwvaDE+ICAgICAgICAgU3RhdGU6IE1hdG8gR3Jvc3NvIGRvIFN1bDxicj4gICAgICAgICBDYXNlczogOTc8YnI+ICAgICAgICAgRGVhdGhzOiAyPGJyPiAgICAgPC9kaXY+YClbMF07CiAgICAgICAgICAgIHBvcHVwX2I1Yzg5Y2VmYTY1MTQyMmM5NmFmMzBlNzA0ZWUwZjU1LnNldENvbnRlbnQoaHRtbF8yYWZmNzQ2YjVkYmE0MDI4YjA5MDkyYjdlYTA3ZDZiOSk7CiAgICAgICAgCgogICAgICAgIG1hcmtlcl8xZTk3MWMyNGMyOTA0Nzk1OTE3OGQwOTUxMjY2NGVhYy5iaW5kUG9wdXAocG9wdXBfYjVjODljZWZhNjUxNDIyYzk2YWYzMGU3MDRlZTBmNTUpCiAgICAgICAgOwoKICAgICAgICAKICAgIAogICAgCiAgICAgICAgICAgIG1hcmtlcl8xZTk3MWMyNGMyOTA0Nzk1OTE3OGQwOTUxMjY2NGVhYy5iaW5kVG9vbHRpcCgKICAgICAgICAgICAgICAgIGA8ZGl2PgogICAgICAgICAgICAgICAgICAgICBDb3ZpZC0xOSBJbmZvcm1hdGlvbgogICAgICAgICAgICAgICAgIDwvZGl2PmAsCiAgICAgICAgICAgICAgICB7InN0aWNreSI6IHRydWV9CiAgICAgICAgICAgICk7CiAgICAgICAgCiAgICAKICAgICAgICAgICAgdmFyIG1hcmtlcl80ZTc5ZDlkNTY2ZWM0OWQ0OGM0ZTM2OTJmOTg4MmE2MyA9IEwubWFya2VyKAogICAgICAgICAgICAgICAgWy0xOC41MTIxNzgsIC00NC41NTUwMzFdLAogICAgICAgICAgICAgICAge30KICAgICAgICAgICAgKS5hZGRUbyhtYXBfMTM0NWQyNWEyMGZiNGI3Yjg1Njk2NTkxOTY5MmIxODgpOwogICAgICAgIAogICAgCiAgICAgICAgICAgIHZhciBpY29uX2UzZjY2YjU2NzMyMTQyODhhNWViMTg5OWM5ZGMwZWY1ID0gTC5Bd2Vzb21lTWFya2Vycy5pY29uKAogICAgICAgICAgICAgICAgeyJleHRyYUNsYXNzZXMiOiAiZmEtcm90YXRlLTAiLCAiaWNvbiI6ICJpbmZvLXNpZ24iLCAiaWNvbkNvbG9yIjogIndoaXRlIiwgIm1hcmtlckNvbG9yIjogInJlZCIsICJwcmVmaXgiOiAiZ2x5cGhpY29uIn0KICAgICAgICAgICAgKTsKICAgICAgICAgICAgbWFya2VyXzRlNzlkOWQ1NjZlYzQ5ZDQ4YzRlMzY5MmY5ODgyYTYzLnNldEljb24oaWNvbl9lM2Y2NmI1NjczMjE0Mjg4YTVlYjE4OTljOWRjMGVmNSk7CiAgICAgICAgCiAgICAKICAgICAgICB2YXIgcG9wdXBfMTJjY2ZjZDdiMzMzNGQzYmEyZTE1ZGYyNGM3NDZmN2YgPSBMLnBvcHVwKHsibWF4V2lkdGgiOiAiMTAwJSJ9KTsKCiAgICAgICAgCiAgICAgICAgICAgIHZhciBodG1sX2Q1OGVkZmM3M2RiYzQ0MDhiZmE5ZWFlN2VkZjY5NzM1ID0gJChgPGRpdiBpZD0iaHRtbF9kNThlZGZjNzNkYmM0NDA4YmZhOWVhZTdlZGY2OTczNSIgc3R5bGU9IndpZHRoOiAxMDAuMCU7IGhlaWdodDogMTAwLjAlOyI+ICAgICA8aDI+SW5mb3JtYXRpb248L2gxPiAgICAgICAgIFN0YXRlOiBNaW5hcyBHZXJhaXM8YnI+ICAgICAgICAgQ2FzZXM6IDY5ODxicj4gICAgICAgICBEZWF0aHM6IDE3PGJyPiAgICAgPC9kaXY+YClbMF07CiAgICAgICAgICAgIHBvcHVwXzEyY2NmY2Q3YjMzMzRkM2JhMmUxNWRmMjRjNzQ2ZjdmLnNldENvbnRlbnQoaHRtbF9kNThlZGZjNzNkYmM0NDA4YmZhOWVhZTdlZGY2OTczNSk7CiAgICAgICAgCgogICAgICAgIG1hcmtlcl80ZTc5ZDlkNTY2ZWM0OWQ0OGM0ZTM2OTJmOTg4MmE2My5iaW5kUG9wdXAocG9wdXBfMTJjY2ZjZDdiMzMzNGQzYmEyZTE1ZGYyNGM3NDZmN2YpCiAgICAgICAgOwoKICAgICAgICAKICAgIAogICAgCiAgICAgICAgICAgIG1hcmtlcl80ZTc5ZDlkNTY2ZWM0OWQ0OGM0ZTM2OTJmOTg4MmE2My5iaW5kVG9vbHRpcCgKICAgICAgICAgICAgICAgIGA8ZGl2PgogICAgICAgICAgICAgICAgICAgICBDb3ZpZC0xOSBJbmZvcm1hdGlvbgogICAgICAgICAgICAgICAgIDwvZGl2PmAsCiAgICAgICAgICAgICAgICB7InN0aWNreSI6IHRydWV9CiAgICAgICAgICAgICk7CiAgICAgICAgCiAgICAKICAgICAgICAgICAgdmFyIG1hcmtlcl82MGZmN2FhNGY2MDM0ZDczYTNhMzcwYzc3OGUxNjQxYyA9IEwubWFya2VyKAogICAgICAgICAgICAgICAgWy0yNS4yNTIwODksIC01Mi4wMjE1NDJdLAogICAgICAgICAgICAgICAge30KICAgICAgICAgICAgKS5hZGRUbyhtYXBfMTM0NWQyNWEyMGZiNGI3Yjg1Njk2NTkxOTY5MmIxODgpOwogICAgICAgIAogICAgCiAgICAgICAgICAgIHZhciBpY29uXzc1YjBiZWI5YWM2MzQzMGZhMmVkMTFlNDQ1MzE5M2I2ID0gTC5Bd2Vzb21lTWFya2Vycy5pY29uKAogICAgICAgICAgICAgICAgeyJleHRyYUNsYXNzZXMiOiAiZmEtcm90YXRlLTAiLCAiaWNvbiI6ICJpbmZvLXNpZ24iLCAiaWNvbkNvbG9yIjogIndoaXRlIiwgIm1hcmtlckNvbG9yIjogInJlZCIsICJwcmVmaXgiOiAiZ2x5cGhpY29uIn0KICAgICAgICAgICAgKTsKICAgICAgICAgICAgbWFya2VyXzYwZmY3YWE0ZjYwMzRkNzNhM2EzNzBjNzc4ZTE2NDFjLnNldEljb24oaWNvbl83NWIwYmViOWFjNjM0MzBmYTJlZDExZTQ0NTMxOTNiNik7CiAgICAgICAgCiAgICAKICAgICAgICB2YXIgcG9wdXBfYzVjOGM0MDZhMDY4NGFkOGFlODU5Njg4MmEyZWNlOTYgPSBMLnBvcHVwKHsibWF4V2lkdGgiOiAiMTAwJSJ9KTsKCiAgICAgICAgCiAgICAgICAgICAgIHZhciBodG1sXzM1OGZjMmNiNzk1YzQxNTg4YWFmODcwOTlkODQ3MmFmID0gJChgPGRpdiBpZD0iaHRtbF8zNThmYzJjYjc5NWM0MTU4OGFhZjg3MDk5ZDg0NzJhZiIgc3R5bGU9IndpZHRoOiAxMDAuMCU7IGhlaWdodDogMTAwLjAlOyI+ICAgICA8aDI+SW5mb3JtYXRpb248L2gxPiAgICAgICAgIFN0YXRlOiBQYXJhbsOhPGJyPiAgICAgICAgIENhc2VzOiA2NDM8YnI+ICAgICAgICAgRGVhdGhzOiAyNTxicj4gICAgIDwvZGl2PmApWzBdOwogICAgICAgICAgICBwb3B1cF9jNWM4YzQwNmEwNjg0YWQ4YWU4NTk2ODgyYTJlY2U5Ni5zZXRDb250ZW50KGh0bWxfMzU4ZmMyY2I3OTVjNDE1ODhhYWY4NzA5OWQ4NDcyYWYpOwogICAgICAgIAoKICAgICAgICBtYXJrZXJfNjBmZjdhYTRmNjAzNGQ3M2EzYTM3MGM3NzhlMTY0MWMuYmluZFBvcHVwKHBvcHVwX2M1YzhjNDA2YTA2ODRhZDhhZTg1OTY4ODJhMmVjZTk2KQogICAgICAgIDsKCiAgICAgICAgCiAgICAKICAgIAogICAgICAgICAgICBtYXJrZXJfNjBmZjdhYTRmNjAzNGQ3M2EzYTM3MGM3NzhlMTY0MWMuYmluZFRvb2x0aXAoCiAgICAgICAgICAgICAgICBgPGRpdj4KICAgICAgICAgICAgICAgICAgICAgQ292aWQtMTkgSW5mb3JtYXRpb24KICAgICAgICAgICAgICAgICA8L2Rpdj5gLAogICAgICAgICAgICAgICAgeyJzdGlja3kiOiB0cnVlfQogICAgICAgICAgICApOwogICAgICAgIAogICAgCiAgICAgICAgICAgIHZhciBtYXJrZXJfY2RkMGI0MDZiMDU5NDNjODllYjIxMDM2ZDczZTk1MDcgPSBMLm1hcmtlcigKICAgICAgICAgICAgICAgIFstNy4yMzk5NjEsIC0zNi43ODE5NTJdLAogICAgICAgICAgICAgICAge30KICAgICAgICAgICAgKS5hZGRUbyhtYXBfMTM0NWQyNWEyMGZiNGI3Yjg1Njk2NTkxOTY5MmIxODgpOwogICAgICAgIAogICAgCiAgICAgICAgICAgIHZhciBpY29uXzcyZGJmZGYzNTE2NTRjZWE4MDU2NGJlMDM4ZWFhM2UzID0gTC5Bd2Vzb21lTWFya2Vycy5pY29uKAogICAgICAgICAgICAgICAgeyJleHRyYUNsYXNzZXMiOiAiZmEtcm90YXRlLTAiLCAiaWNvbiI6ICJpbmZvLXNpZ24iLCAiaWNvbkNvbG9yIjogIndoaXRlIiwgIm1hcmtlckNvbG9yIjogInJlZCIsICJwcmVmaXgiOiAiZ2x5cGhpY29uIn0KICAgICAgICAgICAgKTsKICAgICAgICAgICAgbWFya2VyX2NkZDBiNDA2YjA1OTQzYzg5ZWIyMTAzNmQ3M2U5NTA3LnNldEljb24oaWNvbl83MmRiZmRmMzUxNjU0Y2VhODA1NjRiZTAzOGVhYTNlMyk7CiAgICAgICAgCiAgICAKICAgICAgICB2YXIgcG9wdXBfZTEwNzEyZGM4MmQwNDgxYWJkM2Y0MjJjMzY3OTBjOWMgPSBMLnBvcHVwKHsibWF4V2lkdGgiOiAiMTAwJSJ9KTsKCiAgICAgICAgCiAgICAgICAgICAgIHZhciBodG1sXzI0MDhlMzcxY2QxMDQ0MDhiZmRmM2I5NGVkMDA3NzJmID0gJChgPGRpdiBpZD0iaHRtbF8yNDA4ZTM3MWNkMTA0NDA4YmZkZjNiOTRlZDAwNzcyZiIgc3R5bGU9IndpZHRoOiAxMDAuMCU7IGhlaWdodDogMTAwLjAlOyI+ICAgICA8aDI+SW5mb3JtYXRpb248L2gxPiAgICAgICAgIFN0YXRlOiBQYXJhw61iYTxicj4gICAgICAgICBDYXNlczogNzk8YnI+ICAgICAgICAgRGVhdGhzOiAxMTxicj4gICAgIDwvZGl2PmApWzBdOwogICAgICAgICAgICBwb3B1cF9lMTA3MTJkYzgyZDA0ODFhYmQzZjQyMmMzNjc5MGM5Yy5zZXRDb250ZW50KGh0bWxfMjQwOGUzNzFjZDEwNDQwOGJmZGYzYjk0ZWQwMDc3MmYpOwogICAgICAgIAoKICAgICAgICBtYXJrZXJfY2RkMGI0MDZiMDU5NDNjODllYjIxMDM2ZDczZTk1MDcuYmluZFBvcHVwKHBvcHVwX2UxMDcxMmRjODJkMDQ4MWFiZDNmNDIyYzM2NzkwYzljKQogICAgICAgIDsKCiAgICAgICAgCiAgICAKICAgIAogICAgICAgICAgICBtYXJrZXJfY2RkMGI0MDZiMDU5NDNjODllYjIxMDM2ZDczZTk1MDcuYmluZFRvb2x0aXAoCiAgICAgICAgICAgICAgICBgPGRpdj4KICAgICAgICAgICAgICAgICAgICAgQ292aWQtMTkgSW5mb3JtYXRpb24KICAgICAgICAgICAgICAgICA8L2Rpdj5gLAogICAgICAgICAgICAgICAgeyJzdGlja3kiOiB0cnVlfQogICAgICAgICAgICApOwogICAgICAgIAogICAgCiAgICAgICAgICAgIHZhciBtYXJrZXJfYzBjNjZlOTY2YjFiNGE2ZDkxZDI3MWRlNGJmOGZjOWQgPSBMLm1hcmtlcigKICAgICAgICAgICAgICAgIFstNS4xMjU5ODksIC01Mi4zMTkyMTFdLAogICAgICAgICAgICAgICAge30KICAgICAgICAgICAgKS5hZGRUbyhtYXBfMTM0NWQyNWEyMGZiNGI3Yjg1Njk2NTkxOTY5MmIxODgpOwogICAgICAgIAogICAgCiAgICAgICAgICAgIHZhciBpY29uXzM2YTQ5MGFkOTIwYjQ3ZTU5OWE1ZTc4OGEwMGM2ZGEzID0gTC5Bd2Vzb21lTWFya2Vycy5pY29uKAogICAgICAgICAgICAgICAgeyJleHRyYUNsYXNzZXMiOiAiZmEtcm90YXRlLTAiLCAiaWNvbiI6ICJpbmZvLXNpZ24iLCAiaWNvbkNvbG9yIjogIndoaXRlIiwgIm1hcmtlckNvbG9yIjogInJlZCIsICJwcmVmaXgiOiAiZ2x5cGhpY29uIn0KICAgICAgICAgICAgKTsKICAgICAgICAgICAgbWFya2VyX2MwYzY2ZTk2NmIxYjRhNmQ5MWQyNzFkZTRiZjhmYzlkLnNldEljb24oaWNvbl8zNmE0OTBhZDkyMGI0N2U1OTlhNWU3ODhhMDBjNmRhMyk7CiAgICAgICAgCiAgICAKICAgICAgICB2YXIgcG9wdXBfZTZiZjBhYzU5M2NmNDEyZWFhYzQ1N2Q5Zjk2Mzg0NTkgPSBMLnBvcHVwKHsibWF4V2lkdGgiOiAiMTAwJSJ9KTsKCiAgICAgICAgCiAgICAgICAgICAgIHZhciBodG1sX2MwMjA0MmU0ZjEwNjRmOGViNDE2ZjMzMzlhM2E5ZDY2ID0gJChgPGRpdiBpZD0iaHRtbF9jMDIwNDJlNGYxMDY0ZjhlYjQxNmYzMzM5YTNhOWQ2NiIgc3R5bGU9IndpZHRoOiAxMDAuMCU7IGhlaWdodDogMTAwLjAlOyI+ICAgICA8aDI+SW5mb3JtYXRpb248L2gxPiAgICAgICAgIFN0YXRlOiBQYXLDoTxicj4gICAgICAgICBDYXNlczogMTcwPGJyPiAgICAgICAgIERlYXRoczogOTxicj4gICAgIDwvZGl2PmApWzBdOwogICAgICAgICAgICBwb3B1cF9lNmJmMGFjNTkzY2Y0MTJlYWFjNDU3ZDlmOTYzODQ1OS5zZXRDb250ZW50KGh0bWxfYzAyMDQyZTRmMTA2NGY4ZWI0MTZmMzMzOWEzYTlkNjYpOwogICAgICAgIAoKICAgICAgICBtYXJrZXJfYzBjNjZlOTY2YjFiNGE2ZDkxZDI3MWRlNGJmOGZjOWQuYmluZFBvcHVwKHBvcHVwX2U2YmYwYWM1OTNjZjQxMmVhYWM0NTdkOWY5NjM4NDU5KQogICAgICAgIDsKCiAgICAgICAgCiAgICAKICAgIAogICAgICAgICAgICBtYXJrZXJfYzBjNjZlOTY2YjFiNGE2ZDkxZDI3MWRlNGJmOGZjOWQuYmluZFRvb2x0aXAoCiAgICAgICAgICAgICAgICBgPGRpdj4KICAgICAgICAgICAgICAgICAgICAgQ292aWQtMTkgSW5mb3JtYXRpb24KICAgICAgICAgICAgICAgICA8L2Rpdj5gLAogICAgICAgICAgICAgICAgeyJzdGlja3kiOiB0cnVlfQogICAgICAgICAgICApOwogICAgICAgIAogICAgCiAgICAgICAgICAgIHZhciBtYXJrZXJfNmJlOTc2YmY5NWQzNGYwNThkZDI3YzczZDI3YmI0ZmUgPSBMLm1hcmtlcigKICAgICAgICAgICAgICAgIFstOC44MTM3MTcsIC0zNi45NTQxMDVdLAogICAgICAgICAgICAgICAge30KICAgICAgICAgICAgKS5hZGRUbyhtYXBfMTM0NWQyNWEyMGZiNGI3Yjg1Njk2NTkxOTY5MmIxODgpOwogICAgICAgIAogICAgCiAgICAgICAgICAgIHZhciBpY29uXzMyZGU1YmZkNWRjYzRiMjViOTQ1M2M0Y2FhOGE0NjA3ID0gTC5Bd2Vzb21lTWFya2Vycy5pY29uKAogICAgICAgICAgICAgICAgeyJleHRyYUNsYXNzZXMiOiAiZmEtcm90YXRlLTAiLCAiaWNvbiI6ICJpbmZvLXNpZ24iLCAiaWNvbkNvbG9yIjogIndoaXRlIiwgIm1hcmtlckNvbG9yIjogInJlZCIsICJwcmVmaXgiOiAiZ2x5cGhpY29uIn0KICAgICAgICAgICAgKTsKICAgICAgICAgICAgbWFya2VyXzZiZTk3NmJmOTVkMzRmMDU4ZGQyN2M3M2QyN2JiNGZlLnNldEljb24oaWNvbl8zMmRlNWJmZDVkY2M0YjI1Yjk0NTNjNGNhYThhNDYwNyk7CiAgICAgICAgCiAgICAKICAgICAgICB2YXIgcG9wdXBfZjAxZGEwNWFhNWRlNGQwNGI1NWZiNTg3Nzc0NzUyNmUgPSBMLnBvcHVwKHsibWF4V2lkdGgiOiAiMTAwJSJ9KTsKCiAgICAgICAgCiAgICAgICAgICAgIHZhciBodG1sXzdmMmRjYmIwMDhlZTQ1OTc4NjczNjc1MjQwZjA3MDFjID0gJChgPGRpdiBpZD0iaHRtbF83ZjJkY2JiMDA4ZWU0NTk3ODY3MzY3NTI0MGYwNzAxYyIgc3R5bGU9IndpZHRoOiAxMDAuMCU7IGhlaWdodDogMTAwLjAlOyI+ICAgICA8aDI+SW5mb3JtYXRpb248L2gxPiAgICAgICAgIFN0YXRlOiBQZXJuYW1idWNvPGJyPiAgICAgICAgIENhc2VzOiA2ODQ8YnI+ICAgICAgICAgRGVhdGhzOiA2NTxicj4gICAgIDwvZGl2PmApWzBdOwogICAgICAgICAgICBwb3B1cF9mMDFkYTA1YWE1ZGU0ZDA0YjU1ZmI1ODc3NzQ3NTI2ZS5zZXRDb250ZW50KGh0bWxfN2YyZGNiYjAwOGVlNDU5Nzg2NzM2NzUyNDBmMDcwMWMpOwogICAgICAgIAoKICAgICAgICBtYXJrZXJfNmJlOTc2YmY5NWQzNGYwNThkZDI3YzczZDI3YmI0ZmUuYmluZFBvcHVwKHBvcHVwX2YwMWRhMDVhYTVkZTRkMDRiNTVmYjU4Nzc3NDc1MjZlKQogICAgICAgIDsKCiAgICAgICAgCiAgICAKICAgIAogICAgICAgICAgICBtYXJrZXJfNmJlOTc2YmY5NWQzNGYwNThkZDI3YzczZDI3YmI0ZmUuYmluZFRvb2x0aXAoCiAgICAgICAgICAgICAgICBgPGRpdj4KICAgICAgICAgICAgICAgICAgICAgQ292aWQtMTkgSW5mb3JtYXRpb24KICAgICAgICAgICAgICAgICA8L2Rpdj5gLAogICAgICAgICAgICAgICAgeyJzdGlja3kiOiB0cnVlfQogICAgICAgICAgICApOwogICAgICAgIAogICAgCiAgICAgICAgICAgIHZhciBtYXJrZXJfNzQ4NmFjNDM5ZTJkNGVjNThkOWU5OGE2NDBlMzRkYjYgPSBMLm1hcmtlcigKICAgICAgICAgICAgICAgIFstNi40MDI3MSwgLTQxLjczNjU5MV0sCiAgICAgICAgICAgICAgICB7fQogICAgICAgICAgICApLmFkZFRvKG1hcF8xMzQ1ZDI1YTIwZmI0YjdiODU2OTY1OTE5NjkyYjE4OCk7CiAgICAgICAgCiAgICAKICAgICAgICAgICAgdmFyIGljb25fMTExNDQ1Njk3OTA2NGUyOGE3NDNkZDhiNTIwZjBkMGUgPSBMLkF3ZXNvbWVNYXJrZXJzLmljb24oCiAgICAgICAgICAgICAgICB7ImV4dHJhQ2xhc3NlcyI6ICJmYS1yb3RhdGUtMCIsICJpY29uIjogImluZm8tc2lnbiIsICJpY29uQ29sb3IiOiAid2hpdGUiLCAibWFya2VyQ29sb3IiOiAicmVkIiwgInByZWZpeCI6ICJnbHlwaGljb24ifQogICAgICAgICAgICApOwogICAgICAgICAgICBtYXJrZXJfNzQ4NmFjNDM5ZTJkNGVjNThkOWU5OGE2NDBlMzRkYjYuc2V0SWNvbihpY29uXzExMTQ0NTY5NzkwNjRlMjhhNzQzZGQ4YjUyMGYwZDBlKTsKICAgICAgICAKICAgIAogICAgICAgIHZhciBwb3B1cF8wNGRkMjg4Yzc0M2M0ZGY2OWY4OWRmNWQxNjIwNGZiZSA9IEwucG9wdXAoeyJtYXhXaWR0aCI6ICIxMDAlIn0pOwoKICAgICAgICAKICAgICAgICAgICAgdmFyIGh0bWxfNjVlZWE2MGMwMDk0NDVkYTg1MTcyNjA4OTFhZmFkNjIgPSAkKGA8ZGl2IGlkPSJodG1sXzY1ZWVhNjBjMDA5NDQ1ZGE4NTE3MjYwODkxYWZhZDYyIiBzdHlsZT0id2lkdGg6IDEwMC4wJTsgaGVpZ2h0OiAxMDAuMCU7Ij4gICAgIDxoMj5JbmZvcm1hdGlvbjwvaDE+ICAgICAgICAgU3RhdGU6IFBpYXXDrTxicj4gICAgICAgICBDYXNlczogNDA8YnI+ICAgICAgICAgRGVhdGhzOiA3PGJyPiAgICAgPC9kaXY+YClbMF07CiAgICAgICAgICAgIHBvcHVwXzA0ZGQyODhjNzQzYzRkZjY5Zjg5ZGY1ZDE2MjA0ZmJlLnNldENvbnRlbnQoaHRtbF82NWVlYTYwYzAwOTQ0NWRhODUxNzI2MDg5MWFmYWQ2Mik7CiAgICAgICAgCgogICAgICAgIG1hcmtlcl83NDg2YWM0MzllMmQ0ZWM1OGQ5ZTk4YTY0MGUzNGRiNi5iaW5kUG9wdXAocG9wdXBfMDRkZDI4OGM3NDNjNGRmNjlmODlkZjVkMTYyMDRmYmUpCiAgICAgICAgOwoKICAgICAgICAKICAgIAogICAgCiAgICAgICAgICAgIG1hcmtlcl83NDg2YWM0MzllMmQ0ZWM1OGQ5ZTk4YTY0MGUzNGRiNi5iaW5kVG9vbHRpcCgKICAgICAgICAgICAgICAgIGA8ZGl2PgogICAgICAgICAgICAgICAgICAgICBDb3ZpZC0xOSBJbmZvcm1hdGlvbgogICAgICAgICAgICAgICAgIDwvZGl2PmAsCiAgICAgICAgICAgICAgICB7InN0aWNreSI6IHRydWV9CiAgICAgICAgICAgICk7CiAgICAgICAgCiAgICAKICAgICAgICAgICAgdmFyIG1hcmtlcl9lM2EyZGQzNjAxN2Q0ZDY3OTEyYjliMzIwMWIyZjViNiA9IEwubWFya2VyKAogICAgICAgICAgICAgICAgWy01LjQxNzM4LCAtMzYuMTk1NzddLAogICAgICAgICAgICAgICAge30KICAgICAgICAgICAgKS5hZGRUbyhtYXBfMTM0NWQyNWEyMGZiNGI3Yjg1Njk2NTkxOTY5MmIxODgpOwogICAgICAgIAogICAgCiAgICAgICAgICAgIHZhciBpY29uX2JjZjJhMzBlMTU5ZTQwYjE4ZmY4OTQwMWZjM2NmMmJlID0gTC5Bd2Vzb21lTWFya2Vycy5pY29uKAogICAgICAgICAgICAgICAgeyJleHRyYUNsYXNzZXMiOiAiZmEtcm90YXRlLTAiLCAiaWNvbiI6ICJpbmZvLXNpZ24iLCAiaWNvbkNvbG9yIjogIndoaXRlIiwgIm1hcmtlckNvbG9yIjogInJlZCIsICJwcmVmaXgiOiAiZ2x5cGhpY29uIn0KICAgICAgICAgICAgKTsKICAgICAgICAgICAgbWFya2VyX2UzYTJkZDM2MDE3ZDRkNjc5MTJiOWIzMjAxYjJmNWI2LnNldEljb24oaWNvbl9iY2YyYTMwZTE1OWU0MGIxOGZmODk0MDFmYzNjZjJiZSk7CiAgICAgICAgCiAgICAKICAgICAgICB2YXIgcG9wdXBfYzkzZGY1YTZiYmExNDUxNTg4ZDE0ZjgwOGQwNTIwMzEgPSBMLnBvcHVwKHsibWF4V2lkdGgiOiAiMTAwJSJ9KTsKCiAgICAgICAgCiAgICAgICAgICAgIHZhciBodG1sXzIxNGEwNmM1M2ZlZDQ0Y2ViMjU5MGNmN2E3OWViMTA0ID0gJChgPGRpdiBpZD0iaHRtbF8yMTRhMDZjNTNmZWQ0NGNlYjI1OTBjZjdhNzllYjEwNCIgc3R5bGU9IndpZHRoOiAxMDAuMCU7IGhlaWdodDogMTAwLjAlOyI+ICAgICA8aDI+SW5mb3JtYXRpb248L2gxPiAgICAgICAgIFN0YXRlOiBSaW8gR3JhbmRlIGRvIE5vcnRlPGJyPiAgICAgICAgIENhc2VzOiAyNjM8YnI+ICAgICAgICAgRGVhdGhzOiAxMTxicj4gICAgIDwvZGl2PmApWzBdOwogICAgICAgICAgICBwb3B1cF9jOTNkZjVhNmJiYTE0NTE1ODhkMTRmODA4ZDA1MjAzMS5zZXRDb250ZW50KGh0bWxfMjE0YTA2YzUzZmVkNDRjZWIyNTkwY2Y3YTc5ZWIxMDQpOwogICAgICAgIAoKICAgICAgICBtYXJrZXJfZTNhMmRkMzYwMTdkNGQ2NzkxMmI5YjMyMDFiMmY1YjYuYmluZFBvcHVwKHBvcHVwX2M5M2RmNWE2YmJhMTQ1MTU4OGQxNGY4MDhkMDUyMDMxKQogICAgICAgIDsKCiAgICAgICAgCiAgICAKICAgIAogICAgICAgICAgICBtYXJrZXJfZTNhMmRkMzYwMTdkNGQ2NzkxMmI5YjMyMDFiMmY1YjYuYmluZFRvb2x0aXAoCiAgICAgICAgICAgICAgICBgPGRpdj4KICAgICAgICAgICAgICAgICAgICAgQ292aWQtMTkgSW5mb3JtYXRpb24KICAgICAgICAgICAgICAgICA8L2Rpdj5gLAogICAgICAgICAgICAgICAgeyJzdGlja3kiOiB0cnVlfQogICAgICAgICAgICApOwogICAgICAgIAogICAgCiAgICAgICAgICAgIHZhciBtYXJrZXJfZmExODVhZDY2MjdjNGRiZWJjZDAzYjMxMGJlYjY0NTMgPSBMLm1hcmtlcigKICAgICAgICAgICAgICAgIFstMjkuMTY3MzkxLCAtNTEuMTgwMDYxXSwKICAgICAgICAgICAgICAgIHt9CiAgICAgICAgICAgICkuYWRkVG8obWFwXzEzNDVkMjVhMjBmYjRiN2I4NTY5NjU5MTk2OTJiMTg4KTsKICAgICAgICAKICAgIAogICAgICAgICAgICB2YXIgaWNvbl8zMzY4NDc2YzhkZDY0N2VmODQ5YmJkNmUxYzRlM2Q0YyA9IEwuQXdlc29tZU1hcmtlcnMuaWNvbigKICAgICAgICAgICAgICAgIHsiZXh0cmFDbGFzc2VzIjogImZhLXJvdGF0ZS0wIiwgImljb24iOiAiaW5mby1zaWduIiwgImljb25Db2xvciI6ICJ3aGl0ZSIsICJtYXJrZXJDb2xvciI6ICJyZWQiLCAicHJlZml4IjogImdseXBoaWNvbiJ9CiAgICAgICAgICAgICk7CiAgICAgICAgICAgIG1hcmtlcl9mYTE4NWFkNjYyN2M0ZGJlYmNkMDNiMzEwYmViNjQ1My5zZXRJY29uKGljb25fMzM2ODQ3NmM4ZGQ2NDdlZjg0OWJiZDZlMWM0ZTNkNGMpOwogICAgICAgIAogICAgCiAgICAgICAgdmFyIHBvcHVwXzhhNWY2YmIwN2RlZDQyY2Q4N2IwZWZlY2NlMjZiNTk3ID0gTC5wb3B1cCh7Im1heFdpZHRoIjogIjEwMCUifSk7CgogICAgICAgIAogICAgICAgICAgICB2YXIgaHRtbF80ZTFiYjg3NmRmNmE0MWJiYjczNTk0MjVjZjQxZTQyMSA9ICQoYDxkaXYgaWQ9Imh0bWxfNGUxYmI4NzZkZjZhNDFiYmI3MzU5NDI1Y2Y0MWU0MjEiIHN0eWxlPSJ3aWR0aDogMTAwLjAlOyBoZWlnaHQ6IDEwMC4wJTsiPiAgICAgPGgyPkluZm9ybWF0aW9uPC9oMT4gICAgICAgICBTdGF0ZTogUmlvIEdyYW5kZSBkbyBTdWw8YnI+ICAgICAgICAgQ2FzZXM6IDYzNjxicj4gICAgICAgICBEZWF0aHM6IDE0PGJyPiAgICAgPC9kaXY+YClbMF07CiAgICAgICAgICAgIHBvcHVwXzhhNWY2YmIwN2RlZDQyY2Q4N2IwZWZlY2NlMjZiNTk3LnNldENvbnRlbnQoaHRtbF80ZTFiYjg3NmRmNmE0MWJiYjczNTk0MjVjZjQxZTQyMSk7CiAgICAgICAgCgogICAgICAgIG1hcmtlcl9mYTE4NWFkNjYyN2M0ZGJlYmNkMDNiMzEwYmViNjQ1My5iaW5kUG9wdXAocG9wdXBfOGE1ZjZiYjA3ZGVkNDJjZDg3YjBlZmVjY2UyNmI1OTcpCiAgICAgICAgOwoKICAgICAgICAKICAgIAogICAgCiAgICAgICAgICAgIG1hcmtlcl9mYTE4NWFkNjYyN2M0ZGJlYmNkMDNiMzEwYmViNjQ1My5iaW5kVG9vbHRpcCgKICAgICAgICAgICAgICAgIGA8ZGl2PgogICAgICAgICAgICAgICAgICAgICBDb3ZpZC0xOSBJbmZvcm1hdGlvbgogICAgICAgICAgICAgICAgIDwvZGl2PmAsCiAgICAgICAgICAgICAgICB7InN0aWNreSI6IHRydWV9CiAgICAgICAgICAgICk7CiAgICAgICAgCiAgICAKICAgICAgICAgICAgdmFyIG1hcmtlcl9mNzQ1YzZkNjlmMmM0OTBlYTQ2ZjhhNDRkOTEyYzc5MiA9IEwubWFya2VyKAogICAgICAgICAgICAgICAgWy0yMi45MzkxMDYsIC00My40MDU3OV0sCiAgICAgICAgICAgICAgICB7fQogICAgICAgICAgICApLmFkZFRvKG1hcF8xMzQ1ZDI1YTIwZmI0YjdiODU2OTY1OTE5NjkyYjE4OCk7CiAgICAgICAgCiAgICAKICAgICAgICAgICAgdmFyIGljb25fZDZkYjk4MTM3MmVlNGZjNWIxNGE4ZDQxZDA4MDI4YTEgPSBMLkF3ZXNvbWVNYXJrZXJzLmljb24oCiAgICAgICAgICAgICAgICB7ImV4dHJhQ2xhc3NlcyI6ICJmYS1yb3RhdGUtMCIsICJpY29uIjogImluZm8tc2lnbiIsICJpY29uQ29sb3IiOiAid2hpdGUiLCAibWFya2VyQ29sb3IiOiAicmVkIiwgInByZWZpeCI6ICJnbHlwaGljb24ifQogICAgICAgICAgICApOwogICAgICAgICAgICBtYXJrZXJfZjc0NWM2ZDY5ZjJjNDkwZWE0NmY4YTQ0ZDkxMmM3OTIuc2V0SWNvbihpY29uX2Q2ZGI5ODEzNzJlZTRmYzViMTRhOGQ0MWQwODAyOGExKTsKICAgICAgICAKICAgIAogICAgICAgIHZhciBwb3B1cF85MGY4NWNhYWE3MjI0NWJiYjUwYTE0ZWEyOTcyZWZiZCA9IEwucG9wdXAoeyJtYXhXaWR0aCI6ICIxMDAlIn0pOwoKICAgICAgICAKICAgICAgICAgICAgdmFyIGh0bWxfYTlmYjkwMWQyMDExNDJmMDhmOGU4NzExNTZjN2U4NzAgPSAkKGA8ZGl2IGlkPSJodG1sX2E5ZmI5MDFkMjAxMTQyZjA4ZjhlODcxMTU2YzdlODcwIiBzdHlsZT0id2lkdGg6IDEwMC4wJTsgaGVpZ2h0OiAxMDAuMCU7Ij4gICAgIDxoMj5JbmZvcm1hdGlvbjwvaDE+ICAgICAgICAgU3RhdGU6IFJpbyBkZSBKYW5laXJvPGJyPiAgICAgICAgIENhc2VzOiAyNDY0PGJyPiAgICAgICAgIERlYXRoczogMTQ3PGJyPiAgICAgPC9kaXY+YClbMF07CiAgICAgICAgICAgIHBvcHVwXzkwZjg1Y2FhYTcyMjQ1YmJiNTBhMTRlYTI5NzJlZmJkLnNldENvbnRlbnQoaHRtbF9hOWZiOTAxZDIwMTE0MmYwOGY4ZTg3MTE1NmM3ZTg3MCk7CiAgICAgICAgCgogICAgICAgIG1hcmtlcl9mNzQ1YzZkNjlmMmM0OTBlYTQ2ZjhhNDRkOTEyYzc5Mi5iaW5kUG9wdXAocG9wdXBfOTBmODVjYWFhNzIyNDViYmI1MGExNGVhMjk3MmVmYmQpCiAgICAgICAgOwoKICAgICAgICAKICAgIAogICAgCiAgICAgICAgICAgIG1hcmtlcl9mNzQ1YzZkNjlmMmM0OTBlYTQ2ZjhhNDRkOTEyYzc5Mi5iaW5kVG9vbHRpcCgKICAgICAgICAgICAgICAgIGA8ZGl2PgogICAgICAgICAgICAgICAgICAgICBDb3ZpZC0xOSBJbmZvcm1hdGlvbgogICAgICAgICAgICAgICAgIDwvZGl2PmAsCiAgICAgICAgICAgICAgICB7InN0aWNreSI6IHRydWV9CiAgICAgICAgICAgICk7CiAgICAgICAgCiAgICAKICAgICAgICAgICAgdmFyIG1hcmtlcl84MDRkMWI1YmU5YTE0ZDllYTU3Y2U0MzM3ZjM0MDk3OSA9IEwubWFya2VyKAogICAgICAgICAgICAgICAgWy0xMS44MzEzMSwgLTYxLjMxOTY5OF0sCiAgICAgICAgICAgICAgICB7fQogICAgICAgICAgICApLmFkZFRvKG1hcF8xMzQ1ZDI1YTIwZmI0YjdiODU2OTY1OTE5NjkyYjE4OCk7CiAgICAgICAgCiAgICAKICAgICAgICAgICAgdmFyIGljb25fNDQ0ZjdlYjljYmMyNDBmYThmMTZjNTgxODA3YjJhYTYgPSBMLkF3ZXNvbWVNYXJrZXJzLmljb24oCiAgICAgICAgICAgICAgICB7ImV4dHJhQ2xhc3NlcyI6ICJmYS1yb3RhdGUtMCIsICJpY29uIjogImluZm8tc2lnbiIsICJpY29uQ29sb3IiOiAid2hpdGUiLCAibWFya2VyQ29sb3IiOiAicmVkIiwgInByZWZpeCI6ICJnbHlwaGljb24ifQogICAgICAgICAgICApOwogICAgICAgICAgICBtYXJrZXJfODA0ZDFiNWJlOWExNGQ5ZWE1N2NlNDMzN2YzNDA5Nzkuc2V0SWNvbihpY29uXzQ0NGY3ZWI5Y2JjMjQwZmE4ZjE2YzU4MTgwN2IyYWE2KTsKICAgICAgICAKICAgIAogICAgICAgIHZhciBwb3B1cF9kZWM2MTYzMTM0MDM0YjM5ODZhNGM3MWFkZjY0MmRlNyA9IEwucG9wdXAoeyJtYXhXaWR0aCI6ICIxMDAlIn0pOwoKICAgICAgICAKICAgICAgICAgICAgdmFyIGh0bWxfYWEzZTc4OTU5NmExNDNjM2E3OTQyZDgwM2UzYmMwMTUgPSAkKGA8ZGl2IGlkPSJodG1sX2FhM2U3ODk1OTZhMTQzYzNhNzk0MmQ4MDNlM2JjMDE1IiBzdHlsZT0id2lkdGg6IDEwMC4wJTsgaGVpZ2h0OiAxMDAuMCU7Ij4gICAgIDxoMj5JbmZvcm1hdGlvbjwvaDE+ICAgICAgICAgU3RhdGU6IFJvbmTDtG5pYTxicj4gICAgICAgICBDYXNlczogMzI8YnI+ICAgICAgICAgRGVhdGhzOiAyPGJyPiAgICAgPC9kaXY+YClbMF07CiAgICAgICAgICAgIHBvcHVwX2RlYzYxNjMxMzQwMzRiMzk4NmE0YzcxYWRmNjQyZGU3LnNldENvbnRlbnQoaHRtbF9hYTNlNzg5NTk2YTE0M2MzYTc5NDJkODAzZTNiYzAxNSk7CiAgICAgICAgCgogICAgICAgIG1hcmtlcl84MDRkMWI1YmU5YTE0ZDllYTU3Y2U0MzM3ZjM0MDk3OS5iaW5kUG9wdXAocG9wdXBfZGVjNjE2MzEzNDAzNGIzOTg2YTRjNzFhZGY2NDJkZTcpCiAgICAgICAgOwoKICAgICAgICAKICAgIAogICAgCiAgICAgICAgICAgIG1hcmtlcl84MDRkMWI1YmU5YTE0ZDllYTU3Y2U0MzM3ZjM0MDk3OS5iaW5kVG9vbHRpcCgKICAgICAgICAgICAgICAgIGA8ZGl2PgogICAgICAgICAgICAgICAgICAgICBDb3ZpZC0xOSBJbmZvcm1hdGlvbgogICAgICAgICAgICAgICAgIDwvZGl2PmAsCiAgICAgICAgICAgICAgICB7InN0aWNreSI6IHRydWV9CiAgICAgICAgICAgICk7CiAgICAgICAgCiAgICAKICAgICAgICAgICAgdmFyIG1hcmtlcl8zNzRmOThkZDRmODc0MzA4OTA5M2QwZGVlODcxZjJhOSA9IEwubWFya2VyKAogICAgICAgICAgICAgICAgWzEuODQ1NjUsIC02MS44NTYwNDldLAogICAgICAgICAgICAgICAge30KICAgICAgICAgICAgKS5hZGRUbyhtYXBfMTM0NWQyNWEyMGZiNGI3Yjg1Njk2NTkxOTY5MmIxODgpOwogICAgICAgIAogICAgCiAgICAgICAgICAgIHZhciBpY29uXzkzNzU3Mzc4YjY5ZDQ2ODNhZWViYmU4OTlkODIzMDZlID0gTC5Bd2Vzb21lTWFya2Vycy5pY29uKAogICAgICAgICAgICAgICAgeyJleHRyYUNsYXNzZXMiOiAiZmEtcm90YXRlLTAiLCAiaWNvbiI6ICJpbmZvLXNpZ24iLCAiaWNvbkNvbG9yIjogIndoaXRlIiwgIm1hcmtlckNvbG9yIjogInJlZCIsICJwcmVmaXgiOiAiZ2x5cGhpY29uIn0KICAgICAgICAgICAgKTsKICAgICAgICAgICAgbWFya2VyXzM3NGY5OGRkNGY4NzQzMDg5MDkzZDBkZWU4NzFmMmE5LnNldEljb24oaWNvbl85Mzc1NzM3OGI2OWQ0NjgzYWVlYmJlODk5ZDgyMzA2ZSk7CiAgICAgICAgCiAgICAKICAgICAgICB2YXIgcG9wdXBfMTg0ZDkwNDBlOThhNGY4ZjgzMWEzNTRlYTlhYzFkODIgPSBMLnBvcHVwKHsibWF4V2lkdGgiOiAiMTAwJSJ9KTsKCiAgICAgICAgCiAgICAgICAgICAgIHZhciBodG1sXzJlNzE4YjdmMzFjZDRiY2U4OTk4NTAwODUwZDQ2YTMyID0gJChgPGRpdiBpZD0iaHRtbF8yZTcxOGI3ZjMxY2Q0YmNlODk5ODUwMDg1MGQ0NmEzMiIgc3R5bGU9IndpZHRoOiAxMDAuMCU7IGhlaWdodDogMTAwLjAlOyI+ICAgICA8aDI+SW5mb3JtYXRpb248L2gxPiAgICAgICAgIFN0YXRlOiBSb3JhaW1hPGJyPiAgICAgICAgIENhc2VzOiA2Mzxicj4gICAgICAgICBEZWF0aHM6IDM8YnI+ICAgICA8L2Rpdj5gKVswXTsKICAgICAgICAgICAgcG9wdXBfMTg0ZDkwNDBlOThhNGY4ZjgzMWEzNTRlYTlhYzFkODIuc2V0Q29udGVudChodG1sXzJlNzE4YjdmMzFjZDRiY2U4OTk4NTAwODUwZDQ2YTMyKTsKICAgICAgICAKCiAgICAgICAgbWFya2VyXzM3NGY5OGRkNGY4NzQzMDg5MDkzZDBkZWU4NzFmMmE5LmJpbmRQb3B1cChwb3B1cF8xODRkOTA0MGU5OGE0ZjhmODMxYTM1NGVhOWFjMWQ4MikKICAgICAgICA7CgogICAgICAgIAogICAgCiAgICAKICAgICAgICAgICAgbWFya2VyXzM3NGY5OGRkNGY4NzQzMDg5MDkzZDBkZWU4NzFmMmE5LmJpbmRUb29sdGlwKAogICAgICAgICAgICAgICAgYDxkaXY+CiAgICAgICAgICAgICAgICAgICAgIENvdmlkLTE5IEluZm9ybWF0aW9uCiAgICAgICAgICAgICAgICAgPC9kaXY+YCwKICAgICAgICAgICAgICAgIHsic3RpY2t5IjogdHJ1ZX0KICAgICAgICAgICAgKTsKICAgICAgICAKICAgIAogICAgICAgICAgICB2YXIgbWFya2VyXzMwZGIyY2IwNTZjYjQzZTM5MGEwYWM3NTM2NDZlOGU2ID0gTC5tYXJrZXIoCiAgICAgICAgICAgICAgICBbLTI3LjY1MzQsIC01MS4wOTIyODldLAogICAgICAgICAgICAgICAge30KICAgICAgICAgICAgKS5hZGRUbyhtYXBfMTM0NWQyNWEyMGZiNGI3Yjg1Njk2NTkxOTY5MmIxODgpOwogICAgICAgIAogICAgCiAgICAgICAgICAgIHZhciBpY29uXzFiMWJkNzE5MjdmYzQ0MGQ4MzcxMTA1MTY3NzQyYTRiID0gTC5Bd2Vzb21lTWFya2Vycy5pY29uKAogICAgICAgICAgICAgICAgeyJleHRyYUNsYXNzZXMiOiAiZmEtcm90YXRlLTAiLCAiaWNvbiI6ICJpbmZvLXNpZ24iLCAiaWNvbkNvbG9yIjogIndoaXRlIiwgIm1hcmtlckNvbG9yIjogInJlZCIsICJwcmVmaXgiOiAiZ2x5cGhpY29uIn0KICAgICAgICAgICAgKTsKICAgICAgICAgICAgbWFya2VyXzMwZGIyY2IwNTZjYjQzZTM5MGEwYWM3NTM2NDZlOGU2LnNldEljb24oaWNvbl8xYjFiZDcxOTI3ZmM0NDBkODM3MTEwNTE2Nzc0MmE0Yik7CiAgICAgICAgCiAgICAKICAgICAgICB2YXIgcG9wdXBfODQ5ZWQ4Mjg4YjQzNDIyNTllMjE1Zjg4ZWMwOWU5ZDYgPSBMLnBvcHVwKHsibWF4V2lkdGgiOiAiMTAwJSJ9KTsKCiAgICAgICAgCiAgICAgICAgICAgIHZhciBodG1sX2M3ZDJjZTJmOGFmZDRhMjFiNDFmODY0OGNjNDA0NWQ4ID0gJChgPGRpdiBpZD0iaHRtbF9jN2QyY2UyZjhhZmQ0YTIxYjQxZjg2NDhjYzQwNDVkOCIgc3R5bGU9IndpZHRoOiAxMDAuMCU7IGhlaWdodDogMTAwLjAlOyI+ICAgICA8aDI+SW5mb3JtYXRpb248L2gxPiAgICAgICAgIFN0YXRlOiBTYW50YSBDYXRhcmluYTxicj4gICAgICAgICBDYXNlczogNjkzPGJyPiAgICAgICAgIERlYXRoczogMTg8YnI+ICAgICA8L2Rpdj5gKVswXTsKICAgICAgICAgICAgcG9wdXBfODQ5ZWQ4Mjg4YjQzNDIyNTllMjE1Zjg4ZWMwOWU5ZDYuc2V0Q29udGVudChodG1sX2M3ZDJjZTJmOGFmZDRhMjFiNDFmODY0OGNjNDA0NWQ4KTsKICAgICAgICAKCiAgICAgICAgbWFya2VyXzMwZGIyY2IwNTZjYjQzZTM5MGEwYWM3NTM2NDZlOGU2LmJpbmRQb3B1cChwb3B1cF84NDllZDgyODhiNDM0MjI1OWUyMTVmODhlYzA5ZTlkNikKICAgICAgICA7CgogICAgICAgIAogICAgCiAgICAKICAgICAgICAgICAgbWFya2VyXzMwZGIyY2IwNTZjYjQzZTM5MGEwYWM3NTM2NDZlOGU2LmJpbmRUb29sdGlwKAogICAgICAgICAgICAgICAgYDxkaXY+CiAgICAgICAgICAgICAgICAgICAgIENvdmlkLTE5IEluZm9ybWF0aW9uCiAgICAgICAgICAgICAgICAgPC9kaXY+YCwKICAgICAgICAgICAgICAgIHsic3RpY2t5IjogdHJ1ZX0KICAgICAgICAgICAgKTsKICAgICAgICAKICAgIAogICAgICAgICAgICB2YXIgbWFya2VyXzg4ZTA2NTg1MjA2NzQ4ZDJiMDhkOWNiMWZjMDEwYjMyID0gTC5tYXJrZXIoCiAgICAgICAgICAgICAgICBbLTEwLjU3NDA5MywgLTM3LjM4NTY1OF0sCiAgICAgICAgICAgICAgICB7fQogICAgICAgICAgICApLmFkZFRvKG1hcF8xMzQ1ZDI1YTIwZmI0YjdiODU2OTY1OTE5NjkyYjE4OCk7CiAgICAgICAgCiAgICAKICAgICAgICAgICAgdmFyIGljb25fMDNmODBkZTdmYzEyNGI3MGI3NmU0Nzg1MjYwY2FkZTYgPSBMLkF3ZXNvbWVNYXJrZXJzLmljb24oCiAgICAgICAgICAgICAgICB7ImV4dHJhQ2xhc3NlcyI6ICJmYS1yb3RhdGUtMCIsICJpY29uIjogImluZm8tc2lnbiIsICJpY29uQ29sb3IiOiAid2hpdGUiLCAibWFya2VyQ29sb3IiOiAicmVkIiwgInByZWZpeCI6ICJnbHlwaGljb24ifQogICAgICAgICAgICApOwogICAgICAgICAgICBtYXJrZXJfODhlMDY1ODUyMDY3NDhkMmIwOGQ5Y2IxZmMwMTBiMzIuc2V0SWNvbihpY29uXzAzZjgwZGU3ZmMxMjRiNzBiNzZlNDc4NTI2MGNhZGU2KTsKICAgICAgICAKICAgIAogICAgICAgIHZhciBwb3B1cF8zYTBmODdiOGNiODU0MTA5YjMxODg3ZmJhMDkyN2M2ZiA9IEwucG9wdXAoeyJtYXhXaWR0aCI6ICIxMDAlIn0pOwoKICAgICAgICAKICAgICAgICAgICAgdmFyIGh0bWxfODkxMjI1YmViMzMxNDQ0Yjk0YmRhY2NjNmRhNzc3ZDcgPSAkKGA8ZGl2IGlkPSJodG1sXzg5MTIyNWJlYjMzMTQ0NGI5NGJkYWNjYzZkYTc3N2Q3IiBzdHlsZT0id2lkdGg6IDEwMC4wJTsgaGVpZ2h0OiAxMDAuMCU7Ij4gICAgIDxoMj5JbmZvcm1hdGlvbjwvaDE+ICAgICAgICAgU3RhdGU6IFNlcmdpcGU8YnI+ICAgICAgICAgQ2FzZXM6IDQyPGJyPiAgICAgICAgIERlYXRoczogNDxicj4gICAgIDwvZGl2PmApWzBdOwogICAgICAgICAgICBwb3B1cF8zYTBmODdiOGNiODU0MTA5YjMxODg3ZmJhMDkyN2M2Zi5zZXRDb250ZW50KGh0bWxfODkxMjI1YmViMzMxNDQ0Yjk0YmRhY2NjNmRhNzc3ZDcpOwogICAgICAgIAoKICAgICAgICBtYXJrZXJfODhlMDY1ODUyMDY3NDhkMmIwOGQ5Y2IxZmMwMTBiMzIuYmluZFBvcHVwKHBvcHVwXzNhMGY4N2I4Y2I4NTQxMDliMzE4ODdmYmEwOTI3YzZmKQogICAgICAgIDsKCiAgICAgICAgCiAgICAKICAgIAogICAgICAgICAgICBtYXJrZXJfODhlMDY1ODUyMDY3NDhkMmIwOGQ5Y2IxZmMwMTBiMzIuYmluZFRvb2x0aXAoCiAgICAgICAgICAgICAgICBgPGRpdj4KICAgICAgICAgICAgICAgICAgICAgQ292aWQtMTkgSW5mb3JtYXRpb24KICAgICAgICAgICAgICAgICA8L2Rpdj5gLAogICAgICAgICAgICAgICAgeyJzdGlja3kiOiB0cnVlfQogICAgICAgICAgICApOwogICAgICAgIAogICAgCiAgICAgICAgICAgIHZhciBtYXJrZXJfMzczMWZjODRiZmQzNDljZmJjZjI0YzAwMGEzMGM3NjEgPSBMLm1hcmtlcigKICAgICAgICAgICAgICAgIFstMjMuNTUwNTIsIC00Ni42MzMzMDhdLAogICAgICAgICAgICAgICAge30KICAgICAgICAgICAgKS5hZGRUbyhtYXBfMTM0NWQyNWEyMGZiNGI3Yjg1Njk2NTkxOTY5MmIxODgpOwogICAgICAgIAogICAgCiAgICAgICAgICAgIHZhciBpY29uXzdiNTc5NmJjYWYwNzRjZTA4NWY3ZjMyOWM2MDQzZGEzID0gTC5Bd2Vzb21lTWFya2Vycy5pY29uKAogICAgICAgICAgICAgICAgeyJleHRyYUNsYXNzZXMiOiAiZmEtcm90YXRlLTAiLCAiaWNvbiI6ICJpbmZvLXNpZ24iLCAiaWNvbkNvbG9yIjogIndoaXRlIiwgIm1hcmtlckNvbG9yIjogInJlZCIsICJwcmVmaXgiOiAiZ2x5cGhpY29uIn0KICAgICAgICAgICAgKTsKICAgICAgICAgICAgbWFya2VyXzM3MzFmYzg0YmZkMzQ5Y2ZiY2YyNGMwMDBhMzBjNzYxLnNldEljb24oaWNvbl83YjU3OTZiY2FmMDc0Y2UwODVmN2YzMjljNjA0M2RhMyk7CiAgICAgICAgCiAgICAKICAgICAgICB2YXIgcG9wdXBfOWE0YTI5ZjRkYjhiNDZhZjgyZDk0MDVkNWM1YTQ2MzAgPSBMLnBvcHVwKHsibWF4V2lkdGgiOiAiMTAwJSJ9KTsKCiAgICAgICAgCiAgICAgICAgICAgIHZhciBodG1sX2JmYjE5NDMyOGUzMTRiNmY4ZmY0OGRiMzAzMzY2NjRmID0gJChgPGRpdiBpZD0iaHRtbF9iZmIxOTQzMjhlMzE0YjZmOGZmNDhkYjMwMzM2NjY0ZiIgc3R5bGU9IndpZHRoOiAxMDAuMCU7IGhlaWdodDogMTAwLjAlOyI+ICAgICA8aDI+SW5mb3JtYXRpb248L2gxPiAgICAgICAgIFN0YXRlOiBTw6NvIFBhdWxvPGJyPiAgICAgICAgIENhc2VzOiA4MjE2PGJyPiAgICAgICAgIERlYXRoczogNTQwPGJyPiAgICAgPC9kaXY+YClbMF07CiAgICAgICAgICAgIHBvcHVwXzlhNGEyOWY0ZGI4YjQ2YWY4MmQ5NDA1ZDVjNWE0NjMwLnNldENvbnRlbnQoaHRtbF9iZmIxOTQzMjhlMzE0YjZmOGZmNDhkYjMwMzM2NjY0Zik7CiAgICAgICAgCgogICAgICAgIG1hcmtlcl8zNzMxZmM4NGJmZDM0OWNmYmNmMjRjMDAwYTMwYzc2MS5iaW5kUG9wdXAocG9wdXBfOWE0YTI5ZjRkYjhiNDZhZjgyZDk0MDVkNWM1YTQ2MzApCiAgICAgICAgOwoKICAgICAgICAKICAgIAogICAgCiAgICAgICAgICAgIG1hcmtlcl8zNzMxZmM4NGJmZDM0OWNmYmNmMjRjMDAwYTMwYzc2MS5iaW5kVG9vbHRpcCgKICAgICAgICAgICAgICAgIGA8ZGl2PgogICAgICAgICAgICAgICAgICAgICBDb3ZpZC0xOSBJbmZvcm1hdGlvbgogICAgICAgICAgICAgICAgIDwvZGl2PmAsCiAgICAgICAgICAgICAgICB7InN0aWNreSI6IHRydWV9CiAgICAgICAgICAgICk7CiAgICAgICAgCiAgICAKICAgICAgICAgICAgdmFyIG1hcmtlcl85Y2ExNjU4MGUxN2U0NWJmODk0Nzc3ZjcyMzNlN2VhOCA9IEwubWFya2VyKAogICAgICAgICAgICAgICAgWy0xMC4xODQ1MSwgLTQ4LjMzNDY2XSwKICAgICAgICAgICAgICAgIHt9CiAgICAgICAgICAgICkuYWRkVG8obWFwXzEzNDVkMjVhMjBmYjRiN2I4NTY5NjU5MTk2OTJiMTg4KTsKICAgICAgICAKICAgIAogICAgICAgICAgICB2YXIgaWNvbl8wZTNhNjIzOTM4ZjU0OWJiODIxZWI5NWJiOTBkYzUwNCA9IEwuQXdlc29tZU1hcmtlcnMuaWNvbigKICAgICAgICAgICAgICAgIHsiZXh0cmFDbGFzc2VzIjogImZhLXJvdGF0ZS0wIiwgImljb24iOiAiaW5mby1zaWduIiwgImljb25Db2xvciI6ICJ3aGl0ZSIsICJtYXJrZXJDb2xvciI6ICJyZWQiLCAicHJlZml4IjogImdseXBoaWNvbiJ9CiAgICAgICAgICAgICk7CiAgICAgICAgICAgIG1hcmtlcl85Y2ExNjU4MGUxN2U0NWJmODk0Nzc3ZjcyMzNlN2VhOC5zZXRJY29uKGljb25fMGUzYTYyMzkzOGY1NDliYjgyMWViOTViYjkwZGM1MDQpOwogICAgICAgIAogICAgCiAgICAgICAgdmFyIHBvcHVwX2E1OGFkZDg3ZDg3NDQ4OWM4YmNkNGJjMDBlM2QyODQwID0gTC5wb3B1cCh7Im1heFdpZHRoIjogIjEwMCUifSk7CgogICAgICAgIAogICAgICAgICAgICB2YXIgaHRtbF8zNTU5MTI4ZjliN2M0OWE1YThkNWM2MzBkNzRlZDM0YiA9ICQoYDxkaXYgaWQ9Imh0bWxfMzU1OTEyOGY5YjdjNDlhNWE4ZDVjNjMwZDc0ZWQzNGIiIHN0eWxlPSJ3aWR0aDogMTAwLjAlOyBoZWlnaHQ6IDEwMC4wJTsiPiAgICAgPGgyPkluZm9ybWF0aW9uPC9oMT4gICAgICAgICBTdGF0ZTogVG9jYW50aW5zPGJyPiAgICAgICAgIENhc2VzOiAyMzxicj4gICAgICAgICBEZWF0aHM6IDA8YnI+ICAgICA8L2Rpdj5gKVswXTsKICAgICAgICAgICAgcG9wdXBfYTU4YWRkODdkODc0NDg5YzhiY2Q0YmMwMGUzZDI4NDAuc2V0Q29udGVudChodG1sXzM1NTkxMjhmOWI3YzQ5YTVhOGQ1YzYzMGQ3NGVkMzRiKTsKICAgICAgICAKCiAgICAgICAgbWFya2VyXzljYTE2NTgwZTE3ZTQ1YmY4OTQ3NzdmNzIzM2U3ZWE4LmJpbmRQb3B1cChwb3B1cF9hNThhZGQ4N2Q4NzQ0ODljOGJjZDRiYzAwZTNkMjg0MCkKICAgICAgICA7CgogICAgICAgIAogICAgCiAgICAKICAgICAgICAgICAgbWFya2VyXzljYTE2NTgwZTE3ZTQ1YmY4OTQ3NzdmNzIzM2U3ZWE4LmJpbmRUb29sdGlwKAogICAgICAgICAgICAgICAgYDxkaXY+CiAgICAgICAgICAgICAgICAgICAgIENvdmlkLTE5IEluZm9ybWF0aW9uCiAgICAgICAgICAgICAgICAgPC9kaXY+YCwKICAgICAgICAgICAgICAgIHsic3RpY2t5IjogdHJ1ZX0KICAgICAgICAgICAgKTsKICAgICAgICAKPC9zY3JpcHQ+ onload=\"this.contentDocument.open();this.contentDocument.write(atob(this.getAttribute('data-html')));this.contentDocument.close();\" allowfullscreen webkitallowfullscreen mozallowfullscreen></iframe></div></div>"
      ],
      "text/plain": [
       "<folium.folium.Map at 0x17a8ecbe7c8>"
      ]
     },
     "execution_count": 28,
     "metadata": {},
     "output_type": "execute_result"
    }
   ],
   "source": [
    "brazil_map"
   ]
  },
  {
   "cell_type": "markdown",
   "metadata": {},
   "source": [
    "## 1.5) Heatmap de casos_confirmados e mortes_confirmadas:"
   ]
  },
  {
   "cell_type": "code",
   "execution_count": 29,
   "metadata": {},
   "outputs": [],
   "source": [
    "from folium.plugins import HeatMap"
   ]
  },
  {
   "cell_type": "code",
   "execution_count": 30,
   "metadata": {},
   "outputs": [],
   "source": [
    "brazil_heatmap = folium.Map(location=[-15.776250,-47.796619],tiles = \"stamentoner\", zoom_start=5)"
   ]
  },
  {
   "cell_type": "code",
   "execution_count": 31,
   "metadata": {},
   "outputs": [],
   "source": [
    "del df3['estado']"
   ]
  },
  {
   "cell_type": "code",
   "execution_count": 32,
   "metadata": {},
   "outputs": [
    {
     "data": {
      "text/html": [
       "<div>\n",
       "<style scoped>\n",
       "    .dataframe tbody tr th:only-of-type {\n",
       "        vertical-align: middle;\n",
       "    }\n",
       "\n",
       "    .dataframe tbody tr th {\n",
       "        vertical-align: top;\n",
       "    }\n",
       "\n",
       "    .dataframe thead th {\n",
       "        text-align: right;\n",
       "    }\n",
       "</style>\n",
       "<table border=\"1\" class=\"dataframe\">\n",
       "  <thead>\n",
       "    <tr style=\"text-align: right;\">\n",
       "      <th></th>\n",
       "      <th>casos_confirmados</th>\n",
       "      <th>mortes_confirmadas</th>\n",
       "      <th>Latitude</th>\n",
       "      <th>Longitude</th>\n",
       "    </tr>\n",
       "  </thead>\n",
       "  <tbody>\n",
       "    <tr>\n",
       "      <th>0</th>\n",
       "      <td>70</td>\n",
       "      <td>2</td>\n",
       "      <td>-9.128930</td>\n",
       "      <td>-70.301460</td>\n",
       "    </tr>\n",
       "    <tr>\n",
       "      <th>1</th>\n",
       "      <td>45</td>\n",
       "      <td>3</td>\n",
       "      <td>-9.672838</td>\n",
       "      <td>-36.372506</td>\n",
       "    </tr>\n",
       "    <tr>\n",
       "      <th>2</th>\n",
       "      <td>166</td>\n",
       "      <td>2</td>\n",
       "      <td>2.051890</td>\n",
       "      <td>-50.791370</td>\n",
       "    </tr>\n",
       "    <tr>\n",
       "      <th>3</th>\n",
       "      <td>981</td>\n",
       "      <td>50</td>\n",
       "      <td>-3.416843</td>\n",
       "      <td>-65.856064</td>\n",
       "    </tr>\n",
       "    <tr>\n",
       "      <th>4</th>\n",
       "      <td>604</td>\n",
       "      <td>19</td>\n",
       "      <td>-12.506686</td>\n",
       "      <td>-38.343577</td>\n",
       "    </tr>\n",
       "  </tbody>\n",
       "</table>\n",
       "</div>"
      ],
      "text/plain": [
       "   casos_confirmados  mortes_confirmadas   Latitude  Longitude\n",
       "0                 70                   2  -9.128930 -70.301460\n",
       "1                 45                   3  -9.672838 -36.372506\n",
       "2                166                   2   2.051890 -50.791370\n",
       "3                981                  50  -3.416843 -65.856064\n",
       "4                604                  19 -12.506686 -38.343577"
      ]
     },
     "execution_count": 32,
     "metadata": {},
     "output_type": "execute_result"
    }
   ],
   "source": [
    "df3.head()"
   ]
  },
  {
   "cell_type": "markdown",
   "metadata": {},
   "source": [
    "### "
   ]
  },
  {
   "cell_type": "code",
   "execution_count": 33,
   "metadata": {},
   "outputs": [
    {
     "data": {
      "text/plain": [
       "<folium.plugins.heat_map.HeatMap at 0x17a8f65e808>"
      ]
     },
     "execution_count": 33,
     "metadata": {},
     "output_type": "execute_result"
    }
   ],
   "source": [
    "# Criando o Heatmap de casos_confirmados \n",
    "locais = df3[[\"Latitude\", \"Longitude\", \"casos_confirmados\"]].values.tolist()\n",
    "HeatMap(locais, radius=20).add_to(brazil_heatmap)"
   ]
  },
  {
   "cell_type": "code",
   "execution_count": 34,
   "metadata": {},
   "outputs": [
    {
     "data": {
      "text/html": [
       "<div style=\"width:100%;\"><div style=\"position:relative;width:100%;height:0;padding-bottom:60%;\"><iframe src=\"about:blank\" style=\"position:absolute;width:100%;height:100%;left:0;top:0;border:none !important;\" data-html=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 onload=\"this.contentDocument.open();this.contentDocument.write(atob(this.getAttribute('data-html')));this.contentDocument.close();\" allowfullscreen webkitallowfullscreen mozallowfullscreen></iframe></div></div>"
      ],
      "text/plain": [
       "<folium.folium.Map at 0x17a8f65a508>"
      ]
     },
     "execution_count": 34,
     "metadata": {},
     "output_type": "execute_result"
    }
   ],
   "source": [
    "brazil_heatmap"
   ]
  },
  {
   "cell_type": "code",
   "execution_count": 35,
   "metadata": {},
   "outputs": [
    {
     "data": {
      "text/plain": [
       "<folium.plugins.heat_map.HeatMap at 0x17a8f65a288>"
      ]
     },
     "execution_count": 35,
     "metadata": {},
     "output_type": "execute_result"
    }
   ],
   "source": [
    "# Criando o Heatmap de mortes_confirmadas\n",
    "locais = df3[[\"Latitude\", \"Longitude\", \"mortes_confirmadas\"]].values.tolist()\n",
    "HeatMap(locais, radius=20).add_to(brazil_heatmap)"
   ]
  },
  {
   "cell_type": "code",
   "execution_count": 36,
   "metadata": {},
   "outputs": [
    {
     "data": {
      "text/html": [
       "<div style=\"width:100%;\"><div style=\"position:relative;width:100%;height:0;padding-bottom:60%;\"><iframe src=\"about:blank\" style=\"position:absolute;width:100%;height:100%;left:0;top:0;border:none !important;\" data-html=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 onload=\"this.contentDocument.open();this.contentDocument.write(atob(this.getAttribute('data-html')));this.contentDocument.close();\" allowfullscreen webkitallowfullscreen mozallowfullscreen></iframe></div></div>"
      ],
      "text/plain": [
       "<folium.folium.Map at 0x17a8f65a508>"
      ]
     },
     "execution_count": 36,
     "metadata": {},
     "output_type": "execute_result"
    }
   ],
   "source": [
    "brazil_heatmap"
   ]
  },
  {
   "cell_type": "markdown",
   "metadata": {},
   "source": [
    "# 2) Gráfico de Barra Vertical, indicando os casos_confirmados e mortes_confirmadas no Brazil:"
   ]
  },
  {
   "cell_type": "code",
   "execution_count": 37,
   "metadata": {},
   "outputs": [
    {
     "data": {
      "text/html": [
       "<div>\n",
       "<style scoped>\n",
       "    .dataframe tbody tr th:only-of-type {\n",
       "        vertical-align: middle;\n",
       "    }\n",
       "\n",
       "    .dataframe tbody tr th {\n",
       "        vertical-align: top;\n",
       "    }\n",
       "\n",
       "    .dataframe thead th {\n",
       "        text-align: right;\n",
       "    }\n",
       "</style>\n",
       "<table border=\"1\" class=\"dataframe\">\n",
       "  <thead>\n",
       "    <tr style=\"text-align: right;\">\n",
       "      <th></th>\n",
       "      <th>casos_confirmados</th>\n",
       "      <th>mortes_confirmadas</th>\n",
       "      <th>Latitude</th>\n",
       "      <th>Longitude</th>\n",
       "    </tr>\n",
       "    <tr>\n",
       "      <th>estado</th>\n",
       "      <th></th>\n",
       "      <th></th>\n",
       "      <th></th>\n",
       "      <th></th>\n",
       "    </tr>\n",
       "  </thead>\n",
       "  <tbody>\n",
       "    <tr>\n",
       "      <th>Acre</th>\n",
       "      <td>70</td>\n",
       "      <td>2</td>\n",
       "      <td>-9.128930</td>\n",
       "      <td>-70.301460</td>\n",
       "    </tr>\n",
       "    <tr>\n",
       "      <th>Alagoas</th>\n",
       "      <td>45</td>\n",
       "      <td>3</td>\n",
       "      <td>-9.672838</td>\n",
       "      <td>-36.372506</td>\n",
       "    </tr>\n",
       "    <tr>\n",
       "      <th>Amapá</th>\n",
       "      <td>166</td>\n",
       "      <td>2</td>\n",
       "      <td>2.051890</td>\n",
       "      <td>-50.791370</td>\n",
       "    </tr>\n",
       "    <tr>\n",
       "      <th>Amazonas</th>\n",
       "      <td>981</td>\n",
       "      <td>50</td>\n",
       "      <td>-3.416843</td>\n",
       "      <td>-65.856064</td>\n",
       "    </tr>\n",
       "    <tr>\n",
       "      <th>Bahia</th>\n",
       "      <td>604</td>\n",
       "      <td>19</td>\n",
       "      <td>-12.506686</td>\n",
       "      <td>-38.343577</td>\n",
       "    </tr>\n",
       "  </tbody>\n",
       "</table>\n",
       "</div>"
      ],
      "text/plain": [
       "          casos_confirmados  mortes_confirmadas   Latitude  Longitude\n",
       "estado                                                               \n",
       "Acre                     70                   2  -9.128930 -70.301460\n",
       "Alagoas                  45                   3  -9.672838 -36.372506\n",
       "Amapá                   166                   2   2.051890 -50.791370\n",
       "Amazonas                981                  50  -3.416843 -65.856064\n",
       "Bahia                   604                  19 -12.506686 -38.343577"
      ]
     },
     "execution_count": 37,
     "metadata": {},
     "output_type": "execute_result"
    }
   ],
   "source": [
    "df1.head()"
   ]
  },
  {
   "cell_type": "markdown",
   "metadata": {},
   "source": [
    "### 2.3) Excluindo as colunas estado,latitude e longitude:"
   ]
  },
  {
   "cell_type": "code",
   "execution_count": 38,
   "metadata": {},
   "outputs": [],
   "source": [
    "df4 = df1.reset_index(drop=False)"
   ]
  },
  {
   "cell_type": "code",
   "execution_count": 39,
   "metadata": {},
   "outputs": [
    {
     "data": {
      "text/html": [
       "<div>\n",
       "<style scoped>\n",
       "    .dataframe tbody tr th:only-of-type {\n",
       "        vertical-align: middle;\n",
       "    }\n",
       "\n",
       "    .dataframe tbody tr th {\n",
       "        vertical-align: top;\n",
       "    }\n",
       "\n",
       "    .dataframe thead th {\n",
       "        text-align: right;\n",
       "    }\n",
       "</style>\n",
       "<table border=\"1\" class=\"dataframe\">\n",
       "  <thead>\n",
       "    <tr style=\"text-align: right;\">\n",
       "      <th></th>\n",
       "      <th>estado</th>\n",
       "      <th>casos_confirmados</th>\n",
       "      <th>mortes_confirmadas</th>\n",
       "      <th>Latitude</th>\n",
       "      <th>Longitude</th>\n",
       "    </tr>\n",
       "  </thead>\n",
       "  <tbody>\n",
       "    <tr>\n",
       "      <th>0</th>\n",
       "      <td>Acre</td>\n",
       "      <td>70</td>\n",
       "      <td>2</td>\n",
       "      <td>-9.128930</td>\n",
       "      <td>-70.301460</td>\n",
       "    </tr>\n",
       "    <tr>\n",
       "      <th>1</th>\n",
       "      <td>Alagoas</td>\n",
       "      <td>45</td>\n",
       "      <td>3</td>\n",
       "      <td>-9.672838</td>\n",
       "      <td>-36.372506</td>\n",
       "    </tr>\n",
       "    <tr>\n",
       "      <th>2</th>\n",
       "      <td>Amapá</td>\n",
       "      <td>166</td>\n",
       "      <td>2</td>\n",
       "      <td>2.051890</td>\n",
       "      <td>-50.791370</td>\n",
       "    </tr>\n",
       "    <tr>\n",
       "      <th>3</th>\n",
       "      <td>Amazonas</td>\n",
       "      <td>981</td>\n",
       "      <td>50</td>\n",
       "      <td>-3.416843</td>\n",
       "      <td>-65.856064</td>\n",
       "    </tr>\n",
       "    <tr>\n",
       "      <th>4</th>\n",
       "      <td>Bahia</td>\n",
       "      <td>604</td>\n",
       "      <td>19</td>\n",
       "      <td>-12.506686</td>\n",
       "      <td>-38.343577</td>\n",
       "    </tr>\n",
       "  </tbody>\n",
       "</table>\n",
       "</div>"
      ],
      "text/plain": [
       "     estado  casos_confirmados  mortes_confirmadas   Latitude  Longitude\n",
       "0      Acre                 70                   2  -9.128930 -70.301460\n",
       "1   Alagoas                 45                   3  -9.672838 -36.372506\n",
       "2     Amapá                166                   2   2.051890 -50.791370\n",
       "3  Amazonas                981                  50  -3.416843 -65.856064\n",
       "4     Bahia                604                  19 -12.506686 -38.343577"
      ]
     },
     "execution_count": 39,
     "metadata": {},
     "output_type": "execute_result"
    }
   ],
   "source": [
    "df4.head()"
   ]
  },
  {
   "cell_type": "code",
   "execution_count": 40,
   "metadata": {},
   "outputs": [],
   "source": [
    "del df4['estado']"
   ]
  },
  {
   "cell_type": "code",
   "execution_count": 41,
   "metadata": {},
   "outputs": [],
   "source": [
    "del df4['Latitude']"
   ]
  },
  {
   "cell_type": "code",
   "execution_count": 42,
   "metadata": {},
   "outputs": [],
   "source": [
    "del df4['Longitude']"
   ]
  },
  {
   "cell_type": "code",
   "execution_count": 43,
   "metadata": {},
   "outputs": [
    {
     "data": {
      "text/plain": [
       "casos_confirmados     19638\n",
       "mortes_confirmadas     1056\n",
       "dtype: int64"
      ]
     },
     "execution_count": 43,
     "metadata": {},
     "output_type": "execute_result"
    }
   ],
   "source": [
    "df4.sum()"
   ]
  },
  {
   "cell_type": "code",
   "execution_count": 44,
   "metadata": {},
   "outputs": [
    {
     "data": {
      "text/plain": [
       "0       70\n",
       "1       45\n",
       "2      166\n",
       "3      981\n",
       "4      604\n",
       "5     1478\n",
       "6      555\n",
       "7      300\n",
       "8      191\n",
       "9      293\n",
       "10     112\n",
       "11      97\n",
       "12     698\n",
       "13     643\n",
       "14      79\n",
       "15     170\n",
       "16     684\n",
       "17      40\n",
       "18     263\n",
       "19     636\n",
       "20    2464\n",
       "21      32\n",
       "22      63\n",
       "23     693\n",
       "24      42\n",
       "25    8216\n",
       "26      23\n",
       "Name: casos_confirmados, dtype: int64"
      ]
     },
     "execution_count": 44,
     "metadata": {},
     "output_type": "execute_result"
    }
   ],
   "source": [
    "df4['casos_confirmados']"
   ]
  },
  {
   "cell_type": "code",
   "execution_count": 45,
   "metadata": {},
   "outputs": [],
   "source": [
    "d = {'casos_confirmados' : df4['casos_confirmados'].sum(), 'mortes_confirmadas': df4['mortes_confirmadas'].sum()}"
   ]
  },
  {
   "cell_type": "code",
   "execution_count": 46,
   "metadata": {},
   "outputs": [],
   "source": [
    "df5 = pd.DataFrame(d.items(), columns=['Tipo','Valor_Total']).set_index('Tipo')"
   ]
  },
  {
   "cell_type": "code",
   "execution_count": 47,
   "metadata": {},
   "outputs": [
    {
     "data": {
      "text/html": [
       "<div>\n",
       "<style scoped>\n",
       "    .dataframe tbody tr th:only-of-type {\n",
       "        vertical-align: middle;\n",
       "    }\n",
       "\n",
       "    .dataframe tbody tr th {\n",
       "        vertical-align: top;\n",
       "    }\n",
       "\n",
       "    .dataframe thead th {\n",
       "        text-align: right;\n",
       "    }\n",
       "</style>\n",
       "<table border=\"1\" class=\"dataframe\">\n",
       "  <thead>\n",
       "    <tr style=\"text-align: right;\">\n",
       "      <th></th>\n",
       "      <th>Valor_Total</th>\n",
       "    </tr>\n",
       "    <tr>\n",
       "      <th>Tipo</th>\n",
       "      <th></th>\n",
       "    </tr>\n",
       "  </thead>\n",
       "  <tbody>\n",
       "    <tr>\n",
       "      <th>casos_confirmados</th>\n",
       "      <td>19638</td>\n",
       "    </tr>\n",
       "    <tr>\n",
       "      <th>mortes_confirmadas</th>\n",
       "      <td>1056</td>\n",
       "    </tr>\n",
       "  </tbody>\n",
       "</table>\n",
       "</div>"
      ],
      "text/plain": [
       "                    Valor_Total\n",
       "Tipo                           \n",
       "casos_confirmados         19638\n",
       "mortes_confirmadas         1056"
      ]
     },
     "execution_count": 47,
     "metadata": {},
     "output_type": "execute_result"
    }
   ],
   "source": [
    "df5.head()"
   ]
  },
  {
   "cell_type": "code",
   "execution_count": 48,
   "metadata": {},
   "outputs": [
    {
     "data": {
      "text/plain": [
       "Text(0.5, 1.0, 'Total de Casos Confirmados e Mortes Confirmadas de Covid-19 - Brasil')"
      ]
     },
     "execution_count": 48,
     "metadata": {},
     "output_type": "execute_result"
    },
    {
     "data": {
      "image/png": "[encoded data removed]",
      "text/plain": [
       "<Figure size 432x288 with 1 Axes>"
      ]
     },
     "metadata": {
      "needs_background": "light"
     },
     "output_type": "display_data"
    }
   ],
   "source": [
    "bar = sns.barplot(x=df5.index, y=\"Valor_Total\", data=df5)\n",
    "\n",
    "for p in bar.patches:\n",
    "    bar.annotate('{:.0f}'.format(p.get_height()), (p.get_x()+0.4, p.get_height()),ha='center', va='bottom',color= 'black')\n",
    "    \n",
    "bar.set_title('Total de Casos Confirmados e Mortes Confirmadas de Covid-19 - Brasil')"
   ]
  },
  {
   "cell_type": "markdown",
   "metadata": {},
   "source": [
    "## 2.6) Visualização de Gráficos de Barra Horizontal via Plotly"
   ]
  },
  {
   "cell_type": "code",
   "execution_count": 49,
   "metadata": {},
   "outputs": [
    {
     "data": {
      "text/html": [
       "<div>\n",
       "<style scoped>\n",
       "    .dataframe tbody tr th:only-of-type {\n",
       "        vertical-align: middle;\n",
       "    }\n",
       "\n",
       "    .dataframe tbody tr th {\n",
       "        vertical-align: top;\n",
       "    }\n",
       "\n",
       "    .dataframe thead th {\n",
       "        text-align: right;\n",
       "    }\n",
       "</style>\n",
       "<table border=\"1\" class=\"dataframe\">\n",
       "  <thead>\n",
       "    <tr style=\"text-align: right;\">\n",
       "      <th></th>\n",
       "      <th>data</th>\n",
       "      <th>estado</th>\n",
       "      <th>casos_confirmados</th>\n",
       "      <th>mortes_confirmadas</th>\n",
       "    </tr>\n",
       "  </thead>\n",
       "  <tbody>\n",
       "    <tr>\n",
       "      <th>0</th>\n",
       "      <td>2020-01-30</td>\n",
       "      <td>Distrito Federal</td>\n",
       "      <td>0</td>\n",
       "      <td>0</td>\n",
       "    </tr>\n",
       "    <tr>\n",
       "      <th>1</th>\n",
       "      <td>2020-01-30</td>\n",
       "      <td>Goiás</td>\n",
       "      <td>0</td>\n",
       "      <td>0</td>\n",
       "    </tr>\n",
       "    <tr>\n",
       "      <th>2</th>\n",
       "      <td>2020-01-30</td>\n",
       "      <td>Mato Grosso</td>\n",
       "      <td>0</td>\n",
       "      <td>0</td>\n",
       "    </tr>\n",
       "    <tr>\n",
       "      <th>3</th>\n",
       "      <td>2020-01-30</td>\n",
       "      <td>Mato Grosso do Sul</td>\n",
       "      <td>0</td>\n",
       "      <td>0</td>\n",
       "    </tr>\n",
       "    <tr>\n",
       "      <th>4</th>\n",
       "      <td>2020-01-30</td>\n",
       "      <td>Alagoas</td>\n",
       "      <td>0</td>\n",
       "      <td>0</td>\n",
       "    </tr>\n",
       "  </tbody>\n",
       "</table>\n",
       "</div>"
      ],
      "text/plain": [
       "         data              estado  casos_confirmados  mortes_confirmadas\n",
       "0  2020-01-30    Distrito Federal                  0                   0\n",
       "1  2020-01-30               Goiás                  0                   0\n",
       "2  2020-01-30         Mato Grosso                  0                   0\n",
       "3  2020-01-30  Mato Grosso do Sul                  0                   0\n",
       "4  2020-01-30             Alagoas                  0                   0"
      ]
     },
     "execution_count": 49,
     "metadata": {},
     "output_type": "execute_result"
    }
   ],
   "source": [
    "covid_19.head()"
   ]
  },
  {
   "cell_type": "code",
   "execution_count": 50,
   "metadata": {},
   "outputs": [],
   "source": [
    "df6 = covid_19.drop(columns=['estado'])"
   ]
  },
  {
   "cell_type": "code",
   "execution_count": 51,
   "metadata": {},
   "outputs": [
    {
     "data": {
      "text/html": [
       "<div>\n",
       "<style scoped>\n",
       "    .dataframe tbody tr th:only-of-type {\n",
       "        vertical-align: middle;\n",
       "    }\n",
       "\n",
       "    .dataframe tbody tr th {\n",
       "        vertical-align: top;\n",
       "    }\n",
       "\n",
       "    .dataframe thead th {\n",
       "        text-align: right;\n",
       "    }\n",
       "</style>\n",
       "<table border=\"1\" class=\"dataframe\">\n",
       "  <thead>\n",
       "    <tr style=\"text-align: right;\">\n",
       "      <th></th>\n",
       "      <th>data</th>\n",
       "      <th>casos_confirmados</th>\n",
       "      <th>mortes_confirmadas</th>\n",
       "    </tr>\n",
       "  </thead>\n",
       "  <tbody>\n",
       "    <tr>\n",
       "      <th>0</th>\n",
       "      <td>2020-01-30</td>\n",
       "      <td>0</td>\n",
       "      <td>0</td>\n",
       "    </tr>\n",
       "    <tr>\n",
       "      <th>1</th>\n",
       "      <td>2020-01-30</td>\n",
       "      <td>0</td>\n",
       "      <td>0</td>\n",
       "    </tr>\n",
       "    <tr>\n",
       "      <th>2</th>\n",
       "      <td>2020-01-30</td>\n",
       "      <td>0</td>\n",
       "      <td>0</td>\n",
       "    </tr>\n",
       "    <tr>\n",
       "      <th>3</th>\n",
       "      <td>2020-01-30</td>\n",
       "      <td>0</td>\n",
       "      <td>0</td>\n",
       "    </tr>\n",
       "    <tr>\n",
       "      <th>4</th>\n",
       "      <td>2020-01-30</td>\n",
       "      <td>0</td>\n",
       "      <td>0</td>\n",
       "    </tr>\n",
       "  </tbody>\n",
       "</table>\n",
       "</div>"
      ],
      "text/plain": [
       "         data  casos_confirmados  mortes_confirmadas\n",
       "0  2020-01-30                  0                   0\n",
       "1  2020-01-30                  0                   0\n",
       "2  2020-01-30                  0                   0\n",
       "3  2020-01-30                  0                   0\n",
       "4  2020-01-30                  0                   0"
      ]
     },
     "execution_count": 51,
     "metadata": {},
     "output_type": "execute_result"
    }
   ],
   "source": [
    "df6.head()"
   ]
  },
  {
   "cell_type": "code",
   "execution_count": 52,
   "metadata": {},
   "outputs": [
    {
     "name": "stderr",
     "output_type": "stream",
     "text": [
      "C:\\Users\\roque\\anaconda3\\lib\\site-packages\\ipykernel_launcher.py:1: FutureWarning:\n",
      "\n",
      "Indexing with multiple keys (implicitly converted to a tuple of keys) will be deprecated, use a list instead.\n",
      "\n"
     ]
    }
   ],
   "source": [
    "df7 = df6.groupby(['data'])['casos_confirmados','mortes_confirmadas'].agg('sum')\n"
   ]
  },
  {
   "cell_type": "code",
   "execution_count": 53,
   "metadata": {},
   "outputs": [
    {
     "data": {
      "text/html": [
       "<div>\n",
       "<style scoped>\n",
       "    .dataframe tbody tr th:only-of-type {\n",
       "        vertical-align: middle;\n",
       "    }\n",
       "\n",
       "    .dataframe tbody tr th {\n",
       "        vertical-align: top;\n",
       "    }\n",
       "\n",
       "    .dataframe thead th {\n",
       "        text-align: right;\n",
       "    }\n",
       "</style>\n",
       "<table border=\"1\" class=\"dataframe\">\n",
       "  <thead>\n",
       "    <tr style=\"text-align: right;\">\n",
       "      <th></th>\n",
       "      <th>casos_confirmados</th>\n",
       "      <th>mortes_confirmadas</th>\n",
       "    </tr>\n",
       "    <tr>\n",
       "      <th>data</th>\n",
       "      <th></th>\n",
       "      <th></th>\n",
       "    </tr>\n",
       "  </thead>\n",
       "  <tbody>\n",
       "    <tr>\n",
       "      <th>2020-01-30</th>\n",
       "      <td>0</td>\n",
       "      <td>0</td>\n",
       "    </tr>\n",
       "    <tr>\n",
       "      <th>2020-01-31</th>\n",
       "      <td>0</td>\n",
       "      <td>0</td>\n",
       "    </tr>\n",
       "    <tr>\n",
       "      <th>2020-02-01</th>\n",
       "      <td>0</td>\n",
       "      <td>0</td>\n",
       "    </tr>\n",
       "    <tr>\n",
       "      <th>2020-02-02</th>\n",
       "      <td>0</td>\n",
       "      <td>0</td>\n",
       "    </tr>\n",
       "    <tr>\n",
       "      <th>2020-02-03</th>\n",
       "      <td>0</td>\n",
       "      <td>0</td>\n",
       "    </tr>\n",
       "  </tbody>\n",
       "</table>\n",
       "</div>"
      ],
      "text/plain": [
       "            casos_confirmados  mortes_confirmadas\n",
       "data                                             \n",
       "2020-01-30                  0                   0\n",
       "2020-01-31                  0                   0\n",
       "2020-02-01                  0                   0\n",
       "2020-02-02                  0                   0\n",
       "2020-02-03                  0                   0"
      ]
     },
     "execution_count": 53,
     "metadata": {},
     "output_type": "execute_result"
    }
   ],
   "source": [
    "df7.head()"
   ]
  },
  {
   "cell_type": "code",
   "execution_count": 57,
   "metadata": {},
   "outputs": [],
   "source": [
    "data = [\n",
    "    go.Bar(x = df7.index, y=df7.casos_confirmados, name=\"Casos Confirmados\"), # Plot do gráfico na vertical de Suspeitos X Estado\n",
    "    go.Bar(x =  df7.index, y=df7.mortes_confirmadas, name=\"Mortes Confirmadas\"),  # Plot do gráfico na vertical Casos X Estado\n",
    "]\n",
    "\n",
    "layout = go.Layout(title=\"Gráfico desde O Primeiro Contágio\") # Configuração do Título do Gráfico"
   ]
  },
  {
   "cell_type": "code",
   "execution_count": 58,
   "metadata": {},
   "outputs": [],
   "source": [
    "fig = go.Figure(data = data, layout = layout)"
   ]
  },
  {
   "cell_type": "code",
   "execution_count": 59,
   "metadata": {},
   "outputs": [
    {
     "data": {
      "text/plain": [
       "'temp-plot.html'"
      ]
     },
     "execution_count": 59,
     "metadata": {},
     "output_type": "execute_result"
    }
   ],
   "source": [
    "pyo.plot(fig) # Plota o Gráfico via Plotly"
   ]
  },
  {
   "cell_type": "code",
   "execution_count": null,
   "metadata": {},
   "outputs": [],
   "source": []
  }
 ],
 "metadata": {
  "kernelspec": {
   "display_name": "Python 3",
   "language": "python",
   "name": "python3"
  },
  "language_info": {
   "codemirror_mode": {
    "name": "ipython",
    "version": 3
   },
   "file_extension": ".py",
   "mimetype": "text/x-python",
   "name": "python",
   "nbconvert_exporter": "python",
   "pygments_lexer": "ipython3",
   "version": "3.7.6"
  }
 },
 "nbformat": 4,
 "nbformat_minor": 4
}
